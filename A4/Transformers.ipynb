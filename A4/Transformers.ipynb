{
 "cells": [
  {
   "cell_type": "markdown",
   "metadata": {
    "id": "0e2e14c4"
   },
   "source": "# 5-2: Transformers",
   "id": "0e2e14c4"
  },
  {
   "cell_type": "markdown",
   "metadata": {
    "id": "819e7379"
   },
   "source": [
    "### Transformers ([Attention is all you need](https://arxiv.org/pdf/1706.03762.pdf))\n",
    "\n",
    "To this point we have seen RNNs, which excel at sequence to sequence task but have two major drawbacks.\n",
    "First, they can suffer from vanishing gradients for long sequences.\n",
    "Second, they can take a long time to train due to sequential dependencies between hidden states which does not take advantage of the massively parallel architecture of modern GPUs.\n",
    "The first issue is largely addressed by alternate RNN architectures (LSTMs, GRUs) but not the second.\n",
    "\n",
    "Transformers solve these problems up to a certain extent by enabling to process the input parallely during training with long sequences. Though the computation is quadratic with respect to the input sequence length, it still managable with modern GPUs.\n",
    "\n",
    "In this notebook, we will implement Transformers model step-by-step by referencing the original paper, [Attention is all you need](https://arxiv.org/pdf/1706.03762.pdf). We will also use a toy dataset to solve a vector-to-vector problem which is a subset of sequence-to-sequence problem."
   ],
   "id": "819e7379"
  },
  {
   "cell_type": "markdown",
   "metadata": {
    "id": "e8848024"
   },
   "source": [
    "## Table of Contents\n",
    "\n",
    "This assignment has 4 parts. In the class we learned about Encoder based Transformers but often we use an Encoder and a Decoder for sequence to sequence task. In this notebook, you will learn how to implement an Encoder-Decoder based Transformers in a step-by-step manner. We will implement a simpler version here, where the simplicity arise from the task that we are solving, which is a vector-to-vector task. This essentially means that the length of input and output sequence is **fixed** and we dont have to worry about variable length of sequences. This makes the implementation simpler.\n",
    "\n",
    "1. **Part I (Preparation)**: We will preprocess a toy dataset that consists of input arithmetic expression and an output result of the expression\n",
    "1. **Part II (Implement Transformer blocks)**: we will look how to implement building blocks of a Transformer. It will consist of following blocks\n",
    "   1. MultiHeadAttention\n",
    "   2. FeedForward\n",
    "   3. LayerNorm\n",
    "   4. Encoder Block\n",
    "   5. Decoder Block\n",
    "1. **Part III (Data Loading)**: We will use the preprocessing functions in part I and the positional encoding module to construct the Dataloader.\n",
    "1. **Part IV (Train a model)**: In the last part we will look at how to fit the implemented Transformer model to the toy dataset.\n",
    "\n",
    "You can run all things on CPU till part 3. Part 4 requires GPU and while changing the runtime for this part, you would also have to run all the previous parts as part 4 has dependency on previous parts."
   ],
   "id": "e8848024"
  },
  {
   "cell_type": "markdown",
   "metadata": {
    "id": "3e1c7486"
   },
   "source": [
    "# Part I. Preparation"
   ],
   "id": "3e1c7486"
  },
  {
   "cell_type": "markdown",
   "metadata": {
    "id": "0bdbbed0"
   },
   "source": "Before getting started we need to run some boilerplate code to set up our environment. You\"ll need to rerun this setup code each time you start the notebook.",
   "id": "0bdbbed0"
  },
  {
   "cell_type": "code",
   "execution_count": 3,
   "metadata": {
    "id": "1e1beb7a",
    "colab": {
     "base_uri": "https://localhost:8080/"
    },
    "executionInfo": {
     "status": "ok",
     "timestamp": 1723179183134,
     "user_tz": -540,
     "elapsed": 5,
     "user": {
      "displayName": "정화식",
      "userId": "11198258190229176580"
     }
    },
    "outputId": "b8a22bb1-bfc9-4819-e12b-cf50fbfa4f0d"
   },
   "outputs": [
    {
     "output_type": "stream",
     "name": "stdout",
     "text": [
      "['two_digit_op.json', 'a5_helper.py', 'pytorch_autograd_and_nn.ipynb', 'rnn_lstm_captioning.py', 'rnn_lstm_attention_submission.pt', 'rnn_lstm_captioning.ipynb', '__pycache__', 'eecs598', 'transformer.pt', 'Visual Transformer', 'Transformers.ipynb', 'transformers123.py']\n"
     ]
    }
   ],
   "source": [
    "import os\n",
    "\n",
    "ROOT_PATH = os.getcwd()\n",
    "print(ROOT_PATH)\n",
    "PROJECT_PATH = os.path.join(ROOT_PATH)\n",
    "print(os.listdir(PROJECT_PATH))"
   ],
   "id": "1e1beb7a"
  },
  {
   "cell_type": "code",
   "execution_count": 4,
   "metadata": {
    "id": "ac76ec4e",
    "colab": {
     "base_uri": "https://localhost:8080/"
    },
    "executionInfo": {
     "status": "ok",
     "timestamp": 1723179188200,
     "user_tz": -540,
     "elapsed": 5068,
     "user": {
      "displayName": "정화식",
      "userId": "11198258190229176580"
     }
    },
    "outputId": "f2be0a93-b57f-41ea-b999-017120dfce79"
   },
   "outputs": [
    {
     "output_type": "stream",
     "name": "stdout",
     "text": [
      "Hello from transformers.py!\n",
      "transformers.py last edited on Thu Jun 13 04:08:57 2024\n"
     ]
    }
   ],
   "source": [
    "import os\n",
    "import time\n",
    "from transformers123 import hello_transformers\n",
    "\n",
    "\n",
    "os.environ[\"TZ\"] = \"US/Eastern\"\n",
    "time.tzset()\n",
    "hello_transformers()\n",
    "\n",
    "transformers_path = os.path.join(PROJECT_PATH, \"transformers123.py\")\n",
    "transformers_edit_time = time.ctime(os.path.getmtime(transformers_path))\n",
    "print(\"transformers.py last edited on %s\" % transformers_edit_time)"
   ],
   "id": "ac76ec4e"
  },
  {
   "cell_type": "code",
   "execution_count": 5,
   "metadata": {
    "id": "2cbf5f86",
    "executionInfo": {
     "status": "ok",
     "timestamp": 1723179193044,
     "user_tz": -540,
     "elapsed": 4846,
     "user": {
      "displayName": "정화식",
      "userId": "11198258190229176580"
     }
    }
   },
   "outputs": [],
   "source": [
    "import torch\n",
    "import torch.nn.functional as F\n",
    "from torch import Tensor\n",
    "from torch import nn\n",
    "\n",
    "import torch\n",
    "\n",
    "from torch import nn\n",
    "import torch.nn.functional as F\n",
    "\n",
    "from eecs598.utils import (\n",
    "    reset_seed,\n",
    "    tensor_to_image,\n",
    "    attention_visualizer,\n",
    ")\n",
    "from eecs598.grad import rel_error, compute_numeric_gradient\n",
    "import matplotlib.pyplot as plt\n",
    "import time\n",
    "from IPython.display import Image\n",
    "\n",
    "\n",
    "# for plotting\n",
    "%matplotlib inline\n",
    "plt.rcParams[\"figure.figsize\"] = (10.0, 8.0)  # set default size of plots\n",
    "plt.rcParams[\"image.interpolation\"] = \"nearest\"\n",
    "plt.rcParams[\"image.cmap\"] = \"gray\""
   ],
   "id": "2cbf5f86"
  },
  {
   "cell_type": "markdown",
   "metadata": {
    "id": "b807888a"
   },
   "source": [
    "We will use the GPU to accelerate our computation. Run this cell to make sure you are using a GPU.\n",
    "\n",
    "We will be using `torch.float = torch.float32` for data and `torch.long = torch.int64` for labels.\n",
    "\n",
    "Please refer to https://pytorch.org/docs/stable/tensor_attributes.html#torch-dtype for more details about data types."
   ],
   "id": "b807888a"
  },
  {
   "cell_type": "code",
   "execution_count": 6,
   "metadata": {
    "id": "0150e9a5",
    "executionInfo": {
     "status": "ok",
     "timestamp": 1723179193044,
     "user_tz": -540,
     "elapsed": 4,
     "user": {
      "displayName": "정화식",
      "userId": "11198258190229176580"
     }
    },
    "outputId": "09edca17-4a0e-4b69-f221-03f8c57a53bf",
    "colab": {
     "base_uri": "https://localhost:8080/"
    }
   },
   "outputs": [
    {
     "output_type": "stream",
     "name": "stdout",
     "text": [
      "Good to go!\n"
     ]
    }
   ],
   "source": [
    "to_float = torch.float\n",
    "to_long = torch.long\n",
    "\n",
    "if torch.cuda.is_available():\n",
    "    print(\"Good to go!\")\n",
    "    DEVICE = torch.device(\"cuda\")\n",
    "else:\n",
    "    print(\"Please set GPU via Edit -> Notebook Settings.\")\n",
    "    DEVICE = torch.device(\"cpu\")"
   ],
   "id": "0150e9a5"
  },
  {
   "cell_type": "markdown",
   "metadata": {
    "id": "5c2bcf33"
   },
   "source": [
    "### Load the toy data"
   ],
   "id": "5c2bcf33"
  },
  {
   "cell_type": "markdown",
   "metadata": {
    "id": "16bf6435"
   },
   "source": [
    "As Transformers perform very well on sequence to sequence task, we will implement it on a toy task of Arithmetic operations. We will use transformer models to perform addition and subtraction of two integers, where the absolute value of an integer is at most 50. A simple example is to perform the computation `-5 + 2` using a Transformer model and getting the corect result as `-3`. As there can be multiple ways to solve this problem, we will see how we can pose this as a sequence to sequence problem and solve it using Transformers model. Note that we had to reduce the complexity of the problem to make the Transformer work within the constrainted resources of Colab.\n",
    "\n",
    "Lets take a look at the data first:"
   ],
   "id": "16bf6435"
  },
  {
   "cell_type": "code",
   "execution_count": 7,
   "metadata": {
    "id": "3634d982",
    "executionInfo": {
     "status": "ok",
     "timestamp": 1723179195926,
     "user_tz": -540,
     "elapsed": 2884,
     "user": {
      "displayName": "정화식",
      "userId": "11198258190229176580"
     }
    }
   },
   "outputs": [],
   "source": [
    "from a5_helper import get_toy_data\n",
    "\n",
    "# load the data using helper function\n",
    "data = get_toy_data(os.path.join(PROJECT_PATH,\"two_digit_op.json\"))"
   ],
   "id": "3634d982"
  },
  {
   "cell_type": "markdown",
   "metadata": {
    "id": "3f0c8b22"
   },
   "source": [
    "### Looking at the first four examples\n",
    "\n",
    "Below are the first four samples in the data"
   ],
   "id": "3f0c8b22"
  },
  {
   "cell_type": "code",
   "execution_count": 8,
   "metadata": {
    "id": "d0f9a602",
    "colab": {
     "base_uri": "https://localhost:8080/"
    },
    "executionInfo": {
     "status": "ok",
     "timestamp": 1723179195927,
     "user_tz": -540,
     "elapsed": 6,
     "user": {
      "displayName": "정화식",
      "userId": "11198258190229176580"
     }
    },
    "outputId": "dfef135b-8489-4bb8-e088-a896660e75a6"
   },
   "outputs": [
    {
     "output_type": "stream",
     "name": "stdout",
     "text": [
      "Expression: BOS NEGATIVE 30 subtract NEGATIVE 34 EOS Output: BOS POSITIVE 04 EOS\n",
      "Expression: BOS NEGATIVE 34 add NEGATIVE 15 EOS Output: BOS NEGATIVE 49 EOS\n",
      "Expression: BOS NEGATIVE 28 add NEGATIVE 36 EOS Output: BOS NEGATIVE 64 EOS\n",
      "Expression: BOS POSITIVE 00 subtract POSITIVE 17 EOS Output: BOS NEGATIVE 17 EOS\n"
     ]
    }
   ],
   "source": [
    "num_examples = 4\n",
    "for q, a in zip(\n",
    "    data[\"inp_expression\"][:num_examples],\n",
    "    data[\"out_expression\"][:num_examples]\n",
    "    ):\n",
    "  print(\"Expression: \" + q + \" Output: \" + a)"
   ],
   "id": "d0f9a602"
  },
  {
   "cell_type": "markdown",
   "metadata": {
    "id": "bc93f275"
   },
   "source": [
    "## What do these examples mean:\n",
    "\n",
    "Lets look at first and third examples here and understand what they represent:\n",
    "\n",
    "- Expression: `BOS NEGATIVE 30 subtract NEGATIVE 34 EOS` Output: `BOS POSITIVE 04 EOS`: The expression here is $(-30) - (-34)$. There are two notions of the symbol `+` here: one is to denote the sign of the number and other is the operation of addition between two integers. To simplify the problem for the neural network, we have denoted them with different text tokens. The ouput of $(-30) - (-34)$ is $+4$. Here `BOS` and `EOS` refer to begining of sequence and end of sequence\n",
    "- Similarly, the second expression, `BOS NEGATIVE 34 add NEGATIVE 15 EOS` Output: `BOS NEGATIVE 49 EOS` means that we are doing the computation as $(-34) + (-15)$. As above, the symbol `-` here represents two things: first is the sign of an integer and second is the operation between two integers. Again, we have represented with different tokens to simplify the problem for the neural network. The output here is -49. Here `BOS` and `EOS` refer to begining of sequence and end of sequence\n",
    "\n",
    "Now that we have a grasp on what is the data, lets head to preprocess the data, as the neural networks don't really understand strings, we need to represent them as numbers.\n",
    "\n",
    "## Pre-processing the data\n",
    "We need to convert the raw input sequence into a format that can be processed with a neural network.\n",
    "Concretely, we need to convert a human-readable string (e.g. `BOS NEGATIVE 30 subtract NEGATIVE 34 EOS`) into a sequence of **tokens**, each of which will be an integer.\n",
    "The process of converting an input string into a sequence of tokens is known as **tokenization**.\n",
    "\n",
    "Before we can tokenize any particular sequence, we first need to build a **vocabulary**;\n",
    "this is an exhaustive list of all tokens that appear in our dataset, and a mapping from each token to a unique integer value.\n",
    "In our case, our vocabulary with consist of 16 elements: one entry for each digit `0` to `9`, two tokens to represent the sign of a number (`POSITIVE` and `NEGATIVE`), two tokens representing the addition and subtraction operations (`add`, and `subtract`), and finally two special tokens representing the start and end of the sequence (`BOS`, `EOS`).\n",
    "\n",
    "We typically represent the vocabulary with a pair of data structures.\n",
    "First is a list of all the string tokens (`vocab` below), such that `vocab[i] = s` means that the string `s` has been assigned the integer value `i`. This allows us to look up the string associated with any numeric index `i`.\n",
    "We also need a data structure that enables us to map in the other direction: given a string `s`, find the index `i` to which it has been assigned. This is typically represented as a hash map (`dict` object in Python) whose keys are strings and whose values are the indices assigned to those strings.\n",
    "You will implement the function `generate_token_dict` that inputs the list `vocab` and returns a dict `convert_str_to_token` giving this mapping.\n",
    "\n",
    "Once you have built the vocab, then you can implement the function `preprocess_input_sequence` which uses the vocab data structures to convert an input string into a list of integer tokens."
   ],
   "id": "bc93f275"
  },
  {
   "cell_type": "code",
   "execution_count": 9,
   "metadata": {
    "id": "e87a7b85",
    "executionInfo": {
     "status": "ok",
     "timestamp": 1723179195927,
     "user_tz": -540,
     "elapsed": 4,
     "user": {
      "displayName": "정화식",
      "userId": "11198258190229176580"
     }
    }
   },
   "outputs": [],
   "source": [
    "# Create vocab\n",
    "SPECIAL_TOKENS = [\"POSITIVE\", \"NEGATIVE\", \"add\", \"subtract\", \"BOS\", \"EOS\"]\n",
    "vocab = [\"0\", \"1\", \"2\", \"3\", \"4\", \"5\", \"6\", \"7\", \"8\", \"9\"] + SPECIAL_TOKENS"
   ],
   "id": "e87a7b85"
  },
  {
   "cell_type": "markdown",
   "metadata": {
    "id": "066cd35e"
   },
   "source": [
    "To generate the hash map and then process the input string using them, complete the `generate_token_dict`, `prepocess_input_sequence` functions in the python files for this exercise:\n",
    "\n",
    "You should see exact zero errors here"
   ],
   "id": "066cd35e"
  },
  {
   "cell_type": "code",
   "execution_count": 10,
   "metadata": {
    "id": "7beaeebe-76ac-4e59-a244-250c5a18637b",
    "colab": {
     "base_uri": "https://localhost:8080/"
    },
    "executionInfo": {
     "status": "ok",
     "timestamp": 1723179195927,
     "user_tz": -540,
     "elapsed": 4,
     "user": {
      "displayName": "정화식",
      "userId": "11198258190229176580"
     }
    },
    "outputId": "e29e23e1-8848-47f6-d66f-b27b4baf74e5"
   },
   "outputs": [
    {
     "output_type": "stream",
     "name": "stdout",
     "text": [
      "Dictionary created successfully!\n"
     ]
    }
   ],
   "source": [
    "from transformers123 import generate_token_dict\n",
    "\n",
    "convert_str_to_tokens = generate_token_dict(vocab)\n",
    "\n",
    "try:\n",
    "    assert convert_str_to_tokens[\"0\"] == 0\n",
    "except:\n",
    "    print(\"The first element does not map to 0. Please check the implementation\")\n",
    "\n",
    "try:\n",
    "    assert convert_str_to_tokens[\"EOS\"] == 15\n",
    "except:\n",
    "    print(\"The last element does not map to 2004. Please check the implementation\")\n",
    "\n",
    "print(\"Dictionary created successfully!\")"
   ],
   "id": "7beaeebe-76ac-4e59-a244-250c5a18637b"
  },
  {
   "cell_type": "code",
   "execution_count": 11,
   "metadata": {
    "id": "5b6e4fca",
    "colab": {
     "base_uri": "https://localhost:8080/"
    },
    "executionInfo": {
     "status": "ok",
     "timestamp": 1723179195927,
     "user_tz": -540,
     "elapsed": 3,
     "user": {
      "displayName": "정화식",
      "userId": "11198258190229176580"
     }
    },
    "outputId": "500d4959-0961-4137-fce0-23caa4b85042"
   },
   "outputs": [
    {
     "output_type": "stream",
     "name": "stdout",
     "text": [
      "preprocess input token error 1:  0.0\n",
      "preprocess input token error 2:  0.0\n",
      "preprocess input token error 3:  0.0\n",
      "preprocess input token error 4:  0.0\n",
      "\n",
      "\n",
      "preprocess output token error 1:  0.0\n",
      "preprocess output token error 2:  0.0\n",
      "preprocess output token error 3:  0.0\n",
      "preprocess output token error 4:  0.0\n"
     ]
    }
   ],
   "source": [
    "from transformers123 import prepocess_input_sequence\n",
    "\n",
    "convert_str_to_tokens = generate_token_dict(vocab)\n",
    "\n",
    "ex1_in = \"BOS POSITIVE 0333 add POSITIVE 0696 EOS\"\n",
    "ex2_in = \"BOS POSITIVE 0673 add POSITIVE 0675 EOS\"\n",
    "ex3_in = \"BOS NEGATIVE 0286 subtract NEGATIVE 0044 EOS\"\n",
    "ex4_in = \"BOS NEGATIVE 0420 add POSITIVE 0342 EOS\"\n",
    "\n",
    "ex1_out = \"BOS POSITIVE 1029 EOS\"\n",
    "ex2_out = \"BOS POSITIVE 1348 EOS\"\n",
    "ex3_out = \"BOS NEGATIVE 0242 EOS\"\n",
    "ex4_out = \"BOS NEGATIVE 0078 EOS\"\n",
    "\n",
    "ex1_inp_preprocessed = torch.tensor(\n",
    "    prepocess_input_sequence(ex1_in, convert_str_to_tokens, SPECIAL_TOKENS)\n",
    ")\n",
    "ex2_inp_preprocessed = torch.tensor(\n",
    "    prepocess_input_sequence(ex2_in, convert_str_to_tokens, SPECIAL_TOKENS)\n",
    ")\n",
    "ex3_inp_preprocessed = torch.tensor(\n",
    "    prepocess_input_sequence(ex3_in, convert_str_to_tokens, SPECIAL_TOKENS)\n",
    ")\n",
    "ex4_inp_preprocessed = torch.tensor(\n",
    "    prepocess_input_sequence(ex4_in, convert_str_to_tokens, SPECIAL_TOKENS)\n",
    ")\n",
    "\n",
    "ex1_processed_expected = torch.tensor([14, 10, 0, 3, 3, 3, 12, 10, 0, 6, 9, 6, 15])\n",
    "ex2_processed_expected = torch.tensor([14, 10, 0, 6, 7, 3, 12, 10, 0, 6, 7, 5, 15])\n",
    "ex3_processed_expected = torch.tensor([14, 11, 0, 2, 8, 6, 13, 11, 0, 0, 4, 4, 15])\n",
    "ex4_processed_expected = torch.tensor([14, 11, 0, 4, 2, 0, 12, 10, 0, 3, 4, 2, 15])\n",
    "\n",
    "ex1_out = torch.tensor(\n",
    "    prepocess_input_sequence(ex1_out, convert_str_to_tokens, SPECIAL_TOKENS)\n",
    ")\n",
    "ex2_out = torch.tensor(\n",
    "    prepocess_input_sequence(ex2_out, convert_str_to_tokens, SPECIAL_TOKENS)\n",
    ")\n",
    "ex3_out = torch.tensor(\n",
    "    prepocess_input_sequence(ex3_out, convert_str_to_tokens, SPECIAL_TOKENS)\n",
    ")\n",
    "ex4_out = torch.tensor(\n",
    "    prepocess_input_sequence(ex4_out, convert_str_to_tokens, SPECIAL_TOKENS)\n",
    ")\n",
    "\n",
    "ex1_out_expected = torch.tensor([14, 10, 1, 0, 2, 9, 15])\n",
    "ex2_out_expected = torch.tensor([14, 10, 1, 3, 4, 8, 15])\n",
    "ex3_out_expected = torch.tensor([14, 11, 0, 2, 4, 2, 15])\n",
    "ex4_out_expected = torch.tensor([14, 11, 0, 0, 7, 8, 15])\n",
    "\n",
    "print(\n",
    "    \"preprocess input token error 1: \",\n",
    "    rel_error(ex1_processed_expected, ex1_inp_preprocessed),\n",
    ")\n",
    "print(\n",
    "    \"preprocess input token error 2: \",\n",
    "    rel_error(ex2_processed_expected, ex2_inp_preprocessed),\n",
    ")\n",
    "print(\n",
    "    \"preprocess input token error 3: \",\n",
    "    rel_error(ex3_processed_expected, ex3_inp_preprocessed),\n",
    ")\n",
    "print(\n",
    "    \"preprocess input token error 4: \",\n",
    "    rel_error(ex4_processed_expected, ex4_inp_preprocessed),\n",
    ")\n",
    "print(\"\\n\")\n",
    "print(\"preprocess output token error 1: \", rel_error(ex1_out_expected, ex1_out))\n",
    "print(\"preprocess output token error 2: \", rel_error(ex2_out_expected, ex2_out))\n",
    "print(\"preprocess output token error 3: \", rel_error(ex3_out_expected, ex3_out))\n",
    "print(\"preprocess output token error 4: \", rel_error(ex4_out_expected, ex4_out))"
   ],
   "id": "5b6e4fca"
  },
  {
   "cell_type": "markdown",
   "metadata": {
    "id": "58aed0ae"
   },
   "source": [
    "# Part II.  Implementing Transformer building blocks\n",
    "\n",
    "Now that we have looked at the data, the task is to predict the output sequence (final result), something like `NEGATIVE 42` given the input sequence (of the arthmetic expression), something like `NEGATIVE 48 subtract NEGATIVE 6`.\n",
    "\n",
    "In this section, we will look at implementing various building blocks used for implementing Transformer model. This will then be used to make Transformer encoder and decoder, which will ultimately lead us to implementing the complete Transfromer model.\n",
    "Each block will be implemented as a subclass of `nn.Module`; we will use PyTorch autograd to compute gradients, so we don't need to implement backward passes manually.\n",
    "\n",
    "We will implement the following blocks, by referencing the original paper:\n",
    "\n",
    "1. MultHeadAttention Block\n",
    "2. FeedForward Block\n",
    "3. Layer Normalization\n",
    "4. Positional Encoding block\n",
    "\n",
    "We will then use these building blocks, combined with the input embedding layer to construct the Transformer Encoder and Decoder. We will start with MultiHeadAttention block, FeedForward Block, and Layer Normalization and look at Position encoding and input embedding later.\n",
    "\n",
    "**Note:** One thing to keep in mind while implementing these blocks is that the shape of input and output Tensor from all these blocks we will be same. It always helps by checking the shapes of input and output tensors."
   ],
   "id": "58aed0ae"
  },
  {
   "cell_type": "markdown",
   "metadata": {
    "id": "823cc3b9-d483-4d42-a495-eb432d1417e1"
   },
   "source": [
    "### MultiHeadAttention Block"
   ],
   "id": "823cc3b9-d483-4d42-a495-eb432d1417e1"
  },
  {
   "cell_type": "markdown",
   "metadata": {
    "id": "34036573-905d-44f0-8094-71539563ae24"
   },
   "source": [
    "The image below highlights the MultiHead Attention block inside the Transformer model.\n",
    "<img src=\"https://drive.google.com/uc?export=view&id=1DwU3BJsA0mUWTWlXNtNolB4oc5K4Z9PE\" alt=\"multihead_attention\" width=\"80%\">"
   ],
   "id": "34036573-905d-44f0-8094-71539563ae24"
  },
  {
   "cell_type": "markdown",
   "metadata": {
    "id": "5c56e134"
   },
   "source": [
    "Transformers are sequence to sequence networks i.e., we get a sequence (for example a sentence in English) and get output a sequence (for example a sentence in Spanish). The input sequence are first transformed into embeddings as discussed in the RNN section and these embeddings are then passed through a Positional Encoding block. The resultant Embeddings are then transformed into three vectors, *query*, *key*, and *value* using learnable weights and we then use a Transformer Encoder and Decoder to get the final output sequence. For this section, we will assume that we have the *query*, *key*, and the *value* vector and work on them.\n",
    "\n",
    "In the above figure, you can see that the Encoder has multihead attention block is right after these blocks. There is also a masked multihead attention in the deocoder but we will see that it's easy to implement the masked attention when we have implemented the basic MultiHeadAttention block.\n",
    "To implement the basic MultiheadAttention block, we will first implement the Self Attention block and see that MultiHeadAttention can be implemented as a direct extension of the Self Attention block.\n",
    "\n",
    "## Self Attention Block\n",
    "\n",
    "Taking inspiration from information retreival paradigm, Transformers have this notion of *query*, *key*, and *value* where given a *query* we try extract information from *key*-*value* pairs. Moving along those lines, we perform this mathematically by taking the weighted sum of *values* for each *query*, where weight is computed by dot product of *query* and the *key*. More precisely, for each query we compute the dot product with all the keys and then use the scalar output of those dot products as weights to find the weighted sum of *values*. Note that before finding the weighted sum, we also apply softmax function to the weights vector. Lets start with implementing of Attention Block that takes input as *query*, *key*, and *value* vectors and returns a Tensor, that is weighted sum of the *values*.\n",
    "\n",
    "For this section, you need to implement three functions, `scaled_dot_product_two_loop_single`, `scaled_dot_product_two_loop_batch`, and `scaled_dot_product_no_loop_batch` inside the transformers.py file. This might look very similar to the `dot_product_attention` in the RNN notebook but there is a subtle difference in the inputs. You should see the errors of the order less than 1e-5"
   ],
   "id": "5c56e134"
  },
  {
   "cell_type": "code",
   "execution_count": 12,
   "metadata": {
    "id": "747894ed",
    "executionInfo": {
     "status": "ok",
     "timestamp": 1723179195927,
     "user_tz": -540,
     "elapsed": 2,
     "user": {
      "displayName": "정화식",
      "userId": "11198258190229176580"
     }
    }
   },
   "outputs": [],
   "source": [
    "from transformers123 import (\n",
    "    scaled_dot_product_two_loop_single,\n",
    "    scaled_dot_product_two_loop_batch,\n",
    "    scaled_dot_product_no_loop_batch,\n",
    ")"
   ],
   "id": "747894ed"
  },
  {
   "cell_type": "code",
   "execution_count": 13,
   "metadata": {
    "id": "7341f6ff",
    "colab": {
     "base_uri": "https://localhost:8080/"
    },
    "executionInfo": {
     "status": "ok",
     "timestamp": 1723179196429,
     "user_tz": -540,
     "elapsed": 504,
     "user": {
      "displayName": "정화식",
      "userId": "11198258190229176580"
     }
    },
    "outputId": "27643346-3c2e-4524-b879-21c6162dc3e8"
   },
   "outputs": [
    {
     "output_type": "stream",
     "name": "stdout",
     "text": [
      "sacled_dot_product_two_loop_single error:  5.196977309676265e-06\n"
     ]
    },
    {
     "output_type": "stream",
     "name": "stderr",
     "text": [
      "/content/drive/My Drive/Deep Learning for Computer Vision/A4/transformers123.py:135: UserWarning: Implicit dimension choice for softmax has been deprecated. Change the call to include dim=X as an argument.\n",
      "  attn_weights = F.softmax(similarity_vector)\n"
     ]
    }
   ],
   "source": [
    "N = 2  # Number of sentences\n",
    "K = 5  # Number of words in a sentence\n",
    "M = 4  # feature dimension of each word embedding\n",
    "\n",
    "query = torch.linspace(-0.4, 0.6, steps=K * M).reshape(K, M)  # **to_double_cuda\n",
    "key = torch.linspace(-0.8, 0.5, steps=K * M).reshape(K, M)  # **to_double_cuda\n",
    "value = torch.linspace(-0.3, 0.8, steps=K * M).reshape(K, M)  # *to_double_cuda\n",
    "\n",
    "y = scaled_dot_product_two_loop_single(query, key, value)\n",
    "y_expected = torch.tensor(\n",
    "    [\n",
    "        [0.08283, 0.14073, 0.19862, 0.25652],\n",
    "        [0.13518, 0.19308, 0.25097, 0.30887],\n",
    "        [0.18848, 0.24637, 0.30427, 0.36216],\n",
    "        [0.24091, 0.29881, 0.35670, 0.41460],\n",
    "        [0.29081, 0.34871, 0.40660, 0.46450],\n",
    "    ]\n",
    ").to(torch.float32)\n",
    "print(\"sacled_dot_product_two_loop_single error: \", rel_error(y_expected, y))"
   ],
   "id": "7341f6ff"
  },
  {
   "cell_type": "code",
   "execution_count": 14,
   "metadata": {
    "id": "79b11340",
    "colab": {
     "base_uri": "https://localhost:8080/"
    },
    "executionInfo": {
     "status": "ok",
     "timestamp": 1723179197779,
     "user_tz": -540,
     "elapsed": 2,
     "user": {
      "displayName": "정화식",
      "userId": "11198258190229176580"
     }
    },
    "outputId": "01692e36-805f-42cc-f0e6-b09f3e904564"
   },
   "outputs": [
    {
     "output_type": "stream",
     "name": "stdout",
     "text": [
      "scaled_dot_product_two_loop_batch error:  4.069603357824827e-06\n"
     ]
    },
    {
     "output_type": "stream",
     "name": "stderr",
     "text": [
      "/content/drive/My Drive/Deep Learning for Computer Vision/A4/transformers123.py:188: UserWarning: Implicit dimension choice for softmax has been deprecated. Change the call to include dim=X as an argument.\n",
      "  attn_weights = F.softmax(sim) # (K,)\n"
     ]
    }
   ],
   "source": [
    "N = 2  # Number of sentences\n",
    "K = 5  # Number of words in a sentence\n",
    "M = 4  # feature dimension of each word embedding\n",
    "\n",
    "query = torch.linspace(-0.4, 0.6, steps=N * K * M).reshape(N, K, M)  # **to_double_cuda\n",
    "key = torch.linspace(-0.8, 0.5, steps=N * K * M).reshape(N, K, M)  # **to_double_cuda\n",
    "value = torch.linspace(-0.3, 0.8, steps=N * K * M).reshape(N, K, M)  # *to_double_cuda\n",
    "\n",
    "y = scaled_dot_product_two_loop_batch(query, key, value)\n",
    "y_expected = torch.tensor(\n",
    "    [\n",
    "        [\n",
    "            [-0.09603, -0.06782, -0.03962, -0.01141],\n",
    "            [-0.08991, -0.06170, -0.03350, -0.00529],\n",
    "            [-0.08376, -0.05556, -0.02735, 0.00085],\n",
    "            [-0.07760, -0.04939, -0.02119, 0.00702],\n",
    "            [-0.07143, -0.04322, -0.01502, 0.01319],\n",
    "        ],\n",
    "        [\n",
    "            [0.49884, 0.52705, 0.55525, 0.58346],\n",
    "            [0.50499, 0.53319, 0.56140, 0.58960],\n",
    "            [0.51111, 0.53931, 0.56752, 0.59572],\n",
    "            [0.51718, 0.54539, 0.57359, 0.60180],\n",
    "            [0.52321, 0.55141, 0.57962, 0.60782],\n",
    "        ],\n",
    "    ]\n",
    ").to(torch.float32)\n",
    "print(\"scaled_dot_product_two_loop_batch error: \", rel_error(y_expected, y))"
   ],
   "id": "79b11340"
  },
  {
   "cell_type": "code",
   "execution_count": 15,
   "metadata": {
    "id": "b13b2d96",
    "colab": {
     "base_uri": "https://localhost:8080/"
    },
    "executionInfo": {
     "status": "ok",
     "timestamp": 1723179199798,
     "user_tz": -540,
     "elapsed": 347,
     "user": {
      "displayName": "정화식",
      "userId": "11198258190229176580"
     }
    },
    "outputId": "d3742c43-3c64-4f97-c265-5fa32d0f2265"
   },
   "outputs": [
    {
     "output_type": "stream",
     "name": "stdout",
     "text": [
      "scaled_dot_product_no_loop_batch error:  4.020571992067902e-06\n"
     ]
    }
   ],
   "source": [
    "N = 2  # Number of sentences\n",
    "K = 5  # Number of words in a sentence\n",
    "M = 4  # feature dimension of each word embedding\n",
    "\n",
    "query = torch.linspace(-0.4, 0.6, steps=N * K * M).reshape(N, K, M)  # **to_double_cuda\n",
    "key = torch.linspace(-0.8, 0.5, steps=N * K * M).reshape(N, K, M)  # **to_double_cuda\n",
    "value = torch.linspace(-0.3, 0.8, steps=N * K * M).reshape(N, K, M)  # *to_double_cuda\n",
    "\n",
    "\n",
    "y, _ = scaled_dot_product_no_loop_batch(query, key, value)\n",
    "\n",
    "y_expected = torch.tensor(\n",
    "    [\n",
    "        [\n",
    "            [-0.09603, -0.06782, -0.03962, -0.01141],\n",
    "            [-0.08991, -0.06170, -0.03350, -0.00529],\n",
    "            [-0.08376, -0.05556, -0.02735, 0.00085],\n",
    "            [-0.07760, -0.04939, -0.02119, 0.00702],\n",
    "            [-0.07143, -0.04322, -0.01502, 0.01319],\n",
    "        ],\n",
    "        [\n",
    "            [0.49884, 0.52705, 0.55525, 0.58346],\n",
    "            [0.50499, 0.53319, 0.56140, 0.58960],\n",
    "            [0.51111, 0.53931, 0.56752, 0.59572],\n",
    "            [0.51718, 0.54539, 0.57359, 0.60180],\n",
    "            [0.52321, 0.55141, 0.57962, 0.60782],\n",
    "        ],\n",
    "    ]\n",
    ").to(torch.float32)\n",
    "\n",
    "print(\"scaled_dot_product_no_loop_batch error: \", rel_error(y_expected, y))"
   ],
   "id": "b13b2d96"
  },
  {
   "cell_type": "markdown",
   "metadata": {
    "id": "56e21e2d"
   },
   "source": [
    "## Observing time complexity:\n",
    "\n",
    "As Transformers are infamous for their time complexity that depends on the size of the input sequence.\n",
    "We can verify this now that we have implemented `self_attention_no_loop`.\n",
    "Run the cells below: the first has a sequence length of 256 and the second one has a sequence length of 512. You should roughly be 4 times slower with sequence length 512, hence showing that compleixity of the transformers increase quadratically with resprect to increase in the in sequence length.\n",
    "The `%timeit` lines may take several seconds to run."
   ],
   "id": "56e21e2d"
  },
  {
   "cell_type": "code",
   "execution_count": 16,
   "metadata": {
    "id": "e7d58596",
    "colab": {
     "base_uri": "https://localhost:8080/"
    },
    "executionInfo": {
     "status": "ok",
     "timestamp": 1723179207025,
     "user_tz": -540,
     "elapsed": 5588,
     "user": {
      "displayName": "정화식",
      "userId": "11198258190229176580"
     }
    },
    "outputId": "58ca3ed2-a9cd-4dc6-edbd-50f079ea029f"
   },
   "outputs": [
    {
     "output_type": "stream",
     "name": "stdout",
     "text": [
      "493 ms ± 2.51 ms per loop (mean ± std. dev. of 2 runs, 5 loops each)\n"
     ]
    }
   ],
   "source": [
    "N = 64\n",
    "K = 256  # defines the input sequence length\n",
    "M = emb_size = 2048\n",
    "dim_q = dim_k = 2048\n",
    "query = torch.linspace(-0.4, 0.6, steps=N * K * M).reshape(N, K, M)  # **to_double_cuda\n",
    "key = torch.linspace(-0.8, 0.5, steps=N * K * M).reshape(N, K, M)  # **to_double_cuda\n",
    "value = torch.linspace(-0.3, 0.8, steps=N * K * M).reshape(N, K, M)  # *to_double_cuda\n",
    "\n",
    "%timeit -n 5 -r 2  y = scaled_dot_product_no_loop_batch(query, key, value)"
   ],
   "id": "e7d58596"
  },
  {
   "cell_type": "code",
   "execution_count": 17,
   "metadata": {
    "id": "a85adf69",
    "colab": {
     "base_uri": "https://localhost:8080/"
    },
    "executionInfo": {
     "status": "ok",
     "timestamp": 1723179224736,
     "user_tz": -540,
     "elapsed": 17713,
     "user": {
      "displayName": "정화식",
      "userId": "11198258190229176580"
     }
    },
    "outputId": "11b3aeff-b2e4-449e-b0cf-d865b2a927b9"
   },
   "outputs": [
    {
     "output_type": "stream",
     "name": "stdout",
     "text": [
      "1.7 s ± 298 ms per loop (mean ± std. dev. of 2 runs, 5 loops each)\n"
     ]
    }
   ],
   "source": [
    "N = 64\n",
    "K = 512  # defines the input requence length\n",
    "M = emb_size = 2048\n",
    "dim_q = dim_k = 2048\n",
    "query = torch.linspace(-0.4, 0.6, steps=N * K * M).reshape(N, K, M)  # **to_double_cuda\n",
    "key = torch.linspace(-0.8, 0.5, steps=N * K * M).reshape(N, K, M)  # **to_double_cuda\n",
    "value = torch.linspace(-0.3, 0.8, steps=N * K * M).reshape(N, K, M)  # *to_double_cuda\n",
    "\n",
    "%timeit -n 5 -r 2  y = scaled_dot_product_no_loop_batch(query, key, value)"
   ],
   "id": "a85adf69"
  },
  {
   "cell_type": "markdown",
   "metadata": {
    "id": "9d6e92b0"
   },
   "source": [
    "Now that we have implemented `scaled_dot_product_no_loop_batch`, lets implement `SingleHeadAttention`, that will serve as a building block for the `MultiHeadAttention` block. For this exercise, we have made a `SingleHeadAttention` class that inherits from `nn.module` class of Pytorch. You need to implement the `__init__` and the `forward` functions inside `Transformers.py`"
   ],
   "id": "9d6e92b0"
  },
  {
   "cell_type": "markdown",
   "metadata": {
    "id": "d5af8c01-dc3a-4cca-a479-e07580914e4c"
   },
   "source": [
    "Run the following cells to test your implementation of `SelfAttention` layer. We have also written code to check the backward pass using pytorch autograd API in the following cell. You should expect the error to be less than 1e-5"
   ],
   "id": "d5af8c01-dc3a-4cca-a479-e07580914e4c"
  },
  {
   "cell_type": "code",
   "execution_count": 18,
   "metadata": {
    "id": "113b3bf5",
    "executionInfo": {
     "status": "ok",
     "timestamp": 1723179224736,
     "user_tz": -540,
     "elapsed": 3,
     "user": {
      "displayName": "정화식",
      "userId": "11198258190229176580"
     }
    }
   },
   "outputs": [],
   "source": [
    "from transformers123 import SelfAttention"
   ],
   "id": "113b3bf5"
  },
  {
   "cell_type": "code",
   "execution_count": 19,
   "metadata": {
    "id": "dc3669f2",
    "colab": {
     "base_uri": "https://localhost:8080/"
    },
    "executionInfo": {
     "status": "ok",
     "timestamp": 1723179225211,
     "user_tz": -540,
     "elapsed": 477,
     "user": {
      "displayName": "정화식",
      "userId": "11198258190229176580"
     }
    },
    "outputId": "4a0b88cc-894d-4ad3-d3a9-3fd72c5080da"
   },
   "outputs": [
    {
     "output_type": "stream",
     "name": "stdout",
     "text": [
      "q.weight torch.Size([4, 4])\n",
      "q.bias torch.Size([4])\n",
      "k.weight torch.Size([4, 4])\n",
      "k.bias torch.Size([4])\n",
      "v.weight torch.Size([4, 4])\n",
      "v.bias torch.Size([4])\n",
      "SelfAttention error:  5.567700453666357e-07\n",
      "SelfAttention error:  2.5410489503651006e-06\n"
     ]
    }
   ],
   "source": [
    "reset_seed(0)\n",
    "N = 2\n",
    "K = 4\n",
    "M = emb_size = 4\n",
    "dim_q = dim_k = 4\n",
    "atten_single = SelfAttention(emb_size, dim_q, dim_k)\n",
    "\n",
    "for k, v in atten_single.named_parameters():\n",
    "    print(k, v.shape) # uncomment this to see the weight shape\n",
    "    v.data.copy_(torch.linspace(-1.4, 1.3, steps=v.numel()).reshape(*v.shape))\n",
    "\n",
    "query = torch.linspace(-0.4, 0.6, steps=N * K * M, requires_grad=True).reshape(\n",
    "    N, K, M\n",
    ")  # **to_double_cuda\n",
    "key = torch.linspace(-0.8, 0.5, steps=N * K * M, requires_grad=True).reshape(\n",
    "    N, K, M\n",
    ")  # **to_double_cuda\n",
    "value = torch.linspace(-0.3, 0.8, steps=N * K * M, requires_grad=True).reshape(\n",
    "    N, K, M\n",
    ")  # *to_double_cuda\n",
    "\n",
    "query.retain_grad()\n",
    "key.retain_grad()\n",
    "value.retain_grad()\n",
    "\n",
    "y_expected = torch.tensor(\n",
    "    [\n",
    "        [\n",
    "            [-1.10382, -0.37219, 0.35944, 1.09108],\n",
    "            [-1.45792, -0.50067, 0.45658, 1.41384],\n",
    "            [-1.74349, -0.60428, 0.53493, 1.67414],\n",
    "            [-1.92584, -0.67044, 0.58495, 1.84035],\n",
    "        ],\n",
    "        [\n",
    "            [-4.59671, -1.63952, 1.31767, 4.27486],\n",
    "            [-4.65586, -1.66098, 1.33390, 4.32877],\n",
    "            [-4.69005, -1.67339, 1.34328, 4.35994],\n",
    "            [-4.71039, -1.68077, 1.34886, 4.37848],\n",
    "        ],\n",
    "    ]\n",
    ")\n",
    "\n",
    "dy_expected = torch.tensor(\n",
    "    [\n",
    "        [\n",
    "            [-0.09084, -0.08961, -0.08838, -0.08715],\n",
    "            [0.69305, 0.68366, 0.67426, 0.66487],\n",
    "            [-0.88989, -0.87783, -0.86576, -0.85370],\n",
    "            [0.25859, 0.25509, 0.25158, 0.24808],\n",
    "        ],\n",
    "        [\n",
    "            [-0.05360, -0.05287, -0.05214, -0.05142],\n",
    "            [0.11627, 0.11470, 0.11312, 0.11154],\n",
    "            [-0.01048, -0.01034, -0.01019, -0.01005],\n",
    "            [-0.03908, -0.03855, -0.03802, -0.03749],\n",
    "        ],\n",
    "    ]\n",
    ")\n",
    "\n",
    "y = atten_single(query, key, value)\n",
    "dy = torch.randn(*y.shape)  # , **to_double_cuda\n",
    "\n",
    "y.backward(dy)\n",
    "query_grad = query.grad\n",
    "\n",
    "\n",
    "print(\"SelfAttention error: \", rel_error(y_expected, y))\n",
    "print(\"SelfAttention error: \", rel_error(dy_expected, query_grad))"
   ],
   "id": "dc3669f2"
  },
  {
   "cell_type": "markdown",
   "metadata": {
    "id": "f4b80b79"
   },
   "source": [
    "We have implemented the `SingleHeadAttention` block which brings use very close to implementing `MultiHeadAttention`. We will now see that this can be achieved by manipulating the shapes of input tensors based on number of heads in the Multi-Attention block. We design a network that uses multiple SingleHeadAttention blocks on the same input to compute the output tensors and finally concatenate them to generate a single output. This is not the implementation used in practice as it forces you to initialize multiple layers but we use it here for simplicity. Implement MultiHeadAttention block in the `transformers.py` file by using the SingleHeadAttention block."
   ],
   "id": "f4b80b79"
  },
  {
   "cell_type": "markdown",
   "metadata": {
    "id": "3d530dc6-cf5d-41b9-b62e-71a1095a0f01"
   },
   "source": [
    "Run the following cells to test your `MultiHeadAttention` layer. Again, as `SelfAttention`, we have used pytorch autograd API to test the backward pass. You should expect error values below 1e-5."
   ],
   "id": "3d530dc6-cf5d-41b9-b62e-71a1095a0f01"
  },
  {
   "cell_type": "code",
   "execution_count": 20,
   "metadata": {
    "id": "6da2558e",
    "executionInfo": {
     "status": "ok",
     "timestamp": 1723179225211,
     "user_tz": -540,
     "elapsed": 1,
     "user": {
      "displayName": "정화식",
      "userId": "11198258190229176580"
     }
    }
   },
   "outputs": [],
   "source": [
    "from transformers123 import MultiHeadAttention"
   ],
   "id": "6da2558e"
  },
  {
   "cell_type": "code",
   "execution_count": 21,
   "metadata": {
    "id": "87bf04ff",
    "colab": {
     "base_uri": "https://localhost:8080/"
    },
    "executionInfo": {
     "status": "ok",
     "timestamp": 1723179239758,
     "user_tz": -540,
     "elapsed": 388,
     "user": {
      "displayName": "정화식",
      "userId": "11198258190229176580"
     }
    },
    "outputId": "4d7c4526-d668-48ab-f335-d9dbb74c9083"
   },
   "outputs": [
    {
     "output_type": "stream",
     "name": "stdout",
     "text": [
      "MultiHeadAttention error:  6.577880512731245e-07\n",
      "MultiHeadAttention error:  1.0631412556891023e-06\n"
     ]
    }
   ],
   "source": [
    "reset_seed(0)\n",
    "N = 2\n",
    "num_heads = 2\n",
    "K = 4\n",
    "M = inp_emb_size = 4\n",
    "out_emb_size = 8\n",
    "atten_multihead = MultiHeadAttention(num_heads, inp_emb_size, out_emb_size)\n",
    "\n",
    "for k, v in atten_multihead.named_parameters():\n",
    "    # print(k, v.shape) # uncomment this to see the weight shape\n",
    "    v.data.copy_(torch.linspace(-1.4, 1.3, steps=v.numel()).reshape(*v.shape))\n",
    "\n",
    "query = torch.linspace(-0.4, 0.6, steps=N * K * M, requires_grad=True).reshape(\n",
    "    N, K, M\n",
    ")  # **to_double_cuda\n",
    "key = torch.linspace(-0.8, 0.5, steps=N * K * M, requires_grad=True).reshape(\n",
    "    N, K, M\n",
    ")  # **to_double_cuda\n",
    "value = torch.linspace(-0.3, 0.8, steps=N * K * M, requires_grad=True).reshape(\n",
    "    N, K, M\n",
    ")  # *to_double_cuda\n",
    "\n",
    "query.retain_grad()\n",
    "key.retain_grad()\n",
    "value.retain_grad()\n",
    "\n",
    "y_expected = torch.tensor(\n",
    "    [\n",
    "        [\n",
    "            [-0.23104, 0.50132, 1.23367, 1.96603],\n",
    "            [0.68324, 1.17869, 1.67413, 2.16958],\n",
    "            [1.40236, 1.71147, 2.02058, 2.32969],\n",
    "            [1.77330, 1.98629, 2.19928, 2.41227],\n",
    "        ],\n",
    "        [\n",
    "            [6.74946, 5.67302, 4.59659, 3.52015],\n",
    "            [6.82813, 5.73131, 4.63449, 3.53767],\n",
    "            [6.86686, 5.76001, 4.65315, 3.54630],\n",
    "            [6.88665, 5.77466, 4.66268, 3.55070],\n",
    "        ],\n",
    "    ]\n",
    ")\n",
    "dy_expected = torch.tensor(\n",
    "    [[[ 0.56268,  0.55889,  0.55510,  0.55131],\n",
    "         [ 0.43286,  0.42994,  0.42702,  0.42411],\n",
    "         [ 2.29865,  2.28316,  2.26767,  2.25218],\n",
    "         [ 0.49172,  0.48841,  0.48509,  0.48178]],\n",
    "\n",
    "        [[ 0.25083,  0.24914,  0.24745,  0.24576],\n",
    "         [ 0.14949,  0.14849,  0.14748,  0.14647],\n",
    "         [-0.03105, -0.03084, -0.03063, -0.03043],\n",
    "         [-0.02082, -0.02068, -0.02054, -0.02040]]]\n",
    ")\n",
    "\n",
    "y = atten_multihead(query, key, value)\n",
    "dy = torch.randn(*y.shape)  # , **to_double_cuda\n",
    "\n",
    "y.backward(dy)\n",
    "query_grad = query.grad\n",
    "print(\"MultiHeadAttention error: \", rel_error(y_expected, y))\n",
    "print(\"MultiHeadAttention error: \", rel_error(dy_expected, query_grad))"
   ],
   "id": "87bf04ff"
  },
  {
   "cell_type": "markdown",
   "metadata": {
    "id": "9be6374e-a968-4b56-a1e4-31d745330b62"
   },
   "source": [
    "### LayerNormalization"
   ],
   "id": "9be6374e-a968-4b56-a1e4-31d745330b62"
  },
  {
   "cell_type": "markdown",
   "metadata": {
    "id": "1a71878d-f75b-4412-ad89-5cde3100f669"
   },
   "source": [
    "In the follwing image we have highlighted the portion where LayerNorm has been used in the Transformer model. Note that in the architecture diagram it's written Add & Norm but we will implement The Norm layer for now and implement the Add part in a different manner.\n",
    "<img src=\"https://drive.google.com/uc?export=view&id=1baDniYuRzsEGnDegAFiARMhoxJjKSF2r\" alt=\"Layer_norm\" width=\"80%\">"
   ],
   "id": "1a71878d-f75b-4412-ad89-5cde3100f669"
  },
  {
   "cell_type": "markdown",
   "metadata": {
    "id": "524ff12e"
   },
   "source": [
    "We implemented BatchNorm while working\n",
    "with CNNs. **One of the problems of BatchNorm is its dependency on the the complete batch which might not give good results when the batch size is small.** Ba et al proposed `LayerNormalization` that takes into account these problems and has become a standard in sequence-to-sequence tasks. In this section, we will implement `LayerNormalization`. Another nice quality of `LayerNormalization` is that as it depends on individual time steps or each element of the sequence, it can be parallelized and the test time runs in a similar manner hence making it better implementation wise. Again, you have to only implement the forward pass and the backward pass will be taken care by Pytorch autograd. Implement the `LayerNormalization` class in `transformers.py`, you should expect the error below 1e-5"
   ],
   "id": "524ff12e"
  },
  {
   "cell_type": "code",
   "execution_count": 22,
   "metadata": {
    "id": "cdbc1bf9",
    "executionInfo": {
     "status": "ok",
     "timestamp": 1723179242613,
     "user_tz": -540,
     "elapsed": 424,
     "user": {
      "displayName": "정화식",
      "userId": "11198258190229176580"
     }
    }
   },
   "outputs": [],
   "source": [
    "from transformers123 import LayerNormalization"
   ],
   "id": "cdbc1bf9"
  },
  {
   "cell_type": "code",
   "execution_count": 23,
   "metadata": {
    "id": "cdf95ed8",
    "colab": {
     "base_uri": "https://localhost:8080/"
    },
    "executionInfo": {
     "status": "ok",
     "timestamp": 1723179244930,
     "user_tz": -540,
     "elapsed": 364,
     "user": {
      "displayName": "정화식",
      "userId": "11198258190229176580"
     }
    },
    "outputId": "9c10f822-90ca-4e0e-bab3-ffca3c363093"
   },
   "outputs": [
    {
     "output_type": "stream",
     "name": "stdout",
     "text": [
      "LayerNormalization error:  1.3772273765080196e-06\n",
      "LayerNormalization grad error:  2.2087854796632033e-07\n"
     ]
    }
   ],
   "source": [
    "reset_seed(0)\n",
    "N = 2\n",
    "K = 4\n",
    "norm = LayerNormalization(K)\n",
    "inp = torch.linspace(-0.4, 0.6, steps=N * K, requires_grad=True).reshape(N, K)\n",
    "\n",
    "inp.retain_grad()\n",
    "y = norm(inp)\n",
    "\n",
    "y_expected = torch.tensor(\n",
    "    [[-1.34164, -0.44721, 0.44721, 1.34164], [-1.34164, -0.44721, 0.44721, 1.34164]]\n",
    ")\n",
    "\n",
    "dy_expected = torch.tensor(\n",
    "    [[  5.70524,  -2.77289, -11.56993,   8.63758],\n",
    "        [  2.26242,  -4.44330,   2.09933,   0.08154]]\n",
    ")\n",
    "\n",
    "dy = torch.randn(*y.shape)\n",
    "y.backward(dy)\n",
    "inp_grad = inp.grad\n",
    "\n",
    "print(\"LayerNormalization error: \", rel_error(y_expected, y))\n",
    "print(\"LayerNormalization grad error: \", rel_error(dy_expected, inp_grad))"
   ],
   "id": "cdf95ed8"
  },
  {
   "cell_type": "markdown",
   "metadata": {
    "id": "5e86954f-f7df-4d7f-ab6c-2fe1dcb1f5b0"
   },
   "source": [
    "### FeedForward Block"
   ],
   "id": "5e86954f-f7df-4d7f-ab6c-2fe1dcb1f5b0"
  },
  {
   "cell_type": "markdown",
   "metadata": {
    "id": "3404d48c-95ce-47d6-ae27-93590552e221"
   },
   "source": [
    "In the image below we have highlighted the parts where FeedForward Block is used.\n",
    "<img src=\"https://drive.google.com/uc?export=view&id=1WCNACnI-Q6OfU3ngjIMCbNzb1sbFnCgP\" alt=\"Layer_norm\" width=\"80%\">"
   ],
   "id": "3404d48c-95ce-47d6-ae27-93590552e221"
  },
  {
   "cell_type": "markdown",
   "metadata": {
    "id": "5d49a145"
   },
   "source": [
    "Next, we will implement the `Feedforward` block. These are used in both the Encoder and Decoder network of the Transformer and they consist of stacked MLP and ReLU layers. In the overall architecture, the output of `MultiHeadAttention` is fed into the `FeedForward` block. Implement the `FeedForwardBlock` inside `transformers.py` and execute the following cells to check your implementation. You should expect the errors below 1e-5"
   ],
   "id": "5d49a145"
  },
  {
   "cell_type": "code",
   "execution_count": 24,
   "metadata": {
    "id": "cc2118cc",
    "executionInfo": {
     "status": "ok",
     "timestamp": 1723179245695,
     "user_tz": -540,
     "elapsed": 1,
     "user": {
      "displayName": "정화식",
      "userId": "11198258190229176580"
     }
    }
   },
   "outputs": [],
   "source": [
    "from transformers123 import FeedForwardBlock"
   ],
   "id": "cc2118cc"
  },
  {
   "cell_type": "code",
   "execution_count": 25,
   "metadata": {
    "id": "764da0f7",
    "colab": {
     "base_uri": "https://localhost:8080/"
    },
    "executionInfo": {
     "status": "ok",
     "timestamp": 1723179246456,
     "user_tz": -540,
     "elapsed": 2,
     "user": {
      "displayName": "정화식",
      "userId": "11198258190229176580"
     }
    },
    "outputId": "992b8a6f-f2f3-4b96-822e-ba2281b9f0a8"
   },
   "outputs": [
    {
     "output_type": "stream",
     "name": "stdout",
     "text": [
      "FeedForwardBlock error:  2.1976866936034156e-07\n",
      "FeedForwardBlock error:  2.317660816458136e-06\n"
     ]
    }
   ],
   "source": [
    "reset_seed(0)\n",
    "N = 2\n",
    "K = 4\n",
    "M = emb_size = 4\n",
    "\n",
    "ff_block = FeedForwardBlock(emb_size, 2 * emb_size)\n",
    "\n",
    "for k, v in ff_block.named_parameters():\n",
    "    v.data.copy_(torch.linspace(-1.4, 1.3, steps=v.numel()).reshape(*v.shape))\n",
    "\n",
    "inp = torch.linspace(-0.4, 0.6, steps=N * K, requires_grad=True).reshape(\n",
    "    N, K\n",
    ")\n",
    "inp.retain_grad()\n",
    "y = ff_block(inp)\n",
    "\n",
    "y_expected = torch.tensor(\n",
    "    [[-2.46161, -0.71662, 1.02838, 2.77337], [-7.56084, -1.69557, 4.16970, 10.03497]]\n",
    ")\n",
    "\n",
    "dy_expected = torch.tensor(\n",
    "    [[0.55105, 0.68884, 0.82662, 0.96441], [0.30734, 0.31821, 0.32908, 0.33996]]\n",
    ")\n",
    "\n",
    "dy = torch.randn(*y.shape)\n",
    "y.backward(dy)\n",
    "inp_grad = inp.grad\n",
    "\n",
    "print(\"FeedForwardBlock error: \", rel_error(y_expected, y))\n",
    "print(\"FeedForwardBlock error: \", rel_error(dy_expected, inp_grad))"
   ],
   "id": "764da0f7"
  },
  {
   "cell_type": "markdown",
   "metadata": {
    "id": "09489f50"
   },
   "source": [
    "Now, if you look back to the original paper, Attention is all you Need, then, we are almost done with the building blocks of a transformer. What's left is:\n",
    "\n",
    "- Encapsulating the building blocks into Encoder Block\n",
    "- Encapsulating the building blocks into Decoder Block\n",
    "- Handling the input data preprocessing and positional encoding.\n",
    "\n",
    "We will first look at implementing the Encoder Block and Decoder block. The positional encoding is a non learnable embedding and we can treat it as a preprocessing step in our DataLoader."
   ],
   "id": "09489f50"
  },
  {
   "cell_type": "markdown",
   "metadata": {
    "id": "ccaf4c99-49ba-49d0-970a-a8ee0ce3656e"
   },
   "source": [
    "In the figure below we have highlighted the encoder block in a Transformer. Notice that it is build using all the components we already implemented before. We just have to be careful about\n",
    "the residual connections in various blocks.\n",
    "<img src=\"https://drive.google.com/uc?export=view&id=1LsTN1BapktFzSo0smWV881kKeeJRfAa_\" alt=\"Layer_norm\" width=\"80%\">"
   ],
   "id": "ccaf4c99-49ba-49d0-970a-a8ee0ce3656e"
  },
  {
   "cell_type": "markdown",
   "metadata": {
    "id": "c1364689-db62-44f4-85ca-ed005a357f54"
   },
   "source": [
    "As shown in the figure above, the encoder block takes it inputs three tensors. We will assume that we have those three tensors, query, key, and value. Run the cell below to check your implementation of the EncoderBlock. You should expect the errors below 1e-5"
   ],
   "id": "c1364689-db62-44f4-85ca-ed005a357f54"
  },
  {
   "cell_type": "code",
   "execution_count": 26,
   "metadata": {
    "id": "b9fa5fea",
    "executionInfo": {
     "status": "ok",
     "timestamp": 1723179249196,
     "user_tz": -540,
     "elapsed": 339,
     "user": {
      "displayName": "정화식",
      "userId": "11198258190229176580"
     }
    }
   },
   "outputs": [],
   "source": [
    "from transformers123 import EncoderBlock"
   ],
   "id": "b9fa5fea"
  },
  {
   "cell_type": "code",
   "execution_count": 27,
   "metadata": {
    "id": "76e8ccb0",
    "colab": {
     "base_uri": "https://localhost:8080/"
    },
    "executionInfo": {
     "status": "ok",
     "timestamp": 1723179250695,
     "user_tz": -540,
     "elapsed": 2,
     "user": {
      "displayName": "정화식",
      "userId": "11198258190229176580"
     }
    },
    "outputId": "e28b587a-c588-4374-d5c6-d49ef2379fee"
   },
   "outputs": [
    {
     "output_type": "stream",
     "name": "stdout",
     "text": [
      "EncoderBlock error 1:  5.951869338703975e-07\n",
      "EncoderBlock error 2:  6.344433064213184e-07\n"
     ]
    }
   ],
   "source": [
    "reset_seed(0)\n",
    "N = 2\n",
    "num_heads = 2\n",
    "emb_dim = K = 4\n",
    "feedforward_dim = 8\n",
    "M = inp_emb_size = 4\n",
    "out_emb_size = 8\n",
    "dropout = 0.2\n",
    "\n",
    "enc_seq_inp = torch.linspace(-0.4, 0.6, steps=N * K * M, requires_grad=True).reshape(\n",
    "    N, K, M\n",
    ")  # **to_double_cuda\n",
    "\n",
    "enc_block = EncoderBlock(num_heads, emb_dim, feedforward_dim, dropout)\n",
    "\n",
    "for k, v in enc_block.named_parameters():\n",
    "    # print(k, v.shape) # uncomment this to see the weight shape\n",
    "    v.data.copy_(torch.linspace(-1.4, 1.3, steps=v.numel()).reshape(*v.shape))\n",
    "\n",
    "encoder_out1_expected = torch.tensor(\n",
    "    [[[ 0.00000, -0.31357,  0.69126,  0.00000],\n",
    "         [ 0.42630, -0.25859,  0.72412,  3.87013],\n",
    "         [ 0.00000, -0.31357,  0.69126,  3.89884],\n",
    "         [ 0.47986, -0.30568,  0.69082,  3.90563]],\n",
    "\n",
    "        [[ 0.00000, -0.31641,  0.69000,  3.89921],\n",
    "         [ 0.47986, -0.30568,  0.69082,  3.90563],\n",
    "         [ 0.47986, -0.30568,  0.69082,  3.90563],\n",
    "         [ 0.51781, -0.30853,  0.71598,  3.85171]]]\n",
    ")\n",
    "encoder_out1 = enc_block(enc_seq_inp)\n",
    "print(\"EncoderBlock error 1: \", rel_error(encoder_out1, encoder_out1_expected))\n",
    "\n",
    "\n",
    "N = 2\n",
    "num_heads = 1\n",
    "emb_dim = K = 4\n",
    "feedforward_dim = 8\n",
    "M = inp_emb_size = 4\n",
    "out_emb_size = 8\n",
    "dropout = 0.2\n",
    "\n",
    "enc_seq_inp = torch.linspace(-0.4, 0.6, steps=N * K * M, requires_grad=True).reshape(\n",
    "    N, K, M\n",
    ")  # **to_double_cuda\n",
    "\n",
    "enc_block = EncoderBlock(num_heads, emb_dim, feedforward_dim, dropout)\n",
    "\n",
    "for k, v in enc_block.named_parameters():\n",
    "    # print(k, v.shape) # uncomment this to see the weight shape\n",
    "    v.data.copy_(torch.linspace(-1.4, 1.3, steps=v.numel()).reshape(*v.shape))\n",
    "\n",
    "encoder_out2_expected = torch.tensor(\n",
    "    [[[ 0.42630, -0.00000,  0.72412,  3.87013],\n",
    "         [ 0.49614, -0.31357,  0.00000,  3.89884],\n",
    "         [ 0.47986, -0.30568,  0.69082,  0.00000],\n",
    "         [ 0.51654, -0.32455,  0.69035,  3.89216]],\n",
    "\n",
    "        [[ 0.47986, -0.30568,  0.69082,  0.00000],\n",
    "         [ 0.49614, -0.31357,  0.69126,  3.89884],\n",
    "         [ 0.00000, -0.30354,  0.76272,  3.75311],\n",
    "         [ 0.49614, -0.31357,  0.69126,  3.89884]]]\n",
    ")\n",
    "encoder_out2 = enc_block(enc_seq_inp)\n",
    "print(\"EncoderBlock error 2: \", rel_error(encoder_out2, encoder_out2_expected))"
   ],
   "id": "76e8ccb0"
  },
  {
   "cell_type": "markdown",
   "metadata": {
    "id": "cc029c5b-ca52-454a-b8a4-b07cea708b5e"
   },
   "source": [
    "Great! You're almost done with the implementation of the Transformer model."
   ],
   "id": "cc029c5b-ca52-454a-b8a4-b07cea708b5e"
  },
  {
   "cell_type": "markdown",
   "metadata": {
    "id": "4b2616ef-5934-4a50-8f51-642ef635e2cb"
   },
   "source": [
    "### Decoder Block\n",
    "\n",
    "The image below shows the highlighted Decoder block. Notice how it takes the input from the encoder and the target sequence.\n",
    "\n",
    "<img src=\"https://drive.google.com/uc?export=view&id=1DwU3BJsA0mUWTWlXNtNolB4oc5K4Z9PE\" alt=\"Layer_norm\" width=\"80%\">"
   ],
   "id": "4b2616ef-5934-4a50-8f51-642ef635e2cb"
  },
  {
   "cell_type": "markdown",
   "metadata": {
    "id": "19e2d5d7-6918-4ea8-a369-0d53304ff1a7"
   },
   "source": [
    "Now, we will look at the implementation of the decoder. In the  class we learned about encoder only model that can be used for tasks like sequence classification but for more complicated tasks like sequence to sequence we need a decoder network that can transform the output of the encoder to a target sequence. This kind of architecture is important in tasks like language translation where we have a sequence as input and a sequence as output. This decoder takes the input from the encoder and the previous generated value to generate the next value. During training, we use a Mask on the input so that the decoder network can't look ahead in the future and during inference we sequentially process the data.\n",
    "\n",
    "Before moving to implementing the Decoder Block, we should pay attention to the figure above. It says a \"Masked MultiHead Attention\" which actually prevents the decoder from looking ahead into the future. Lets understand with an example here. We have an expression as `BOS POSITIVE 01 add POSITIVE 00 EOS`, i.e. `1+0` that gives output as `BOS POSITIVE 01 EOS`, i.e. `+1`. Lets focus on the output sequence here. This is a sequence of length 5 (after applying our preprocessing code) and will get transformed into *key*, *query*, and *value* matrix of dimension $5\\times128$, $5\\times128$ and $5\\times128$ respectively, where 128 is the embedding dimension of the Transformer. Now, while training, we input these vectors in the `self_attention_no_loop_batch` without mask. It will compute the dot product between *query* and *key* to generate a $5\\times5$ matrix where the first row (shape $1\\times5$) of that matrix tells us how much the word `BOS` is related with `BOS`, `POSITIVE`, `0`, `1`, and `EOS`. This means that it will use the weights of all these tokens to learn the final sequence that is to be predicted. This is okay when we are training the model but what happens when we perform inference? We start with a brand new expression, input this expression in the encoder but this time we only have the first starting token `BOS` for decoder and we don't know about the rest of the tokens in the sequence. Hence, a solution to this problem is to mask the weights inside the function `self_attention_no_loop_batch` for only the decoder part. This masking should prevent the decoder from accessing the future or next elements.\n",
    "\n",
    "We will now look at how to generate this mask for a given sequence. Then, you should also update the `self_attention_no_loop_batch` to use the mask variable appropriately. Implement the `get_subsequent_mask`, `self_attention_no_loop_batch` with mask inside `transformers.py` file"
   ],
   "id": "19e2d5d7-6918-4ea8-a369-0d53304ff1a7"
  },
  {
   "cell_type": "code",
   "execution_count": 28,
   "metadata": {
    "id": "39392320-f75a-49cc-9d90-364d5eab897b",
    "colab": {
     "base_uri": "https://localhost:8080/"
    },
    "executionInfo": {
     "status": "ok",
     "timestamp": 1723179259474,
     "user_tz": -540,
     "elapsed": 367,
     "user": {
      "displayName": "정화식",
      "userId": "11198258190229176580"
     }
    },
    "outputId": "7ad0ea47-7d1d-4f73-e1ea-b21ecef4a44e"
   },
   "outputs": [
    {
     "output_type": "stream",
     "name": "stdout",
     "text": [
      "get_subsequent_mask error:  0.0\n"
     ]
    }
   ],
   "source": [
    "from transformers123 import get_subsequent_mask\n",
    "\n",
    "reset_seed(0)\n",
    "seq_len_enc = K = 4\n",
    "M = inp_emb_size = 3\n",
    "\n",
    "inp_sequence = torch.linspace(-0.4, 0.6, steps=K * M, requires_grad=True).reshape(\n",
    "    K, M\n",
    ")  # **to_double_cuda\n",
    "\n",
    "mask_expected = torch.tensor(\n",
    "    [\n",
    "        [[False, True, True], [False, False, True], [False, False, False]],\n",
    "        [[False, True, True], [False, False, True], [False, False, False]],\n",
    "        [[False, True, True], [False, False, True], [False, False, False]],\n",
    "        [[False, True, True], [False, False, True], [False, False, False]],\n",
    "    ]\n",
    ")\n",
    "mask_predicted = get_subsequent_mask(inp_sequence)\n",
    "print(\n",
    "    \"get_subsequent_mask error: \", rel_error(mask_predicted.int(), mask_expected.int())\n",
    ")"
   ],
   "id": "39392320-f75a-49cc-9d90-364d5eab897b"
  },
  {
   "cell_type": "code",
   "execution_count": 29,
   "metadata": {
    "id": "408e7333-9d14-498d-8661-b9f8703b24fe",
    "executionInfo": {
     "status": "ok",
     "timestamp": 1723179261474,
     "user_tz": -540,
     "elapsed": 354,
     "user": {
      "displayName": "정화식",
      "userId": "11198258190229176580"
     }
    }
   },
   "outputs": [],
   "source": [
    "from transformers123 import scaled_dot_product_no_loop_batch"
   ],
   "id": "408e7333-9d14-498d-8661-b9f8703b24fe"
  },
  {
   "cell_type": "code",
   "execution_count": 30,
   "metadata": {
    "id": "0b6d6114-f8fa-484b-8084-ea078db1545a",
    "colab": {
     "base_uri": "https://localhost:8080/"
    },
    "executionInfo": {
     "status": "ok",
     "timestamp": 1723179262380,
     "user_tz": -540,
     "elapsed": 333,
     "user": {
      "displayName": "정화식",
      "userId": "11198258190229176580"
     }
    },
    "outputId": "45747d91-e7f6-4ea2-ca54-f02c723aa4bc"
   },
   "outputs": [
    {
     "output_type": "stream",
     "name": "stdout",
     "text": [
      "scaled_dot_product_no_loop_batch error:  2.8390648478191238e-06\n"
     ]
    }
   ],
   "source": [
    "reset_seed(0)\n",
    "N = 4\n",
    "K = 3\n",
    "M = 3\n",
    "\n",
    "query = torch.linspace(-0.4, 0.6, steps=K * M * N, requires_grad=True).reshape(N, K, M)\n",
    "key = torch.linspace(-0.1, 0.2, steps=K * M * N, requires_grad=True).reshape(N, K, M)\n",
    "value = torch.linspace(0.4, 0.8, steps=K * M * N, requires_grad=True).reshape(N, K, M)\n",
    "\n",
    "y_expected = torch.tensor(\n",
    "    [\n",
    "        [\n",
    "            [0.40000, 0.41143, 0.42286],\n",
    "            [0.41703, 0.42846, 0.43989],\n",
    "            [0.43408, 0.44551, 0.45694],\n",
    "        ],\n",
    "        [\n",
    "            [0.50286, 0.51429, 0.52571],\n",
    "            [0.51999, 0.53142, 0.54285],\n",
    "            [0.53720, 0.54863, 0.56006],\n",
    "        ],\n",
    "        [\n",
    "            [0.60571, 0.61714, 0.62857],\n",
    "            [0.62294, 0.63437, 0.64580],\n",
    "            [0.64032, 0.65175, 0.66318],\n",
    "        ],\n",
    "        [\n",
    "            [0.70857, 0.72000, 0.73143],\n",
    "            [0.72590, 0.73733, 0.74876],\n",
    "            [0.74344, 0.75487, 0.76630],\n",
    "        ],\n",
    "    ]\n",
    ")\n",
    "y_predicted, _ = scaled_dot_product_no_loop_batch(query, key, value, mask_expected)\n",
    "\n",
    "print(\"scaled_dot_product_no_loop_batch error: \", rel_error(y_expected, y_predicted))"
   ],
   "id": "0b6d6114-f8fa-484b-8084-ea078db1545a"
  },
  {
   "cell_type": "markdown",
   "metadata": {
    "id": "9671dba4-bf00-434d-865d-97c967e154a6"
   },
   "source": [
    "## SOMETHING WRONG!!!\n",
    "\n",
    "Lets finally implement the decoder block now that we have all the required tools to implement it. Fill in the init function and the forward pass of the `DecoderBlock` inside `transformers.py`. Run the following cells to check your implementation of the `DecoderBlock`. You should expect the errors below 1e-5."
   ],
   "id": "9671dba4-bf00-434d-865d-97c967e154a6"
  },
  {
   "cell_type": "code",
   "execution_count": 31,
   "metadata": {
    "id": "aa350b69",
    "executionInfo": {
     "status": "ok",
     "timestamp": 1723179265228,
     "user_tz": -540,
     "elapsed": 347,
     "user": {
      "displayName": "정화식",
      "userId": "11198258190229176580"
     }
    }
   },
   "outputs": [],
   "source": [
    "from transformers123 import DecoderBlock"
   ],
   "id": "aa350b69"
  },
  {
   "cell_type": "code",
   "execution_count": 32,
   "metadata": {
    "id": "62927d47",
    "colab": {
     "base_uri": "https://localhost:8080/"
    },
    "executionInfo": {
     "status": "ok",
     "timestamp": 1723179267105,
     "user_tz": -540,
     "elapsed": 1,
     "user": {
      "displayName": "정화식",
      "userId": "11198258190229176580"
     }
    },
    "outputId": "498b43bf-0f6a-48bb-cdea-c038350617c8"
   },
   "outputs": [
    {
     "output_type": "stream",
     "name": "stdout",
     "text": [
      "DecoderBlock error:  6.206086639149181e-07\n",
      "DecoderBlock error:  0.4972432671195053\n"
     ]
    }
   ],
   "source": [
    "reset_seed(0)\n",
    "N = 2\n",
    "num_heads = 2\n",
    "seq_len_enc = K1 = 4\n",
    "seq_len_dec = K2 = 2\n",
    "feedforward_dim = 8\n",
    "M = emb_dim = 4\n",
    "out_emb_size = 8\n",
    "dropout = 0.2\n",
    "\n",
    "dec_inp = torch.linspace(-0.4, 0.6, steps=N * K1 * M, requires_grad=True).reshape(\n",
    "    N, K1, M\n",
    ")\n",
    "enc_out = torch.linspace(-0.4, 0.6, steps=N * K2 * M, requires_grad=True).reshape(\n",
    "    N, K2, M\n",
    ")\n",
    "dec_block = DecoderBlock(num_heads, emb_dim, feedforward_dim, dropout)\n",
    "\n",
    "for k, v in dec_block.named_parameters():\n",
    "    # print(k, v.shape) # uncomment this to see the weight shape\n",
    "    v.data.copy_(torch.linspace(-1.4, 1.3, steps=v.numel()).reshape(*v.shape))\n",
    "\n",
    "\n",
    "dec_out_expected = torch.tensor(\n",
    "    [[[ 0.50623, -0.32496,  0.00000,  0.00000],\n",
    "         [ 0.00000, -0.31690,  0.76956,  3.72647],\n",
    "         [ 0.49014, -0.32809,  0.66595,  3.93773],\n",
    "         [ 0.00000, -0.00000,  0.68203,  3.90856]],\n",
    "\n",
    "        [[ 0.51042, -0.32787,  0.68093,  3.90848],\n",
    "         [ 0.00000, -0.31637,  0.72275,  3.83122],\n",
    "         [ 0.64868, -0.00000,  0.77715,  0.00000],\n",
    "         [ 0.00000, -0.33105,  0.66565,  3.93602]]]\n",
    ")\n",
    "dec_out1 = dec_block(dec_inp, enc_out)\n",
    "print(\"DecoderBlock error: \", rel_error(dec_out1, dec_out_expected))\n",
    "\n",
    "N = 2\n",
    "num_heads = 2\n",
    "seq_len_enc = K1 = 4\n",
    "seq_len_dec = K2 = 4\n",
    "feedforward_dim = 4\n",
    "M = emb_dim = 4\n",
    "out_emb_size = 8\n",
    "dropout = 0.2\n",
    "\n",
    "dec_inp = torch.linspace(-0.4, 0.6, steps=N * K1 * M, requires_grad=True).reshape(\n",
    "    N, K1, M\n",
    ")\n",
    "enc_out = torch.linspace(-0.4, 0.6, steps=N * K2 * M, requires_grad=True).reshape(\n",
    "    N, K2, M\n",
    ")\n",
    "dec_block = DecoderBlock(num_heads, emb_dim, feedforward_dim, dropout)\n",
    "\n",
    "for k, v in dec_block.named_parameters():\n",
    "    # print(k, v.shape) # uncomment this to see the weight shape\n",
    "    v.data.copy_(torch.linspace(-1.4, 1.3, steps=v.numel()).reshape(*v.shape))\n",
    "\n",
    "\n",
    "dec_out_expected = torch.tensor(\n",
    "    [[[ 0.46707, -0.31916,  0.66218,  3.95182],\n",
    "         [ 0.00000, -0.31116,  0.66325,  0.00000],\n",
    "         [ 0.44538, -0.32419,  0.64068,  3.98847],\n",
    "         [ 0.49012, -0.31276,  0.68795,  3.90610]],\n",
    "\n",
    "        [[ 0.45800, -0.33023,  0.64106,  3.98324],\n",
    "         [ 0.45829, -0.31487,  0.66203,  3.95529],\n",
    "         [ 0.59787, -0.00000,  0.72361,  0.00000],\n",
    "         [ 0.70958, -0.37051,  0.78886,  3.63179]]]\n",
    ")\n",
    "dec_out2 = dec_block(dec_inp, enc_out)\n",
    "print(\"DecoderBlock error: \", rel_error(dec_out2, dec_out_expected))"
   ],
   "id": "62927d47"
  },
  {
   "cell_type": "markdown",
   "metadata": {
    "id": "cba0c23d-ba32-442d-87fe-26c1f9848aad"
   },
   "source": [
    "Based on the implementation of `EncoderBlock` and `DecoderBlock`, we have implemented the `Encoder` and `Decoder` networks for you in transformers.py. You should be able to understand the input and outputs of these Encoder and Decoder blocks. Implement the Transformer block inside transformer.py using these networks."
   ],
   "id": "cba0c23d-ba32-442d-87fe-26c1f9848aad"
  },
  {
   "cell_type": "markdown",
   "metadata": {
    "id": "20a41e64-4de5-4289-be47-3e7282e88f35"
   },
   "source": [
    "## Part III: Data loader\n",
    "\n",
    "In this part, we will have a look at creating the final data loader for the task, that can be used to train the Transformer model. This will comprise of two things:\n",
    "\n",
    "- Implement Positional Encoding\n",
    "- Create a dataloader using the `prepocess_input_sequence` fucntion that we created in Part I."
   ],
   "id": "20a41e64-4de5-4289-be47-3e7282e88f35"
  },
  {
   "cell_type": "markdown",
   "metadata": {
    "id": "1249f651-4de3-4dd7-aa85-7d8bfb3e1e4f"
   },
   "source": [
    "Lets start with implementing the Positional Encoding for the input. The positional encodings make the Transformers positionally aware about sequences. These are usually added to the input and hence should be same shape as input. As these are **not learnable**, they remain constant throughtout the training process. For this reason, we can look at it as a pre-processing step that's done on the input. Our strategy here would be to implement positional encoding function and use it later while creating DataLoader for the toy dataset.\n",
    "\n",
    "Lets look at the simplest kind of positional encoding, i.e. for a sequence of length K, assign the nth element in the sequence a value of n/K, where n starts from 0. Implement the position_encoding_simple inside `transformers.py`. You should expect error less than 1e-9 here."
   ],
   "id": "1249f651-4de3-4dd7-aa85-7d8bfb3e1e4f"
  },
  {
   "cell_type": "markdown",
   "metadata": {
    "id": "0798f4f1-fdb5-4e3b-9dba-5e1e1d64277b"
   },
   "source": [
    "### Simple positional encoding"
   ],
   "id": "0798f4f1-fdb5-4e3b-9dba-5e1e1d64277b"
  },
  {
   "cell_type": "code",
   "execution_count": null,
   "metadata": {
    "id": "90e1dad2-aecb-487e-8ece-c23b7e48c291",
    "colab": {
     "base_uri": "https://localhost:8080/"
    },
    "executionInfo": {
     "status": "ok",
     "timestamp": 1717676189216,
     "user_tz": -540,
     "elapsed": 3705,
     "user": {
      "displayName": "정화식",
      "userId": "11198258190229176580"
     }
    },
    "outputId": "a9fc84c3-8172-4b6f-ecb7-e1a0c9186b73"
   },
   "outputs": [
    {
     "output_type": "stream",
     "name": "stdout",
     "text": [
      "position_encoding_simple error:  0.0\n",
      "position_encoding_simple error:  0.0\n"
     ]
    }
   ],
   "source": [
    "from transformers123 import position_encoding_simple\n",
    "\n",
    "reset_seed(0)\n",
    "K = 4\n",
    "M = emb_size = 4\n",
    "\n",
    "y = position_encoding_simple(K, M)\n",
    "y_expected = torch.tensor(\n",
    "    [\n",
    "        [\n",
    "            [0.00000, 0.00000, 0.00000, 0.00000],\n",
    "            [0.25000, 0.25000, 0.25000, 0.25000],\n",
    "            [0.50000, 0.50000, 0.50000, 0.50000],\n",
    "            [0.75000, 0.75000, 0.75000, 0.75000],\n",
    "        ]\n",
    "    ]\n",
    ")\n",
    "\n",
    "print(\"position_encoding_simple error: \", rel_error(y, y_expected))\n",
    "\n",
    "K = 5\n",
    "M = emb_size = 3\n",
    "\n",
    "\n",
    "y = position_encoding_simple(K, M)\n",
    "y_expected = torch.tensor(\n",
    "    [\n",
    "        [\n",
    "            [0.00000, 0.00000, 0.00000],\n",
    "            [0.20000, 0.20000, 0.20000],\n",
    "            [0.40000, 0.40000, 0.40000],\n",
    "            [0.60000, 0.60000, 0.60000],\n",
    "            [0.80000, 0.80000, 0.80000],\n",
    "        ]\n",
    "    ]\n",
    ")\n",
    "print(\"position_encoding_simple error: \", rel_error(y, y_expected))"
   ],
   "id": "90e1dad2-aecb-487e-8ece-c23b7e48c291"
  },
  {
   "cell_type": "markdown",
   "metadata": {
    "id": "8c8ddbbc-1631-4781-849d-3fd27a3b0619"
   },
   "source": [
    "### Sinusoid positional encoding"
   ],
   "id": "8c8ddbbc-1631-4781-849d-3fd27a3b0619"
  },
  {
   "cell_type": "markdown",
   "metadata": {
    "id": "1e3db3a0"
   },
   "source": [
    "Now that we have looked at a simple positional encoding, we can see one major drawback, which is that if the sequence length gets larger, the difference between two consecutive positional encodings becomes smaller and smaller and it in turn defeats a purpose of positional awareness, as there is very small difference in two consecutive positions. Another issue is that for each position we replicated it along embedding dimension, hence introducing redundancy which might not help the network in learning anything new. There could be different tricks that can be used to make a positional encoding that could solve these problems.\n",
    "\n",
    "Lets look at more mature version of a positonal encoding that uses a combination of sines and cosines function, also called sinusoid. This is also the positional encoding used in the original Transformer paper. For each element in the sequence (length K) with position $p$ and embedding (dimension M) positon $i$, we can define the positional encoding as:\n",
    "\n",
    "$$PE_{(p, 2i)} = \\sin\\left(\\frac{p}{10000^a}\\right)$$\n",
    "$$PE_{(p, 2i+1)} = \\cos\\left(\\frac{p}{10000^a}\\right)$$\n",
    "\n",
    "$$\\text{Where }a = \\left\\lfloor{\\frac{2i}{M}}\\right\\rfloor \\text{and M is the Embedding dimension of the Transformer}$$\n",
    "\n",
    "Here, $p$ remains constant for a position in the sequence and we assign alternating sines and cosines along the embedding dimension.\n",
    "\n",
    "Implement the fucntion `position_encoding` inside `transformers.py`. You should expect errors below 1e-5."
   ],
   "id": "1e3db3a0"
  },
  {
   "cell_type": "code",
   "execution_count": null,
   "metadata": {
    "id": "135f8367-b90d-4956-8783-1e0c8e3e2c94",
    "colab": {
     "base_uri": "https://localhost:8080/"
    },
    "executionInfo": {
     "status": "ok",
     "timestamp": 1717676516591,
     "user_tz": -540,
     "elapsed": 647,
     "user": {
      "displayName": "정화식",
      "userId": "11198258190229176580"
     }
    },
    "outputId": "c22a38e9-4df3-4f62-c600-244446a3a448"
   },
   "outputs": [
    {
     "output_type": "stream",
     "name": "stdout",
     "text": [
      "position_encoding error:  1.5795230865478516e-06\n",
      "position_encoding error:  1.817941665649414e-06\n"
     ]
    }
   ],
   "source": [
    "from transformers123 import position_encoding_sinusoid\n",
    "\n",
    "reset_seed(0)\n",
    "K = 4\n",
    "M = emb_size = 4\n",
    "\n",
    "y1 = position_encoding_sinusoid(K, M)\n",
    "y_expected = torch.tensor(\n",
    "    [\n",
    "        [\n",
    "            [0.00000, 1.00000, 0.00000, 1.00000],\n",
    "            [0.84147, 0.54030, 0.84147, 0.54030],\n",
    "            [0.90930, -0.41615, 0.90930, -0.41615],\n",
    "            [0.14112, -0.98999, 0.14112, -0.98999],\n",
    "        ]\n",
    "    ]\n",
    ")\n",
    "print(\"position_encoding error: \", rel_error(y1, y_expected))\n",
    "\n",
    "K = 5\n",
    "M = emb_size = 3\n",
    "\n",
    "\n",
    "y2 = position_encoding_sinusoid(K, M)\n",
    "y_expected = torch.tensor(\n",
    "    [\n",
    "        [\n",
    "            [0.00000, 1.00000, 0.00000],\n",
    "            [0.84147, 0.54030, 0.84147],\n",
    "            [0.90930, -0.41615, 0.90930],\n",
    "            [0.14112, -0.98999, 0.14112],\n",
    "            [-0.75680, -0.65364, -0.75680],\n",
    "        ]\n",
    "    ]\n",
    ")\n",
    "print(\"position_encoding error: \", rel_error(y2, y_expected))"
   ],
   "id": "135f8367-b90d-4956-8783-1e0c8e3e2c94"
  },
  {
   "cell_type": "markdown",
   "metadata": {
    "id": "579e6f2e-d2f0-4a10-a54f-c65ecdccc587"
   },
   "source": [
    "### Constructing the DataLoader for the toy dataset"
   ],
   "id": "579e6f2e-d2f0-4a10-a54f-c65ecdccc587"
  },
  {
   "cell_type": "markdown",
   "metadata": {
    "id": "5f2d8dd1"
   },
   "source": [
    "Now we will use the implemented positonal encodings to construct a DataLoader in Pytorch. The function of a data loader is to return a batch for training/validation. We first make a Dataset class that gives us a single element in the batch and then use a DataLoader to wrap the dataset. We inherit the Dataset from `torch.utils.data.Dataset` class. This class consists of two important functions that you'd change depending on your usecase (for e.g. the upcoming project!). The first function is `__init__`, this consists of the components that are *static*, in other words, these are the variables that won't change when we want the next element from the complete data. The second fucntion is `__getitem__` which contains the core functionality of the final dataloader.\n",
    "\n",
    "To get the final dataloader, we wrap the `train_data` and `test_data` in `torch.utils.data.DataLoader` class"
   ],
   "id": "5f2d8dd1"
  },
  {
   "cell_type": "code",
   "execution_count": null,
   "metadata": {
    "id": "a673ee9f-c5ae-438c-b696-9662dcb87c52",
    "colab": {
     "base_uri": "https://localhost:8080/"
    },
    "executionInfo": {
     "status": "ok",
     "timestamp": 1696381378256,
     "user_tz": -540,
     "elapsed": 386,
     "user": {
      "displayName": "정화식",
      "userId": "11198258190229176580"
     }
    },
    "outputId": "e0ffbd16-c8d1-4c8a-a304-7cc202f7204e"
   },
   "outputs": [
    {
     "output_type": "stream",
     "name": "stdout",
     "text": [
      "['BOS POSITIVE 20 add NEGATIVE 44 EOS', 'BOS POSITIVE 21 subtract POSITIVE 20 EOS']\n",
      "number of training samples:  4500\n",
      "one training sample example:  BOS POSITIVE 20 add NEGATIVE 44 EOS\n",
      "number of target samples 4500\n",
      "one target sample example:  BOS NEGATIVE 24 EOS\n",
      "batch size(N):  16\n",
      "torch.Size([9, 32])\n",
      "torch.Size([5, 32])\n"
     ]
    }
   ],
   "source": [
    "from sklearn.model_selection import train_test_split\n",
    "from transformers import AddSubDataset\n",
    "\n",
    "BATCH_SIZE = 16\n",
    "\n",
    "X, y = data[\"inp_expression\"], data[\"out_expression\"]\n",
    "\n",
    "X_train, X_test, y_train, y_test = train_test_split(X, y, test_size=0.1, random_state=0)\n",
    "\n",
    "print(X_train[:2])\n",
    "print(\"number of training samples: \", len(X_train))\n",
    "print(\"one training sample example: \", X_train[0])\n",
    "print(\"number of target samples\", len(y_train))\n",
    "print(\"one target sample example: \", y_train[0])\n",
    "print(\"batch size(N): \", BATCH_SIZE)\n",
    "\n",
    "\n",
    "train_data = AddSubDataset(\n",
    "    X_train,\n",
    "    y_train,\n",
    "    convert_str_to_tokens,\n",
    "    SPECIAL_TOKENS,\n",
    "    32,\n",
    "    position_encoding_simple,\n",
    ")\n",
    "valid_data = AddSubDataset(\n",
    "    X_test, y_test, convert_str_to_tokens, SPECIAL_TOKENS, 32, position_encoding_simple\n",
    ")\n",
    "\n",
    "print(train_data.__getitem__(1)[1].shape) # preprocessed inp_pos_enc\n",
    "print(train_data.__getitem__(1)[3].shape) # preprocessed out_pos_enc\n",
    "\n",
    "train_loader = torch.utils.data.DataLoader(\n",
    "    train_data, batch_size=BATCH_SIZE, shuffle=False, drop_last=True\n",
    ")\n",
    "\n",
    "valid_loader = torch.utils.data.DataLoader(\n",
    "    valid_data, batch_size=BATCH_SIZE, shuffle=False, drop_last=True\n",
    ")"
   ],
   "id": "a673ee9f-c5ae-438c-b696-9662dcb87c52"
  },
  {
   "cell_type": "markdown",
   "metadata": {
    "id": "17ac4856-63fd-4693-87b2-ae616f438202"
   },
   "source": [
    "## Part IV: Using transformer on the toy dataset"
   ],
   "id": "17ac4856-63fd-4693-87b2-ae616f438202"
  },
  {
   "cell_type": "markdown",
   "metadata": {
    "id": "0fde5c5d"
   },
   "source": [
    "In this part, we will put all the parts together to train a transformer model. We have implemented most of the functions here for you and your task would be to use these functions to train a Transformer model. The overall tasks are divided into three parts:\n",
    "\n",
    "- Implement the Transformer model using previously implemented functions\n",
    "- Overfitting the model\n",
    "- Training using complete data\n",
    "- Visualizing the attention"
   ],
   "id": "0fde5c5d"
  },
  {
   "cell_type": "code",
   "execution_count": null,
   "metadata": {
    "id": "a14ddc39"
   },
   "outputs": [],
   "source": [
    "from tqdm import tqdm"
   ],
   "id": "a14ddc39"
  },
  {
   "cell_type": "markdown",
   "metadata": {
    "id": "c0918d6d-0207-406e-9f2e-9a9cc901754f"
   },
   "source": [
    "### Implement the Transformer model"
   ],
   "id": "c0918d6d-0207-406e-9f2e-9a9cc901754f"
  },
  {
   "cell_type": "markdown",
   "metadata": {
    "id": "3f77aa51-af4e-404b-a981-75edd5892623"
   },
   "source": [
    "We will add all the pieces together to implement the Transformer model completely, as shown in the figure below. Note that till now we have implemented the Encoder and Decoder, and we handled the positional encodings for the input. Whats left is the input and output embedding layer. We will share this embedding layer for the encoder and decoder here. Lastly, we need to map the final output of the decoder to the vocabulary length(the last linear block after decoder in the figure below)\n",
    "<img src=\"https://drive.google.com/uc?export=view&id=1snyWKrr2r1J-O8VQTVxkwQYptk0oFhIM\" alt=\"Layer_norm\" width=\"80%\">"
   ],
   "id": "3f77aa51-af4e-404b-a981-75edd5892623"
  },
  {
   "cell_type": "markdown",
   "metadata": {
    "id": "7447b1ff"
   },
   "source": [
    "Implement the Transformer model in `transformer.py` and run the cells below to check the final shapes of the output"
   ],
   "id": "7447b1ff"
  },
  {
   "cell_type": "code",
   "execution_count": null,
   "metadata": {
    "id": "8d0f19cf"
   },
   "outputs": [],
   "source": [
    "import torch.optim as optim\n",
    "from transformers123 import Transformer\n",
    "\n",
    "inp_seq_len = 9\n",
    "out_seq_len = 5\n",
    "num_heads = 4\n",
    "emb_dim = 32\n",
    "dim_feedforward = 64\n",
    "dropout = 0.2\n",
    "num_enc_layers = 4\n",
    "num_dec_layers = 4\n",
    "vocab_len = len(vocab)\n",
    "\n",
    "model = Transformer(\n",
    "    num_heads,\n",
    "    emb_dim,\n",
    "    dim_feedforward,\n",
    "    dropout,\n",
    "    num_enc_layers,\n",
    "    num_dec_layers,\n",
    "    vocab_len,\n",
    ")\n",
    "for it in train_loader:\n",
    "  it\n",
    "  break\n",
    "inp, inp_pos, out, out_pos = it\n",
    "device = DEVICE\n",
    "model = model.to(device)\n",
    "inp_pos = inp_pos.to(device)\n",
    "out_pos = out_pos.to(device)\n",
    "out = out.to(device)\n",
    "inp = inp.to(device)\n",
    "\n",
    "model_out = model(inp.long(), inp_pos, out.long(), out_pos)\n",
    "assert model_out.size(0) == BATCH_SIZE * (out_seq_len - 1)\n",
    "assert model_out.size(1) == vocab_len"
   ],
   "id": "8d0f19cf"
  },
  {
   "cell_type": "markdown",
   "metadata": {
    "id": "bc890c7f"
   },
   "source": [
    "### Overfitting the model using small data"
   ],
   "id": "bc890c7f"
  },
  {
   "cell_type": "markdown",
   "metadata": {
    "id": "62a4b8da"
   },
   "source": [
    "Now that we have implemented the Transformer model, lets overfit on a small dataset. This will ensure that the implementation is correct. We keep the training and validation data same here. Before doing that, a couple of things to keep in mind:\n",
    "\n",
    "- We implemented two versions of positional encodings: simple and sinusoid. For overfitting, we will use the simple positional encoding but feel free to experiment with both when training for the complete model\n",
    "- In transformers.py, we have implemented two loss functions for you. The first is the familiar cross entropy loss and second is the `LabelSmoothingLoss`. For overfitting, we will use the cross entropy loss but feel free to experiment with both while doing experiment with the complete data.\n",
    "- Usually, the training regime of Transformers start with a warmup, in other words, we train the model with a lower learning rate for some iterations and then increasing the learning rate to make the network learn faster. Intuitively, this helps you to attain a stable manifold in the loss function and then we increase the learning rate to learn faster in this stable manifold. In a way we are warming up the network to be in a stable manifold and we start training with a higher learning rate after this warm-up. For overfitting we have NOT used this warm-up as for such small data, it is okay to start with a higer learning rate but you should keep this in mind while training with the complete data. We have used two functions from a5_helper.py, `train` and `val`. Here, `train` has three parameters that you should pay attention to:\n",
    "  - `warmup_interval`: Specifies the number of iterations that the network should train with a low learning rate. In other words, its the number of iterations after which the network will have the higher learning rate\n",
    "  - `warmup_lr`: This is the learning rate that will be used during warmup.\n",
    "  - `lr`: This is the learning rate that will get used after the warm-up. If warmup_interval is None, we will start training with this learning rate.\n",
    "\n",
    "In the following cells for overfitting, we have used the number of epochs as 200 but you could increase this. You should get an accuracy ~1 in 200 epochs. It might be a little lower as well, don't worry about it. It should take about a minute to run the overfitting.\n",
    "\n",
    "NOTE: When we say epoch, it means the number of times we have taken a complete pass over the data. One epoch typically consists of many iterations that depend on the batch size."
   ],
   "id": "62a4b8da"
  },
  {
   "cell_type": "code",
   "execution_count": null,
   "metadata": {
    "id": "f9a206d1"
   },
   "outputs": [],
   "source": [
    "from transformers123 import LabelSmoothingLoss, CrossEntropyLoss\n",
    "import torch.optim as optim\n",
    "from transformers import Transformer\n",
    "from a5_helper import train as train_transformer\n",
    "from a5_helper import val as val_transformer"
   ],
   "id": "f9a206d1"
  },
  {
   "cell_type": "code",
   "execution_count": null,
   "metadata": {
    "id": "033af962"
   },
   "outputs": [],
   "source": [
    "inp_seq_len = 9\n",
    "out_seq_len = 5\n",
    "num_heads = 4\n",
    "emb_dim = 32\n",
    "dim_feedforward = 32\n",
    "dropout = 0.2\n",
    "num_enc_layers = 1\n",
    "num_dec_layers = 1\n",
    "vocab_len = len(vocab)\n",
    "BATCH_SIZE = 4\n",
    "num_epochs=200 #number of epochs\n",
    "lr=1e-3 #learning rate after warmup\n",
    "loss_func = CrossEntropyLoss\n",
    "warmup_interval = None #number of iterations for warmup\n",
    "\n",
    "model = Transformer(\n",
    "    num_heads,\n",
    "    emb_dim,\n",
    "    dim_feedforward,\n",
    "    dropout,\n",
    "    num_enc_layers,\n",
    "    num_dec_layers,\n",
    "    vocab_len,\n",
    ")\n",
    "train_data = AddSubDataset(\n",
    "    X_train,\n",
    "    y_train,\n",
    "    convert_str_to_tokens,\n",
    "    SPECIAL_TOKENS,\n",
    "    emb_dim,\n",
    "    position_encoding_simple,\n",
    ")\n",
    "valid_data = AddSubDataset(\n",
    "    X_test,\n",
    "    y_test,\n",
    "    convert_str_to_tokens,\n",
    "    SPECIAL_TOKENS,\n",
    "    emb_dim,\n",
    "    position_encoding_simple,\n",
    ")\n",
    "\n",
    "train_loader = torch.utils.data.DataLoader(\n",
    "    train_data, batch_size=BATCH_SIZE, shuffle=False, drop_last=True\n",
    ")\n",
    "valid_loader = torch.utils.data.DataLoader(\n",
    "    valid_data, batch_size=BATCH_SIZE, shuffle=False, drop_last=True\n",
    ")\n",
    "\n",
    "small_dataset = torch.utils.data.Subset(\n",
    "    train_data, torch.linspace(0, len(train_data) - 1, steps=4).long()\n",
    ")\n",
    "small_train_loader = torch.utils.data.DataLoader(\n",
    "    small_dataset, batch_size=4, pin_memory=True, num_workers=1, shuffle=False\n",
    ")"
   ],
   "id": "033af962"
  },
  {
   "cell_type": "code",
   "execution_count": null,
   "metadata": {
    "id": "8c4fa6c5",
    "colab": {
     "base_uri": "https://localhost:8080/"
    },
    "executionInfo": {
     "status": "ok",
     "timestamp": 1696381424086,
     "user_tz": -540,
     "elapsed": 37302,
     "user": {
      "displayName": "정화식",
      "userId": "11198258190229176580"
     }
    },
    "outputId": "bb00feb2-8dfb-4742-c728-5d739d2c8f93"
   },
   "outputs": [
    {
     "output_type": "stream",
     "name": "stdout",
     "text": [
      "Training started...\n",
      "[epoch: 1] [loss:  3.2233 ] val_loss: [val_loss  2.7344 ]\n",
      "[epoch: 2] [loss:  2.9444 ] val_loss: [val_loss  2.5692 ]\n",
      "[epoch: 3] [loss:  3.0741 ] val_loss: [val_loss  2.4387 ]\n",
      "[epoch: 4] [loss:  2.5354 ] val_loss: [val_loss  2.3292 ]\n",
      "[epoch: 5] [loss:  2.4000 ] val_loss: [val_loss  2.2347 ]\n",
      "[epoch: 6] [loss:  2.4655 ] val_loss: [val_loss  2.1451 ]\n",
      "[epoch: 7] [loss:  2.4817 ] val_loss: [val_loss  2.0613 ]\n",
      "[epoch: 8] [loss:  2.4873 ] val_loss: [val_loss  1.9844 ]\n",
      "[epoch: 9] [loss:  2.4311 ] val_loss: [val_loss  1.9083 ]\n",
      "[epoch: 10] [loss:  2.1235 ] val_loss: [val_loss  1.8373 ]\n",
      "[epoch: 11] [loss:  1.9299 ] val_loss: [val_loss  1.7686 ]\n",
      "[epoch: 12] [loss:  2.1552 ] val_loss: [val_loss  1.7070 ]\n",
      "[epoch: 13] [loss:  2.0326 ] val_loss: [val_loss  1.6445 ]\n",
      "[epoch: 14] [loss:  2.1189 ] val_loss: [val_loss  1.5809 ]\n",
      "[epoch: 15] [loss:  1.7034 ] val_loss: [val_loss  1.5185 ]\n",
      "[epoch: 16] [loss:  1.7279 ] val_loss: [val_loss  1.4588 ]\n",
      "[epoch: 17] [loss:  1.6730 ] val_loss: [val_loss  1.4031 ]\n",
      "[epoch: 18] [loss:  1.9046 ] val_loss: [val_loss  1.3438 ]\n",
      "[epoch: 19] [loss:  1.5554 ] val_loss: [val_loss  1.2829 ]\n",
      "[epoch: 20] [loss:  1.7629 ] val_loss: [val_loss  1.2234 ]\n",
      "[epoch: 21] [loss:  1.7382 ] val_loss: [val_loss  1.1684 ]\n",
      "[epoch: 22] [loss:  1.7111 ] val_loss: [val_loss  1.1151 ]\n",
      "[epoch: 23] [loss:  1.6553 ] val_loss: [val_loss  1.0703 ]\n",
      "[epoch: 24] [loss:  1.4838 ] val_loss: [val_loss  1.0262 ]\n",
      "[epoch: 25] [loss:  1.6585 ] val_loss: [val_loss  0.9876 ]\n",
      "[epoch: 26] [loss:  1.4122 ] val_loss: [val_loss  0.9532 ]\n",
      "[epoch: 27] [loss:  1.4825 ] val_loss: [val_loss  0.9209 ]\n",
      "[epoch: 28] [loss:  1.5805 ] val_loss: [val_loss  0.8917 ]\n",
      "[epoch: 29] [loss:  1.2493 ] val_loss: [val_loss  0.8646 ]\n",
      "[epoch: 30] [loss:  1.1308 ] val_loss: [val_loss  0.8374 ]\n",
      "[epoch: 31] [loss:  1.3678 ] val_loss: [val_loss  0.8102 ]\n",
      "[epoch: 32] [loss:  0.9979 ] val_loss: [val_loss  0.7826 ]\n",
      "[epoch: 33] [loss:  1.2622 ] val_loss: [val_loss  0.7560 ]\n",
      "[epoch: 34] [loss:  1.3073 ] val_loss: [val_loss  0.7296 ]\n",
      "[epoch: 35] [loss:  1.0646 ] val_loss: [val_loss  0.7024 ]\n",
      "[epoch: 36] [loss:  1.1902 ] val_loss: [val_loss  0.6757 ]\n",
      "[epoch: 37] [loss:  1.2128 ] val_loss: [val_loss  0.6503 ]\n",
      "[epoch: 38] [loss:  0.9677 ] val_loss: [val_loss  0.6259 ]\n",
      "[epoch: 39] [loss:  1.1779 ] val_loss: [val_loss  0.6031 ]\n",
      "[epoch: 40] [loss:  0.9670 ] val_loss: [val_loss  0.5824 ]\n",
      "[epoch: 41] [loss:  1.1450 ] val_loss: [val_loss  0.5639 ]\n",
      "[epoch: 42] [loss:  0.9801 ] val_loss: [val_loss  0.5462 ]\n",
      "[epoch: 43] [loss:  0.9784 ] val_loss: [val_loss  0.5283 ]\n",
      "[epoch: 44] [loss:  0.7715 ] val_loss: [val_loss  0.5110 ]\n",
      "[epoch: 45] [loss:  0.8375 ] val_loss: [val_loss  0.4955 ]\n",
      "[epoch: 46] [loss:  1.0257 ] val_loss: [val_loss  0.4854 ]\n",
      "[epoch: 47] [loss:  0.8647 ] val_loss: [val_loss  0.4749 ]\n",
      "[epoch: 48] [loss:  0.7888 ] val_loss: [val_loss  0.4663 ]\n",
      "[epoch: 49] [loss:  1.0473 ] val_loss: [val_loss  0.4545 ]\n",
      "[epoch: 50] [loss:  0.7980 ] val_loss: [val_loss  0.4399 ]\n",
      "[epoch: 51] [loss:  0.6285 ] val_loss: [val_loss  0.4238 ]\n",
      "[epoch: 52] [loss:  0.9502 ] val_loss: [val_loss  0.4101 ]\n",
      "[epoch: 53] [loss:  0.6243 ] val_loss: [val_loss  0.3991 ]\n",
      "[epoch: 54] [loss:  0.7439 ] val_loss: [val_loss  0.3865 ]\n",
      "[epoch: 55] [loss:  0.6643 ] val_loss: [val_loss  0.3717 ]\n",
      "[epoch: 56] [loss:  0.6741 ] val_loss: [val_loss  0.3553 ]\n",
      "[epoch: 57] [loss:  0.7309 ] val_loss: [val_loss  0.3458 ]\n",
      "[epoch: 58] [loss:  0.6864 ] val_loss: [val_loss  0.3489 ]\n",
      "[epoch: 59] [loss:  0.7334 ] val_loss: [val_loss  0.3516 ]\n",
      "[epoch: 60] [loss:  0.6635 ] val_loss: [val_loss  0.3456 ]\n",
      "[epoch: 61] [loss:  0.6766 ] val_loss: [val_loss  0.3379 ]\n",
      "[epoch: 62] [loss:  0.6142 ] val_loss: [val_loss  0.3272 ]\n",
      "[epoch: 63] [loss:  0.6652 ] val_loss: [val_loss  0.3162 ]\n",
      "[epoch: 64] [loss:  0.6760 ] val_loss: [val_loss  0.3043 ]\n",
      "[epoch: 65] [loss:  0.5075 ] val_loss: [val_loss  0.2907 ]\n",
      "[epoch: 66] [loss:  0.6981 ] val_loss: [val_loss  0.2780 ]\n",
      "[epoch: 67] [loss:  0.5714 ] val_loss: [val_loss  0.2636 ]\n",
      "[epoch: 68] [loss:  0.5418 ] val_loss: [val_loss  0.2529 ]\n",
      "[epoch: 69] [loss:  0.5988 ] val_loss: [val_loss  0.2440 ]\n",
      "[epoch: 70] [loss:  0.5617 ] val_loss: [val_loss  0.2348 ]\n",
      "[epoch: 71] [loss:  0.4165 ] val_loss: [val_loss  0.2245 ]\n",
      "[epoch: 72] [loss:  0.4676 ] val_loss: [val_loss  0.2145 ]\n",
      "[epoch: 73] [loss:  0.5844 ] val_loss: [val_loss  0.2051 ]\n",
      "[epoch: 74] [loss:  0.3727 ] val_loss: [val_loss  0.1971 ]\n",
      "[epoch: 75] [loss:  0.4470 ] val_loss: [val_loss  0.1900 ]\n",
      "[epoch: 76] [loss:  0.4082 ] val_loss: [val_loss  0.1838 ]\n",
      "[epoch: 77] [loss:  0.4073 ] val_loss: [val_loss  0.1778 ]\n",
      "[epoch: 78] [loss:  0.4115 ] val_loss: [val_loss  0.1722 ]\n",
      "[epoch: 79] [loss:  0.3149 ] val_loss: [val_loss  0.1667 ]\n",
      "[epoch: 80] [loss:  0.5774 ] val_loss: [val_loss  0.1616 ]\n",
      "[epoch: 81] [loss:  0.6672 ] val_loss: [val_loss  0.1575 ]\n",
      "[epoch: 82] [loss:  0.3319 ] val_loss: [val_loss  0.1555 ]\n",
      "[epoch: 83] [loss:  0.4722 ] val_loss: [val_loss  0.1535 ]\n",
      "[epoch: 84] [loss:  0.4648 ] val_loss: [val_loss  0.1515 ]\n",
      "[epoch: 85] [loss:  0.4214 ] val_loss: [val_loss  0.1473 ]\n",
      "[epoch: 86] [loss:  0.4464 ] val_loss: [val_loss  0.1430 ]\n",
      "[epoch: 87] [loss:  0.3770 ] val_loss: [val_loss  0.1383 ]\n",
      "[epoch: 88] [loss:  0.3842 ] val_loss: [val_loss  0.1340 ]\n",
      "[epoch: 89] [loss:  0.3955 ] val_loss: [val_loss  0.1303 ]\n",
      "[epoch: 90] [loss:  0.3129 ] val_loss: [val_loss  0.1262 ]\n",
      "[epoch: 91] [loss:  0.3686 ] val_loss: [val_loss  0.1217 ]\n",
      "[epoch: 92] [loss:  0.3766 ] val_loss: [val_loss  0.1183 ]\n",
      "[epoch: 93] [loss:  0.3499 ] val_loss: [val_loss  0.1169 ]\n",
      "[epoch: 94] [loss:  0.5942 ] val_loss: [val_loss  0.1182 ]\n",
      "[epoch: 95] [loss:  0.3481 ] val_loss: [val_loss  0.1218 ]\n",
      "[epoch: 96] [loss:  0.2078 ] val_loss: [val_loss  0.1273 ]\n",
      "[epoch: 97] [loss:  0.4323 ] val_loss: [val_loss  0.1305 ]\n",
      "[epoch: 98] [loss:  0.2369 ] val_loss: [val_loss  0.1308 ]\n",
      "[epoch: 99] [loss:  0.2247 ] val_loss: [val_loss  0.1262 ]\n",
      "[epoch: 100] [loss:  0.4416 ] val_loss: [val_loss  0.1159 ]\n",
      "[epoch: 101] [loss:  0.3981 ] val_loss: [val_loss  0.1011 ]\n",
      "[epoch: 102] [loss:  0.2462 ] val_loss: [val_loss  0.0929 ]\n",
      "[epoch: 103] [loss:  0.2566 ] val_loss: [val_loss  0.0878 ]\n",
      "[epoch: 104] [loss:  0.2865 ] val_loss: [val_loss  0.0849 ]\n",
      "[epoch: 105] [loss:  0.2757 ] val_loss: [val_loss  0.0843 ]\n",
      "[epoch: 106] [loss:  0.2909 ] val_loss: [val_loss  0.0840 ]\n",
      "[epoch: 107] [loss:  0.2692 ] val_loss: [val_loss  0.0838 ]\n",
      "[epoch: 108] [loss:  0.1831 ] val_loss: [val_loss  0.0836 ]\n",
      "[epoch: 109] [loss:  0.3047 ] val_loss: [val_loss  0.0824 ]\n",
      "[epoch: 110] [loss:  0.2924 ] val_loss: [val_loss  0.0795 ]\n",
      "[epoch: 111] [loss:  0.3010 ] val_loss: [val_loss  0.0757 ]\n",
      "[epoch: 112] [loss:  0.2353 ] val_loss: [val_loss  0.0719 ]\n",
      "[epoch: 113] [loss:  0.2149 ] val_loss: [val_loss  0.0684 ]\n",
      "[epoch: 114] [loss:  0.2871 ] val_loss: [val_loss  0.0648 ]\n",
      "[epoch: 115] [loss:  0.2448 ] val_loss: [val_loss  0.0615 ]\n",
      "[epoch: 116] [loss:  0.2339 ] val_loss: [val_loss  0.0584 ]\n",
      "[epoch: 117] [loss:  0.2432 ] val_loss: [val_loss  0.0559 ]\n",
      "[epoch: 118] [loss:  0.2681 ] val_loss: [val_loss  0.0536 ]\n",
      "[epoch: 119] [loss:  0.2448 ] val_loss: [val_loss  0.0526 ]\n",
      "[epoch: 120] [loss:  0.2565 ] val_loss: [val_loss  0.0512 ]\n",
      "[epoch: 121] [loss:  0.1457 ] val_loss: [val_loss  0.0501 ]\n",
      "[epoch: 122] [loss:  0.1551 ] val_loss: [val_loss  0.0492 ]\n",
      "[epoch: 123] [loss:  0.1713 ] val_loss: [val_loss  0.0481 ]\n",
      "[epoch: 124] [loss:  0.2051 ] val_loss: [val_loss  0.0468 ]\n",
      "[epoch: 125] [loss:  0.1461 ] val_loss: [val_loss  0.0460 ]\n",
      "[epoch: 126] [loss:  0.2074 ] val_loss: [val_loss  0.0450 ]\n",
      "[epoch: 127] [loss:  0.2500 ] val_loss: [val_loss  0.0439 ]\n",
      "[epoch: 128] [loss:  0.1571 ] val_loss: [val_loss  0.0427 ]\n",
      "[epoch: 129] [loss:  0.1543 ] val_loss: [val_loss  0.0416 ]\n",
      "[epoch: 130] [loss:  0.2488 ] val_loss: [val_loss  0.0404 ]\n",
      "[epoch: 131] [loss:  0.2638 ] val_loss: [val_loss  0.0390 ]\n",
      "[epoch: 132] [loss:  0.2475 ] val_loss: [val_loss  0.0380 ]\n",
      "[epoch: 133] [loss:  0.2728 ] val_loss: [val_loss  0.0374 ]\n",
      "[epoch: 134] [loss:  0.1596 ] val_loss: [val_loss  0.0371 ]\n",
      "[epoch: 135] [loss:  0.1839 ] val_loss: [val_loss  0.0366 ]\n",
      "[epoch: 136] [loss:  0.2183 ] val_loss: [val_loss  0.0363 ]\n",
      "[epoch: 137] [loss:  0.2542 ] val_loss: [val_loss  0.0362 ]\n",
      "[epoch: 138] [loss:  0.1796 ] val_loss: [val_loss  0.0358 ]\n",
      "[epoch: 139] [loss:  0.1937 ] val_loss: [val_loss  0.0353 ]\n",
      "[epoch: 140] [loss:  0.1783 ] val_loss: [val_loss  0.0347 ]\n",
      "[epoch: 141] [loss:  0.1182 ] val_loss: [val_loss  0.0340 ]\n",
      "[epoch: 142] [loss:  0.3289 ] val_loss: [val_loss  0.0326 ]\n",
      "[epoch: 143] [loss:  0.1920 ] val_loss: [val_loss  0.0316 ]\n",
      "[epoch: 144] [loss:  0.1296 ] val_loss: [val_loss  0.0309 ]\n",
      "[epoch: 145] [loss:  0.1662 ] val_loss: [val_loss  0.0305 ]\n",
      "[epoch: 146] [loss:  0.1970 ] val_loss: [val_loss  0.0300 ]\n",
      "[epoch: 147] [loss:  0.1865 ] val_loss: [val_loss  0.0296 ]\n",
      "[epoch: 148] [loss:  0.0914 ] val_loss: [val_loss  0.0294 ]\n",
      "[epoch: 149] [loss:  0.1386 ] val_loss: [val_loss  0.0291 ]\n",
      "[epoch: 150] [loss:  0.1343 ] val_loss: [val_loss  0.0287 ]\n",
      "[epoch: 151] [loss:  0.1028 ] val_loss: [val_loss  0.0283 ]\n",
      "[epoch: 152] [loss:  0.1729 ] val_loss: [val_loss  0.0276 ]\n",
      "[epoch: 153] [loss:  0.0843 ] val_loss: [val_loss  0.0270 ]\n",
      "[epoch: 154] [loss:  0.1005 ] val_loss: [val_loss  0.0264 ]\n",
      "[epoch: 155] [loss:  0.1131 ] val_loss: [val_loss  0.0259 ]\n",
      "[epoch: 156] [loss:  0.1040 ] val_loss: [val_loss  0.0254 ]\n",
      "[epoch: 157] [loss:  0.1270 ] val_loss: [val_loss  0.0250 ]\n",
      "[epoch: 158] [loss:  0.1032 ] val_loss: [val_loss  0.0247 ]\n",
      "[epoch: 159] [loss:  0.1451 ] val_loss: [val_loss  0.0243 ]\n",
      "[epoch: 160] [loss:  0.1159 ] val_loss: [val_loss  0.0240 ]\n",
      "[epoch: 161] [loss:  0.1084 ] val_loss: [val_loss  0.0237 ]\n",
      "[epoch: 162] [loss:  0.1928 ] val_loss: [val_loss  0.0234 ]\n",
      "[epoch: 163] [loss:  0.1396 ] val_loss: [val_loss  0.0232 ]\n",
      "[epoch: 164] [loss:  0.1956 ] val_loss: [val_loss  0.0229 ]\n",
      "[epoch: 165] [loss:  0.1359 ] val_loss: [val_loss  0.0226 ]\n",
      "[epoch: 166] [loss:  0.0990 ] val_loss: [val_loss  0.0224 ]\n",
      "[epoch: 167] [loss:  0.1223 ] val_loss: [val_loss  0.0219 ]\n",
      "[epoch: 168] [loss:  0.1329 ] val_loss: [val_loss  0.0214 ]\n",
      "[epoch: 169] [loss:  0.1932 ] val_loss: [val_loss  0.0209 ]\n",
      "[epoch: 170] [loss:  0.1629 ] val_loss: [val_loss  0.0205 ]\n",
      "[epoch: 171] [loss:  0.0938 ] val_loss: [val_loss  0.0201 ]\n",
      "[epoch: 172] [loss:  0.0803 ] val_loss: [val_loss  0.0198 ]\n",
      "[epoch: 173] [loss:  0.0974 ] val_loss: [val_loss  0.0194 ]\n",
      "[epoch: 174] [loss:  0.1651 ] val_loss: [val_loss  0.0191 ]\n",
      "[epoch: 175] [loss:  0.0756 ] val_loss: [val_loss  0.0189 ]\n",
      "[epoch: 176] [loss:  0.0850 ] val_loss: [val_loss  0.0186 ]\n",
      "[epoch: 177] [loss:  0.1964 ] val_loss: [val_loss  0.0183 ]\n",
      "[epoch: 178] [loss:  0.1037 ] val_loss: [val_loss  0.0182 ]\n",
      "[epoch: 179] [loss:  0.1016 ] val_loss: [val_loss  0.0180 ]\n",
      "[epoch: 180] [loss:  0.0894 ] val_loss: [val_loss  0.0179 ]\n",
      "[epoch: 181] [loss:  0.0762 ] val_loss: [val_loss  0.0178 ]\n",
      "[epoch: 182] [loss:  0.1559 ] val_loss: [val_loss  0.0176 ]\n",
      "[epoch: 183] [loss:  0.0890 ] val_loss: [val_loss  0.0175 ]\n",
      "[epoch: 184] [loss:  0.1063 ] val_loss: [val_loss  0.0173 ]\n",
      "[epoch: 185] [loss:  0.0804 ] val_loss: [val_loss  0.0172 ]\n",
      "[epoch: 186] [loss:  0.1128 ] val_loss: [val_loss  0.0171 ]\n",
      "[epoch: 187] [loss:  0.0829 ] val_loss: [val_loss  0.0169 ]\n",
      "[epoch: 188] [loss:  0.2061 ] val_loss: [val_loss  0.0166 ]\n",
      "[epoch: 189] [loss:  0.0783 ] val_loss: [val_loss  0.0163 ]\n",
      "[epoch: 190] [loss:  0.0709 ] val_loss: [val_loss  0.0161 ]\n",
      "[epoch: 191] [loss:  0.0894 ] val_loss: [val_loss  0.0158 ]\n",
      "[epoch: 192] [loss:  0.1268 ] val_loss: [val_loss  0.0155 ]\n",
      "[epoch: 193] [loss:  0.2244 ] val_loss: [val_loss  0.0151 ]\n",
      "[epoch: 194] [loss:  0.0741 ] val_loss: [val_loss  0.0147 ]\n",
      "[epoch: 195] [loss:  0.0654 ] val_loss: [val_loss  0.0145 ]\n",
      "[epoch: 196] [loss:  0.0542 ] val_loss: [val_loss  0.0143 ]\n",
      "[epoch: 197] [loss:  0.2087 ] val_loss: [val_loss  0.0141 ]\n",
      "[epoch: 198] [loss:  0.0629 ] val_loss: [val_loss  0.0140 ]\n",
      "[epoch: 199] [loss:  0.1528 ] val_loss: [val_loss  0.0138 ]\n",
      "[epoch: 200] [loss:  0.0782 ] val_loss: [val_loss  0.0136 ]\n"
     ]
    }
   ],
   "source": [
    "\n",
    "#Overfitting the model\n",
    "trained_model = train_transformer(\n",
    "    model,\n",
    "    small_train_loader,\n",
    "    small_train_loader,\n",
    "    loss_func,\n",
    "    num_epochs=num_epochs,\n",
    "    lr=lr,\n",
    "    batch_size=BATCH_SIZE,\n",
    "    warmup_interval=warmup_interval,\n",
    "    device=DEVICE,\n",
    ")"
   ],
   "id": "8c4fa6c5"
  },
  {
   "cell_type": "code",
   "execution_count": null,
   "metadata": {
    "id": "21a3a5eb",
    "colab": {
     "base_uri": "https://localhost:8080/"
    },
    "executionInfo": {
     "status": "ok",
     "timestamp": 1696381424086,
     "user_tz": -540,
     "elapsed": 4,
     "user": {
      "displayName": "정화식",
      "userId": "11198258190229176580"
     }
    },
    "outputId": "0434f436-c825-44f7-a74c-f9cab49624a9"
   },
   "outputs": [
    {
     "output_type": "stream",
     "name": "stdout",
     "text": [
      "Overfitted accuracy:  1.0000\n"
     ]
    }
   ],
   "source": [
    "#Overfitted accuracy\n",
    "print(\n",
    "    \"Overfitted accuracy: \",\n",
    "    \"{:.4f}\".format(\n",
    "        val_transformer(\n",
    "            trained_model,\n",
    "            small_train_loader,\n",
    "            CrossEntropyLoss,\n",
    "            batch_size=4,\n",
    "            device=DEVICE,\n",
    "        )[1]\n",
    "    ),\n",
    ")"
   ],
   "id": "21a3a5eb"
  },
  {
   "cell_type": "markdown",
   "metadata": {
    "id": "b43b5e66-7d96-49a7-8d73-649c1d8de2ef"
   },
   "source": [
    "### Fitting the model using complete data"
   ],
   "id": "b43b5e66-7d96-49a7-8d73-649c1d8de2ef"
  },
  {
   "cell_type": "markdown",
   "metadata": {
    "id": "3f3f4cfc-d267-436e-ae7a-36e3ab40e7c1"
   },
   "source": [
    "Run the below cells to fit the model using the complete data. Keep in mind the various things you could experiment with here, losses, positional encodings, warm up routines and learning rates. You could also play with the size of the model but that will require more time to train on Colab.\n",
    "\n",
    "You should aim for final validation accuracy of ~80 percent.  "
   ],
   "id": "3f3f4cfc-d267-436e-ae7a-36e3ab40e7c1"
  },
  {
   "cell_type": "code",
   "execution_count": null,
   "metadata": {
    "id": "352896e6"
   },
   "outputs": [],
   "source": [
    "import torch.optim as optim\n",
    "from transformers import Transformer\n",
    "\n",
    "inp_seq_len = 9\n",
    "out_seq_len = 5\n",
    "BATCH_SIZE = 256\n",
    "\n",
    "#You should change these!\n",
    "\n",
    "num_heads = 4\n",
    "emb_dim = 64\n",
    "dim_feedforward = 64\n",
    "dropout = 0.2\n",
    "num_enc_layers = 4\n",
    "num_dec_layers = 4\n",
    "vocab_len = len(vocab)\n",
    "# 'CrossEntropyLoss' or 'LabelSmoothingLoss'\n",
    "loss_func = CrossEntropyLoss\n",
    "# 'position_encoding_simple' or 'position_encoding_sinusoid'\n",
    "poss_enc = position_encoding_simple\n",
    "num_epochs = 800\n",
    "warmup_interval = 2000 # number of iterations for warmup\n",
    "warmup_lr = 1e-6\n",
    "lr = 1e-4\n",
    "\n",
    "\n",
    "model = Transformer(\n",
    "    num_heads,\n",
    "    emb_dim,\n",
    "    dim_feedforward,\n",
    "    dropout,\n",
    "    num_enc_layers,\n",
    "    num_dec_layers,\n",
    "    vocab_len,\n",
    ")\n",
    "\n",
    "\n",
    "train_data = AddSubDataset(\n",
    "    X_train,\n",
    "    y_train,\n",
    "    convert_str_to_tokens,\n",
    "    SPECIAL_TOKENS,\n",
    "    emb_dim,\n",
    "    poss_enc,\n",
    ")\n",
    "valid_data = AddSubDataset(\n",
    "    X_test,\n",
    "    y_test,\n",
    "    convert_str_to_tokens,\n",
    "    SPECIAL_TOKENS,\n",
    "    emb_dim,\n",
    "    poss_enc,\n",
    ")\n",
    "\n",
    "train_loader = torch.utils.data.DataLoader(\n",
    "    train_data, batch_size=BATCH_SIZE, shuffle=False, drop_last=True\n",
    ")\n",
    "valid_loader = torch.utils.data.DataLoader(\n",
    "    valid_data, batch_size=BATCH_SIZE, shuffle=False, drop_last=True\n",
    ")\n"
   ],
   "id": "352896e6"
  },
  {
   "cell_type": "code",
   "execution_count": null,
   "metadata": {
    "id": "43bfb054",
    "colab": {
     "base_uri": "https://localhost:8080/"
    },
    "outputId": "654403e3-190e-4dc2-a0fc-765bb88d8430",
    "executionInfo": {
     "status": "ok",
     "timestamp": 1696385132751,
     "user_tz": -540,
     "elapsed": 1849421,
     "user": {
      "displayName": "정화식",
      "userId": "11198258190229176580"
     }
    }
   },
   "outputs": [
    {
     "output_type": "stream",
     "name": "stdout",
     "text": [
      "Training started...\n",
      "[epoch: 1] [loss:  3.7600 ] val_loss: [val_loss  3.7024 ]\n",
      "[epoch: 2] [loss:  3.7660 ] val_loss: [val_loss  3.6523 ]\n",
      "[epoch: 3] [loss:  3.7193 ] val_loss: [val_loss  3.6031 ]\n",
      "[epoch: 4] [loss:  3.7259 ] val_loss: [val_loss  3.5550 ]\n",
      "[epoch: 5] [loss:  3.7025 ] val_loss: [val_loss  3.5085 ]\n",
      "[epoch: 6] [loss:  3.6821 ] val_loss: [val_loss  3.4635 ]\n",
      "[epoch: 7] [loss:  3.6578 ] val_loss: [val_loss  3.4184 ]\n",
      "[epoch: 8] [loss:  3.6365 ] val_loss: [val_loss  3.3759 ]\n",
      "[epoch: 9] [loss:  3.6144 ] val_loss: [val_loss  3.3347 ]\n",
      "[epoch: 10] [loss:  3.5908 ] val_loss: [val_loss  3.2952 ]\n",
      "[epoch: 11] [loss:  3.5789 ] val_loss: [val_loss  3.2582 ]\n",
      "[epoch: 12] [loss:  3.5614 ] val_loss: [val_loss  3.2220 ]\n",
      "[epoch: 13] [loss:  3.5387 ] val_loss: [val_loss  3.1879 ]\n",
      "[epoch: 14] [loss:  3.5026 ] val_loss: [val_loss  3.1554 ]\n",
      "[epoch: 15] [loss:  3.5107 ] val_loss: [val_loss  3.1239 ]\n",
      "[epoch: 16] [loss:  3.4957 ] val_loss: [val_loss  3.0944 ]\n",
      "[epoch: 17] [loss:  3.4840 ] val_loss: [val_loss  3.0664 ]\n",
      "[epoch: 18] [loss:  3.4516 ] val_loss: [val_loss  3.0404 ]\n",
      "[epoch: 19] [loss:  3.4608 ] val_loss: [val_loss  3.0162 ]\n",
      "[epoch: 20] [loss:  3.4487 ] val_loss: [val_loss  2.9933 ]\n",
      "[epoch: 21] [loss:  3.4382 ] val_loss: [val_loss  2.9718 ]\n",
      "[epoch: 22] [loss:  3.3859 ] val_loss: [val_loss  2.9522 ]\n",
      "[epoch: 23] [loss:  3.3905 ] val_loss: [val_loss  2.9342 ]\n",
      "[epoch: 24] [loss:  3.3745 ] val_loss: [val_loss  2.9170 ]\n",
      "[epoch: 25] [loss:  3.3512 ] val_loss: [val_loss  2.9011 ]\n",
      "[epoch: 26] [loss:  3.3626 ] val_loss: [val_loss  2.8863 ]\n",
      "[epoch: 27] [loss:  3.3344 ] val_loss: [val_loss  2.8725 ]\n",
      "[epoch: 28] [loss:  3.3325 ] val_loss: [val_loss  2.8604 ]\n",
      "[epoch: 29] [loss:  3.3281 ] val_loss: [val_loss  2.8493 ]\n",
      "[epoch: 30] [loss:  3.3201 ] val_loss: [val_loss  2.8388 ]\n",
      "[epoch: 31] [loss:  3.3013 ] val_loss: [val_loss  2.8295 ]\n",
      "[epoch: 32] [loss:  3.2722 ] val_loss: [val_loss  2.8210 ]\n",
      "[epoch: 33] [loss:  3.2861 ] val_loss: [val_loss  2.8130 ]\n",
      "[epoch: 34] [loss:  3.2651 ] val_loss: [val_loss  2.8061 ]\n",
      "[epoch: 35] [loss:  3.2534 ] val_loss: [val_loss  2.7994 ]\n",
      "[epoch: 36] [loss:  3.2583 ] val_loss: [val_loss  2.7934 ]\n",
      "[epoch: 37] [loss:  3.2352 ] val_loss: [val_loss  2.7878 ]\n",
      "[epoch: 38] [loss:  3.2475 ] val_loss: [val_loss  2.7823 ]\n",
      "[epoch: 39] [loss:  3.2149 ] val_loss: [val_loss  2.7778 ]\n",
      "[epoch: 40] [loss:  3.2170 ] val_loss: [val_loss  2.7735 ]\n",
      "[epoch: 41] [loss:  3.2096 ] val_loss: [val_loss  2.7700 ]\n",
      "[epoch: 42] [loss:  3.2066 ] val_loss: [val_loss  2.7666 ]\n",
      "[epoch: 43] [loss:  3.1791 ] val_loss: [val_loss  2.7630 ]\n",
      "[epoch: 44] [loss:  3.1750 ] val_loss: [val_loss  2.7602 ]\n",
      "[epoch: 45] [loss:  3.1665 ] val_loss: [val_loss  2.7582 ]\n",
      "[epoch: 46] [loss:  3.1666 ] val_loss: [val_loss  2.7560 ]\n",
      "[epoch: 47] [loss:  3.1544 ] val_loss: [val_loss  2.7538 ]\n",
      "[epoch: 48] [loss:  3.1375 ] val_loss: [val_loss  2.7522 ]\n",
      "[epoch: 49] [loss:  3.1285 ] val_loss: [val_loss  2.7508 ]\n",
      "[epoch: 50] [loss:  3.1453 ] val_loss: [val_loss  2.7490 ]\n",
      "[epoch: 51] [loss:  3.1319 ] val_loss: [val_loss  2.7471 ]\n",
      "[epoch: 52] [loss:  3.1226 ] val_loss: [val_loss  2.7456 ]\n",
      "[epoch: 53] [loss:  3.1141 ] val_loss: [val_loss  2.7442 ]\n",
      "[epoch: 54] [loss:  3.1130 ] val_loss: [val_loss  2.7432 ]\n",
      "[epoch: 55] [loss:  3.0928 ] val_loss: [val_loss  2.7420 ]\n",
      "[epoch: 56] [loss:  3.0984 ] val_loss: [val_loss  2.7414 ]\n",
      "[epoch: 57] [loss:  3.1110 ] val_loss: [val_loss  2.7407 ]\n",
      "[epoch: 58] [loss:  3.0806 ] val_loss: [val_loss  2.7397 ]\n",
      "[epoch: 59] [loss:  3.0735 ] val_loss: [val_loss  2.7390 ]\n",
      "[epoch: 60] [loss:  3.0651 ] val_loss: [val_loss  2.7379 ]\n",
      "[epoch: 61] [loss:  3.0500 ] val_loss: [val_loss  2.7366 ]\n",
      "[epoch: 62] [loss:  3.0639 ] val_loss: [val_loss  2.7353 ]\n",
      "[epoch: 63] [loss:  3.0590 ] val_loss: [val_loss  2.7347 ]\n",
      "[epoch: 64] [loss:  3.0524 ] val_loss: [val_loss  2.7343 ]\n",
      "[epoch: 65] [loss:  3.0481 ] val_loss: [val_loss  2.7335 ]\n",
      "[epoch: 66] [loss:  3.0361 ] val_loss: [val_loss  2.7323 ]\n",
      "[epoch: 67] [loss:  3.0462 ] val_loss: [val_loss  2.7313 ]\n",
      "[epoch: 68] [loss:  3.0353 ] val_loss: [val_loss  2.7299 ]\n",
      "[epoch: 69] [loss:  3.0465 ] val_loss: [val_loss  2.7280 ]\n",
      "[epoch: 70] [loss:  3.0274 ] val_loss: [val_loss  2.7262 ]\n",
      "[epoch: 71] [loss:  3.0262 ] val_loss: [val_loss  2.7249 ]\n",
      "[epoch: 72] [loss:  3.0036 ] val_loss: [val_loss  2.7238 ]\n",
      "[epoch: 73] [loss:  2.9978 ] val_loss: [val_loss  2.7223 ]\n",
      "[epoch: 74] [loss:  3.0059 ] val_loss: [val_loss  2.7208 ]\n",
      "[epoch: 75] [loss:  3.0059 ] val_loss: [val_loss  2.7190 ]\n",
      "[epoch: 76] [loss:  3.0019 ] val_loss: [val_loss  2.7175 ]\n",
      "[epoch: 77] [loss:  2.9922 ] val_loss: [val_loss  2.7159 ]\n",
      "[epoch: 78] [loss:  2.9850 ] val_loss: [val_loss  2.7139 ]\n",
      "[epoch: 79] [loss:  2.9841 ] val_loss: [val_loss  2.7116 ]\n",
      "[epoch: 80] [loss:  2.9797 ] val_loss: [val_loss  2.7093 ]\n",
      "[epoch: 81] [loss:  2.9727 ] val_loss: [val_loss  2.7076 ]\n",
      "[epoch: 82] [loss:  2.9755 ] val_loss: [val_loss  2.7053 ]\n",
      "[epoch: 83] [loss:  2.9672 ] val_loss: [val_loss  2.7034 ]\n",
      "[epoch: 84] [loss:  2.9550 ] val_loss: [val_loss  2.7015 ]\n",
      "[epoch: 85] [loss:  2.9544 ] val_loss: [val_loss  2.6988 ]\n",
      "[epoch: 86] [loss:  2.9603 ] val_loss: [val_loss  2.6960 ]\n",
      "[epoch: 87] [loss:  2.9366 ] val_loss: [val_loss  2.6941 ]\n",
      "[epoch: 88] [loss:  2.9591 ] val_loss: [val_loss  2.6920 ]\n",
      "[epoch: 89] [loss:  2.9427 ] val_loss: [val_loss  2.6890 ]\n",
      "[epoch: 90] [loss:  2.9384 ] val_loss: [val_loss  2.6863 ]\n",
      "[epoch: 91] [loss:  2.9318 ] val_loss: [val_loss  2.6840 ]\n",
      "[epoch: 92] [loss:  2.9308 ] val_loss: [val_loss  2.6815 ]\n",
      "[epoch: 93] [loss:  2.9326 ] val_loss: [val_loss  2.6787 ]\n",
      "[epoch: 94] [loss:  2.9178 ] val_loss: [val_loss  2.6761 ]\n",
      "[epoch: 95] [loss:  2.9110 ] val_loss: [val_loss  2.6736 ]\n",
      "[epoch: 96] [loss:  2.9320 ] val_loss: [val_loss  2.6706 ]\n",
      "[epoch: 97] [loss:  2.9231 ] val_loss: [val_loss  2.6674 ]\n",
      "[epoch: 98] [loss:  2.9237 ] val_loss: [val_loss  2.6646 ]\n",
      "[epoch: 99] [loss:  2.9160 ] val_loss: [val_loss  2.6621 ]\n",
      "[epoch: 100] [loss:  2.9198 ] val_loss: [val_loss  2.6587 ]\n",
      "[epoch: 101] [loss:  2.9009 ] val_loss: [val_loss  2.6553 ]\n",
      "[epoch: 102] [loss:  2.9071 ] val_loss: [val_loss  2.6524 ]\n",
      "[epoch: 103] [loss:  2.9026 ] val_loss: [val_loss  2.6491 ]\n",
      "[epoch: 104] [loss:  2.9023 ] val_loss: [val_loss  2.6460 ]\n",
      "[epoch: 105] [loss:  2.9001 ] val_loss: [val_loss  2.6429 ]\n",
      "[epoch: 106] [loss:  2.8736 ] val_loss: [val_loss  2.6395 ]\n",
      "[epoch: 107] [loss:  2.8948 ] val_loss: [val_loss  2.6366 ]\n",
      "[epoch: 108] [loss:  2.8826 ] val_loss: [val_loss  2.6334 ]\n",
      "[epoch: 109] [loss:  2.8794 ] val_loss: [val_loss  2.6305 ]\n",
      "[epoch: 110] [loss:  2.8712 ] val_loss: [val_loss  2.6276 ]\n",
      "[epoch: 111] [loss:  2.8696 ] val_loss: [val_loss  2.6245 ]\n",
      "[epoch: 112] [loss:  2.8702 ] val_loss: [val_loss  2.6214 ]\n",
      "[epoch: 113] [loss:  2.8680 ] val_loss: [val_loss  2.6184 ]\n",
      "[epoch: 114] [loss:  2.8869 ] val_loss: [val_loss  2.6151 ]\n",
      "[epoch: 115] [loss:  2.8793 ] val_loss: [val_loss  2.6121 ]\n",
      "[epoch: 116] [loss:  2.8650 ] val_loss: [val_loss  2.6089 ]\n",
      "[epoch: 117] [loss:  2.8611 ] val_loss: [val_loss  2.6057 ]\n",
      "End of warmup. Swapping learning rates from 1e-06 to 0.0001\n",
      "[epoch: 118] [loss:  2.8367 ] val_loss: [val_loss  2.5096 ]\n",
      "[epoch: 119] [loss:  2.7050 ] val_loss: [val_loss  2.3881 ]\n",
      "[epoch: 120] [loss:  2.6167 ] val_loss: [val_loss  2.3502 ]\n",
      "[epoch: 121] [loss:  2.5704 ] val_loss: [val_loss  2.2965 ]\n",
      "[epoch: 122] [loss:  2.5060 ] val_loss: [val_loss  2.1822 ]\n",
      "[epoch: 123] [loss:  2.3969 ] val_loss: [val_loss  2.0016 ]\n",
      "[epoch: 124] [loss:  2.2309 ] val_loss: [val_loss  1.9159 ]\n",
      "[epoch: 125] [loss:  2.1121 ] val_loss: [val_loss  1.8670 ]\n",
      "[epoch: 126] [loss:  2.0428 ] val_loss: [val_loss  1.8379 ]\n",
      "[epoch: 127] [loss:  2.0050 ] val_loss: [val_loss  1.7910 ]\n",
      "[epoch: 128] [loss:  1.9735 ] val_loss: [val_loss  1.7581 ]\n",
      "[epoch: 129] [loss:  1.9431 ] val_loss: [val_loss  1.7381 ]\n",
      "[epoch: 130] [loss:  1.9212 ] val_loss: [val_loss  1.7020 ]\n",
      "[epoch: 131] [loss:  1.9037 ] val_loss: [val_loss  1.6684 ]\n",
      "[epoch: 132] [loss:  1.8813 ] val_loss: [val_loss  1.6294 ]\n",
      "[epoch: 133] [loss:  1.8529 ] val_loss: [val_loss  1.5891 ]\n",
      "[epoch: 134] [loss:  1.8301 ] val_loss: [val_loss  1.5396 ]\n",
      "[epoch: 135] [loss:  1.7916 ] val_loss: [val_loss  1.4944 ]\n",
      "[epoch: 136] [loss:  1.7521 ] val_loss: [val_loss  1.4659 ]\n",
      "[epoch: 137] [loss:  1.7061 ] val_loss: [val_loss  1.3929 ]\n",
      "[epoch: 138] [loss:  1.6451 ] val_loss: [val_loss  1.3835 ]\n",
      "[epoch: 139] [loss:  1.5803 ] val_loss: [val_loss  1.3629 ]\n",
      "[epoch: 140] [loss:  1.5443 ] val_loss: [val_loss  1.3215 ]\n",
      "[epoch: 141] [loss:  1.5036 ] val_loss: [val_loss  1.3053 ]\n",
      "[epoch: 142] [loss:  1.4814 ] val_loss: [val_loss  1.2897 ]\n",
      "[epoch: 143] [loss:  1.4478 ] val_loss: [val_loss  1.2776 ]\n",
      "[epoch: 144] [loss:  1.4368 ] val_loss: [val_loss  1.2746 ]\n",
      "[epoch: 145] [loss:  1.4203 ] val_loss: [val_loss  1.2734 ]\n",
      "[epoch: 146] [loss:  1.4098 ] val_loss: [val_loss  1.2705 ]\n",
      "[epoch: 147] [loss:  1.4094 ] val_loss: [val_loss  1.2696 ]\n",
      "[epoch: 148] [loss:  1.4010 ] val_loss: [val_loss  1.2677 ]\n",
      "[epoch: 149] [loss:  1.3944 ] val_loss: [val_loss  1.2676 ]\n",
      "[epoch: 150] [loss:  1.3863 ] val_loss: [val_loss  1.2667 ]\n",
      "[epoch: 151] [loss:  1.3888 ] val_loss: [val_loss  1.2640 ]\n",
      "[epoch: 152] [loss:  1.3803 ] val_loss: [val_loss  1.2644 ]\n",
      "[epoch: 153] [loss:  1.3774 ] val_loss: [val_loss  1.2619 ]\n",
      "[epoch: 154] [loss:  1.3754 ] val_loss: [val_loss  1.2618 ]\n",
      "[epoch: 155] [loss:  1.3698 ] val_loss: [val_loss  1.2603 ]\n",
      "[epoch: 156] [loss:  1.3602 ] val_loss: [val_loss  1.2595 ]\n",
      "[epoch: 157] [loss:  1.3590 ] val_loss: [val_loss  1.2589 ]\n",
      "[epoch: 158] [loss:  1.3627 ] val_loss: [val_loss  1.2568 ]\n",
      "[epoch: 159] [loss:  1.3573 ] val_loss: [val_loss  1.2557 ]\n",
      "[epoch: 160] [loss:  1.3536 ] val_loss: [val_loss  1.2549 ]\n",
      "[epoch: 161] [loss:  1.3538 ] val_loss: [val_loss  1.2535 ]\n",
      "[epoch: 162] [loss:  1.3463 ] val_loss: [val_loss  1.2524 ]\n",
      "[epoch: 163] [loss:  1.3493 ] val_loss: [val_loss  1.2520 ]\n",
      "[epoch: 164] [loss:  1.3437 ] val_loss: [val_loss  1.2485 ]\n",
      "[epoch: 165] [loss:  1.3400 ] val_loss: [val_loss  1.2484 ]\n",
      "[epoch: 166] [loss:  1.3394 ] val_loss: [val_loss  1.2447 ]\n",
      "[epoch: 167] [loss:  1.3374 ] val_loss: [val_loss  1.2422 ]\n",
      "[epoch: 168] [loss:  1.3308 ] val_loss: [val_loss  1.2402 ]\n",
      "[epoch: 169] [loss:  1.3355 ] val_loss: [val_loss  1.2359 ]\n",
      "[epoch: 170] [loss:  1.3306 ] val_loss: [val_loss  1.2324 ]\n",
      "[epoch: 171] [loss:  1.3234 ] val_loss: [val_loss  1.2268 ]\n",
      "[epoch: 172] [loss:  1.3147 ] val_loss: [val_loss  1.2206 ]\n",
      "[epoch: 173] [loss:  1.3152 ] val_loss: [val_loss  1.2144 ]\n",
      "[epoch: 174] [loss:  1.3047 ] val_loss: [val_loss  1.2068 ]\n",
      "[epoch: 175] [loss:  1.2968 ] val_loss: [val_loss  1.1971 ]\n",
      "[epoch: 176] [loss:  1.2943 ] val_loss: [val_loss  1.1909 ]\n",
      "[epoch: 177] [loss:  1.2903 ] val_loss: [val_loss  1.1856 ]\n",
      "[epoch: 178] [loss:  1.2826 ] val_loss: [val_loss  1.1793 ]\n",
      "[epoch: 179] [loss:  1.2805 ] val_loss: [val_loss  1.1739 ]\n",
      "[epoch: 180] [loss:  1.2716 ] val_loss: [val_loss  1.1722 ]\n",
      "[epoch: 181] [loss:  1.2674 ] val_loss: [val_loss  1.1666 ]\n",
      "[epoch: 182] [loss:  1.2632 ] val_loss: [val_loss  1.1643 ]\n",
      "[epoch: 183] [loss:  1.2571 ] val_loss: [val_loss  1.1606 ]\n",
      "[epoch: 184] [loss:  1.2518 ] val_loss: [val_loss  1.1586 ]\n",
      "[epoch: 185] [loss:  1.2534 ] val_loss: [val_loss  1.1564 ]\n",
      "[epoch: 186] [loss:  1.2473 ] val_loss: [val_loss  1.1563 ]\n",
      "[epoch: 187] [loss:  1.2409 ] val_loss: [val_loss  1.1537 ]\n",
      "[epoch: 188] [loss:  1.2382 ] val_loss: [val_loss  1.1540 ]\n",
      "[epoch: 189] [loss:  1.2344 ] val_loss: [val_loss  1.1534 ]\n",
      "[epoch: 190] [loss:  1.2344 ] val_loss: [val_loss  1.1512 ]\n",
      "[epoch: 191] [loss:  1.2315 ] val_loss: [val_loss  1.1527 ]\n",
      "[epoch: 192] [loss:  1.2336 ] val_loss: [val_loss  1.1495 ]\n",
      "[epoch: 193] [loss:  1.2253 ] val_loss: [val_loss  1.1490 ]\n",
      "[epoch: 194] [loss:  1.2230 ] val_loss: [val_loss  1.1488 ]\n",
      "[epoch: 195] [loss:  1.2210 ] val_loss: [val_loss  1.1458 ]\n",
      "[epoch: 196] [loss:  1.2195 ] val_loss: [val_loss  1.1445 ]\n",
      "[epoch: 197] [loss:  1.2150 ] val_loss: [val_loss  1.1448 ]\n",
      "[epoch: 198] [loss:  1.2142 ] val_loss: [val_loss  1.1422 ]\n",
      "[epoch: 199] [loss:  1.2177 ] val_loss: [val_loss  1.1404 ]\n",
      "[epoch: 200] [loss:  1.2123 ] val_loss: [val_loss  1.1400 ]\n",
      "[epoch: 201] [loss:  1.2087 ] val_loss: [val_loss  1.1378 ]\n",
      "[epoch: 202] [loss:  1.2075 ] val_loss: [val_loss  1.1369 ]\n",
      "[epoch: 203] [loss:  1.2086 ] val_loss: [val_loss  1.1348 ]\n",
      "[epoch: 204] [loss:  1.2032 ] val_loss: [val_loss  1.1339 ]\n",
      "[epoch: 205] [loss:  1.1983 ] val_loss: [val_loss  1.1308 ]\n",
      "[epoch: 206] [loss:  1.1983 ] val_loss: [val_loss  1.1277 ]\n",
      "[epoch: 207] [loss:  1.1935 ] val_loss: [val_loss  1.1262 ]\n",
      "[epoch: 208] [loss:  1.1930 ] val_loss: [val_loss  1.1286 ]\n",
      "[epoch: 209] [loss:  1.1911 ] val_loss: [val_loss  1.1234 ]\n",
      "[epoch: 210] [loss:  1.1916 ] val_loss: [val_loss  1.1224 ]\n",
      "[epoch: 211] [loss:  1.1890 ] val_loss: [val_loss  1.1207 ]\n",
      "[epoch: 212] [loss:  1.1865 ] val_loss: [val_loss  1.1186 ]\n",
      "[epoch: 213] [loss:  1.1849 ] val_loss: [val_loss  1.1181 ]\n",
      "[epoch: 214] [loss:  1.1819 ] val_loss: [val_loss  1.1138 ]\n",
      "[epoch: 215] [loss:  1.1777 ] val_loss: [val_loss  1.1143 ]\n",
      "[epoch: 216] [loss:  1.1745 ] val_loss: [val_loss  1.1115 ]\n",
      "[epoch: 217] [loss:  1.1799 ] val_loss: [val_loss  1.1070 ]\n",
      "[epoch: 218] [loss:  1.1707 ] val_loss: [val_loss  1.1021 ]\n",
      "[epoch: 219] [loss:  1.1738 ] val_loss: [val_loss  1.0990 ]\n",
      "[epoch: 220] [loss:  1.1667 ] val_loss: [val_loss  1.0965 ]\n",
      "[epoch: 221] [loss:  1.1674 ] val_loss: [val_loss  1.0908 ]\n",
      "[epoch: 222] [loss:  1.1601 ] val_loss: [val_loss  1.0821 ]\n",
      "[epoch: 223] [loss:  1.1525 ] val_loss: [val_loss  1.0764 ]\n",
      "[epoch: 224] [loss:  1.1482 ] val_loss: [val_loss  1.0725 ]\n",
      "[epoch: 225] [loss:  1.1394 ] val_loss: [val_loss  1.0682 ]\n",
      "[epoch: 226] [loss:  1.1390 ] val_loss: [val_loss  1.0626 ]\n",
      "[epoch: 227] [loss:  1.1351 ] val_loss: [val_loss  1.0630 ]\n",
      "[epoch: 228] [loss:  1.1307 ] val_loss: [val_loss  1.0586 ]\n",
      "[epoch: 229] [loss:  1.1309 ] val_loss: [val_loss  1.0591 ]\n",
      "[epoch: 230] [loss:  1.1210 ] val_loss: [val_loss  1.0566 ]\n",
      "[epoch: 231] [loss:  1.1208 ] val_loss: [val_loss  1.0569 ]\n",
      "[epoch: 232] [loss:  1.1188 ] val_loss: [val_loss  1.0512 ]\n",
      "[epoch: 233] [loss:  1.1136 ] val_loss: [val_loss  1.0501 ]\n",
      "[epoch: 234] [loss:  1.1133 ] val_loss: [val_loss  1.0527 ]\n",
      "[epoch: 235] [loss:  1.1082 ] val_loss: [val_loss  1.0481 ]\n",
      "[epoch: 236] [loss:  1.1047 ] val_loss: [val_loss  1.0468 ]\n",
      "[epoch: 237] [loss:  1.1098 ] val_loss: [val_loss  1.0475 ]\n",
      "[epoch: 238] [loss:  1.1043 ] val_loss: [val_loss  1.0479 ]\n",
      "[epoch: 239] [loss:  1.1018 ] val_loss: [val_loss  1.0461 ]\n",
      "[epoch: 240] [loss:  1.1023 ] val_loss: [val_loss  1.0435 ]\n",
      "[epoch: 241] [loss:  1.0951 ] val_loss: [val_loss  1.0430 ]\n",
      "[epoch: 242] [loss:  1.0979 ] val_loss: [val_loss  1.0453 ]\n",
      "[epoch: 243] [loss:  1.0978 ] val_loss: [val_loss  1.0408 ]\n",
      "[epoch: 244] [loss:  1.0920 ] val_loss: [val_loss  1.0418 ]\n",
      "[epoch: 245] [loss:  1.0902 ] val_loss: [val_loss  1.0410 ]\n",
      "[epoch: 246] [loss:  1.0933 ] val_loss: [val_loss  1.0401 ]\n",
      "[epoch: 247] [loss:  1.0894 ] val_loss: [val_loss  1.0361 ]\n",
      "[epoch: 248] [loss:  1.0909 ] val_loss: [val_loss  1.0395 ]\n",
      "[epoch: 249] [loss:  1.0881 ] val_loss: [val_loss  1.0347 ]\n",
      "[epoch: 250] [loss:  1.0841 ] val_loss: [val_loss  1.0337 ]\n",
      "[epoch: 251] [loss:  1.0828 ] val_loss: [val_loss  1.0310 ]\n",
      "[epoch: 252] [loss:  1.0793 ] val_loss: [val_loss  1.0314 ]\n",
      "[epoch: 253] [loss:  1.0797 ] val_loss: [val_loss  1.0288 ]\n",
      "[epoch: 254] [loss:  1.0777 ] val_loss: [val_loss  1.0279 ]\n",
      "[epoch: 255] [loss:  1.0759 ] val_loss: [val_loss  1.0238 ]\n",
      "[epoch: 256] [loss:  1.0695 ] val_loss: [val_loss  1.0235 ]\n",
      "[epoch: 257] [loss:  1.0729 ] val_loss: [val_loss  1.0232 ]\n",
      "[epoch: 258] [loss:  1.0723 ] val_loss: [val_loss  1.0191 ]\n",
      "[epoch: 259] [loss:  1.0696 ] val_loss: [val_loss  1.0222 ]\n",
      "[epoch: 260] [loss:  1.0658 ] val_loss: [val_loss  1.0215 ]\n",
      "[epoch: 261] [loss:  1.0646 ] val_loss: [val_loss  1.0215 ]\n",
      "[epoch: 262] [loss:  1.0633 ] val_loss: [val_loss  1.0157 ]\n",
      "[epoch: 263] [loss:  1.0654 ] val_loss: [val_loss  1.0174 ]\n",
      "[epoch: 264] [loss:  1.0596 ] val_loss: [val_loss  1.0138 ]\n",
      "[epoch: 265] [loss:  1.0606 ] val_loss: [val_loss  1.0135 ]\n",
      "[epoch: 266] [loss:  1.0565 ] val_loss: [val_loss  1.0092 ]\n",
      "[epoch: 267] [loss:  1.0484 ] val_loss: [val_loss  1.0092 ]\n",
      "[epoch: 268] [loss:  1.0503 ] val_loss: [val_loss  1.0075 ]\n",
      "[epoch: 269] [loss:  1.0510 ] val_loss: [val_loss  1.0080 ]\n",
      "[epoch: 270] [loss:  1.0492 ] val_loss: [val_loss  1.0016 ]\n",
      "[epoch: 271] [loss:  1.0457 ] val_loss: [val_loss  1.0018 ]\n",
      "[epoch: 272] [loss:  1.0473 ] val_loss: [val_loss  1.0051 ]\n",
      "[epoch: 273] [loss:  1.0430 ] val_loss: [val_loss  0.9962 ]\n",
      "[epoch: 274] [loss:  1.0432 ] val_loss: [val_loss  0.9957 ]\n",
      "[epoch: 275] [loss:  1.0414 ] val_loss: [val_loss  0.9947 ]\n",
      "[epoch: 276] [loss:  1.0423 ] val_loss: [val_loss  0.9895 ]\n",
      "[epoch: 277] [loss:  1.0392 ] val_loss: [val_loss  0.9884 ]\n",
      "[epoch: 278] [loss:  1.0314 ] val_loss: [val_loss  0.9891 ]\n",
      "[epoch: 279] [loss:  1.0366 ] val_loss: [val_loss  0.9846 ]\n",
      "[epoch: 280] [loss:  1.0258 ] val_loss: [val_loss  0.9832 ]\n",
      "[epoch: 281] [loss:  1.0297 ] val_loss: [val_loss  0.9793 ]\n",
      "[epoch: 282] [loss:  1.0324 ] val_loss: [val_loss  0.9776 ]\n",
      "[epoch: 283] [loss:  1.0200 ] val_loss: [val_loss  0.9761 ]\n",
      "[epoch: 284] [loss:  1.0170 ] val_loss: [val_loss  0.9740 ]\n",
      "[epoch: 285] [loss:  1.0174 ] val_loss: [val_loss  0.9718 ]\n",
      "[epoch: 286] [loss:  1.0146 ] val_loss: [val_loss  0.9718 ]\n",
      "[epoch: 287] [loss:  1.0193 ] val_loss: [val_loss  0.9687 ]\n",
      "[epoch: 288] [loss:  1.0111 ] val_loss: [val_loss  0.9655 ]\n",
      "[epoch: 289] [loss:  1.0121 ] val_loss: [val_loss  0.9627 ]\n",
      "[epoch: 290] [loss:  1.0123 ] val_loss: [val_loss  0.9606 ]\n",
      "[epoch: 291] [loss:  1.0077 ] val_loss: [val_loss  0.9636 ]\n",
      "[epoch: 292] [loss:  1.0062 ] val_loss: [val_loss  0.9588 ]\n",
      "[epoch: 293] [loss:  1.0067 ] val_loss: [val_loss  0.9558 ]\n",
      "[epoch: 294] [loss:  1.0038 ] val_loss: [val_loss  0.9557 ]\n",
      "[epoch: 295] [loss:  1.0006 ] val_loss: [val_loss  0.9524 ]\n",
      "[epoch: 296] [loss:  1.0004 ] val_loss: [val_loss  0.9553 ]\n",
      "[epoch: 297] [loss:  1.0016 ] val_loss: [val_loss  0.9489 ]\n",
      "[epoch: 298] [loss:  1.0002 ] val_loss: [val_loss  0.9500 ]\n",
      "[epoch: 299] [loss:  0.9935 ] val_loss: [val_loss  0.9457 ]\n",
      "[epoch: 300] [loss:  0.9982 ] val_loss: [val_loss  0.9463 ]\n",
      "[epoch: 301] [loss:  0.9928 ] val_loss: [val_loss  0.9487 ]\n",
      "[epoch: 302] [loss:  0.9944 ] val_loss: [val_loss  0.9470 ]\n",
      "[epoch: 303] [loss:  0.9895 ] val_loss: [val_loss  0.9426 ]\n",
      "[epoch: 304] [loss:  0.9894 ] val_loss: [val_loss  0.9483 ]\n",
      "[epoch: 305] [loss:  0.9885 ] val_loss: [val_loss  0.9423 ]\n",
      "[epoch: 306] [loss:  0.9905 ] val_loss: [val_loss  0.9386 ]\n",
      "[epoch: 307] [loss:  0.9834 ] val_loss: [val_loss  0.9425 ]\n",
      "[epoch: 308] [loss:  0.9857 ] val_loss: [val_loss  0.9405 ]\n",
      "[epoch: 309] [loss:  0.9832 ] val_loss: [val_loss  0.9406 ]\n",
      "[epoch: 310] [loss:  0.9822 ] val_loss: [val_loss  0.9387 ]\n",
      "[epoch: 311] [loss:  0.9806 ] val_loss: [val_loss  0.9385 ]\n",
      "[epoch: 312] [loss:  0.9776 ] val_loss: [val_loss  0.9296 ]\n",
      "[epoch: 313] [loss:  0.9809 ] val_loss: [val_loss  0.9323 ]\n",
      "[epoch: 314] [loss:  0.9768 ] val_loss: [val_loss  0.9297 ]\n",
      "[epoch: 315] [loss:  0.9781 ] val_loss: [val_loss  0.9313 ]\n",
      "[epoch: 316] [loss:  0.9838 ] val_loss: [val_loss  0.9343 ]\n",
      "[epoch: 317] [loss:  0.9750 ] val_loss: [val_loss  0.9290 ]\n",
      "[epoch: 318] [loss:  0.9767 ] val_loss: [val_loss  0.9298 ]\n",
      "[epoch: 319] [loss:  0.9850 ] val_loss: [val_loss  0.9297 ]\n",
      "[epoch: 320] [loss:  0.9763 ] val_loss: [val_loss  0.9274 ]\n",
      "[epoch: 321] [loss:  0.9720 ] val_loss: [val_loss  0.9246 ]\n",
      "[epoch: 322] [loss:  0.9737 ] val_loss: [val_loss  0.9259 ]\n",
      "[epoch: 323] [loss:  0.9683 ] val_loss: [val_loss  0.9214 ]\n",
      "[epoch: 324] [loss:  0.9690 ] val_loss: [val_loss  0.9260 ]\n",
      "[epoch: 325] [loss:  0.9663 ] val_loss: [val_loss  0.9181 ]\n",
      "[epoch: 326] [loss:  0.9689 ] val_loss: [val_loss  0.9234 ]\n",
      "[epoch: 327] [loss:  0.9659 ] val_loss: [val_loss  0.9225 ]\n",
      "[epoch: 328] [loss:  0.9625 ] val_loss: [val_loss  0.9168 ]\n",
      "[epoch: 329] [loss:  0.9611 ] val_loss: [val_loss  0.9204 ]\n",
      "[epoch: 330] [loss:  0.9614 ] val_loss: [val_loss  0.9143 ]\n",
      "[epoch: 331] [loss:  0.9589 ] val_loss: [val_loss  0.9114 ]\n",
      "[epoch: 332] [loss:  0.9567 ] val_loss: [val_loss  0.9185 ]\n",
      "[epoch: 333] [loss:  0.9581 ] val_loss: [val_loss  0.9116 ]\n",
      "[epoch: 334] [loss:  0.9638 ] val_loss: [val_loss  0.9145 ]\n",
      "[epoch: 335] [loss:  0.9626 ] val_loss: [val_loss  0.9095 ]\n",
      "[epoch: 336] [loss:  0.9589 ] val_loss: [val_loss  0.9113 ]\n",
      "[epoch: 337] [loss:  0.9531 ] val_loss: [val_loss  0.9102 ]\n",
      "[epoch: 338] [loss:  0.9506 ] val_loss: [val_loss  0.9095 ]\n",
      "[epoch: 339] [loss:  0.9539 ] val_loss: [val_loss  0.9022 ]\n",
      "[epoch: 340] [loss:  0.9533 ] val_loss: [val_loss  0.9039 ]\n",
      "[epoch: 341] [loss:  0.9511 ] val_loss: [val_loss  0.9008 ]\n",
      "[epoch: 342] [loss:  0.9479 ] val_loss: [val_loss  0.8996 ]\n",
      "[epoch: 343] [loss:  0.9432 ] val_loss: [val_loss  0.8977 ]\n",
      "[epoch: 344] [loss:  0.9433 ] val_loss: [val_loss  0.9028 ]\n",
      "[epoch: 345] [loss:  0.9463 ] val_loss: [val_loss  0.8972 ]\n",
      "[epoch: 346] [loss:  0.9448 ] val_loss: [val_loss  0.8951 ]\n",
      "[epoch: 347] [loss:  0.9457 ] val_loss: [val_loss  0.9023 ]\n",
      "[epoch: 348] [loss:  0.9429 ] val_loss: [val_loss  0.8962 ]\n",
      "[epoch: 349] [loss:  0.9370 ] val_loss: [val_loss  0.8909 ]\n",
      "[epoch: 350] [loss:  0.9360 ] val_loss: [val_loss  0.8916 ]\n",
      "[epoch: 351] [loss:  0.9374 ] val_loss: [val_loss  0.8946 ]\n",
      "[epoch: 352] [loss:  0.9400 ] val_loss: [val_loss  0.8854 ]\n",
      "[epoch: 353] [loss:  0.9362 ] val_loss: [val_loss  0.8885 ]\n",
      "[epoch: 354] [loss:  0.9339 ] val_loss: [val_loss  0.8896 ]\n",
      "[epoch: 355] [loss:  0.9310 ] val_loss: [val_loss  0.8846 ]\n",
      "[epoch: 356] [loss:  0.9295 ] val_loss: [val_loss  0.8827 ]\n",
      "[epoch: 357] [loss:  0.9272 ] val_loss: [val_loss  0.8811 ]\n",
      "[epoch: 358] [loss:  0.9314 ] val_loss: [val_loss  0.8820 ]\n",
      "[epoch: 359] [loss:  0.9288 ] val_loss: [val_loss  0.8783 ]\n",
      "[epoch: 360] [loss:  0.9298 ] val_loss: [val_loss  0.8774 ]\n",
      "[epoch: 361] [loss:  0.9267 ] val_loss: [val_loss  0.8714 ]\n",
      "[epoch: 362] [loss:  0.9213 ] val_loss: [val_loss  0.8746 ]\n",
      "[epoch: 363] [loss:  0.9214 ] val_loss: [val_loss  0.8728 ]\n",
      "[epoch: 364] [loss:  0.9202 ] val_loss: [val_loss  0.8707 ]\n",
      "[epoch: 365] [loss:  0.9197 ] val_loss: [val_loss  0.8709 ]\n",
      "[epoch: 366] [loss:  0.9147 ] val_loss: [val_loss  0.8690 ]\n",
      "[epoch: 367] [loss:  0.9179 ] val_loss: [val_loss  0.8657 ]\n",
      "[epoch: 368] [loss:  0.9144 ] val_loss: [val_loss  0.8653 ]\n",
      "[epoch: 369] [loss:  0.9119 ] val_loss: [val_loss  0.8609 ]\n",
      "[epoch: 370] [loss:  0.9122 ] val_loss: [val_loss  0.8615 ]\n",
      "[epoch: 371] [loss:  0.9084 ] val_loss: [val_loss  0.8615 ]\n",
      "[epoch: 372] [loss:  0.9082 ] val_loss: [val_loss  0.8584 ]\n",
      "[epoch: 373] [loss:  0.9098 ] val_loss: [val_loss  0.8573 ]\n",
      "[epoch: 374] [loss:  0.9048 ] val_loss: [val_loss  0.8583 ]\n",
      "[epoch: 375] [loss:  0.9050 ] val_loss: [val_loss  0.8506 ]\n",
      "[epoch: 376] [loss:  0.9020 ] val_loss: [val_loss  0.8522 ]\n",
      "[epoch: 377] [loss:  0.9038 ] val_loss: [val_loss  0.8479 ]\n",
      "[epoch: 378] [loss:  0.8988 ] val_loss: [val_loss  0.8533 ]\n",
      "[epoch: 379] [loss:  0.8964 ] val_loss: [val_loss  0.8489 ]\n",
      "[epoch: 380] [loss:  0.8973 ] val_loss: [val_loss  0.8461 ]\n",
      "[epoch: 381] [loss:  0.8952 ] val_loss: [val_loss  0.8438 ]\n",
      "[epoch: 382] [loss:  0.8942 ] val_loss: [val_loss  0.8451 ]\n",
      "[epoch: 383] [loss:  0.8928 ] val_loss: [val_loss  0.8516 ]\n",
      "[epoch: 384] [loss:  0.8947 ] val_loss: [val_loss  0.8395 ]\n",
      "[epoch: 385] [loss:  0.8891 ] val_loss: [val_loss  0.8360 ]\n",
      "[epoch: 386] [loss:  0.8923 ] val_loss: [val_loss  0.8449 ]\n",
      "[epoch: 387] [loss:  0.8855 ] val_loss: [val_loss  0.8431 ]\n",
      "[epoch: 388] [loss:  0.8854 ] val_loss: [val_loss  0.8383 ]\n",
      "[epoch: 389] [loss:  0.8878 ] val_loss: [val_loss  0.8374 ]\n",
      "[epoch: 390] [loss:  0.8843 ] val_loss: [val_loss  0.8338 ]\n",
      "[epoch: 391] [loss:  0.8810 ] val_loss: [val_loss  0.8315 ]\n",
      "[epoch: 392] [loss:  0.8821 ] val_loss: [val_loss  0.8347 ]\n",
      "[epoch: 393] [loss:  0.8818 ] val_loss: [val_loss  0.8316 ]\n",
      "[epoch: 394] [loss:  0.8760 ] val_loss: [val_loss  0.8315 ]\n",
      "[epoch: 395] [loss:  0.8765 ] val_loss: [val_loss  0.8337 ]\n",
      "[epoch: 396] [loss:  0.8778 ] val_loss: [val_loss  0.8269 ]\n",
      "[epoch: 397] [loss:  0.8767 ] val_loss: [val_loss  0.8277 ]\n",
      "[epoch: 398] [loss:  0.8763 ] val_loss: [val_loss  0.8299 ]\n",
      "[epoch: 399] [loss:  0.8753 ] val_loss: [val_loss  0.8243 ]\n",
      "[epoch: 400] [loss:  0.8708 ] val_loss: [val_loss  0.8275 ]\n",
      "[epoch: 401] [loss:  0.8711 ] val_loss: [val_loss  0.8189 ]\n",
      "[epoch: 402] [loss:  0.8740 ] val_loss: [val_loss  0.8242 ]\n",
      "[epoch: 403] [loss:  0.8716 ] val_loss: [val_loss  0.8214 ]\n",
      "[epoch: 404] [loss:  0.8694 ] val_loss: [val_loss  0.8206 ]\n",
      "[epoch: 405] [loss:  0.8691 ] val_loss: [val_loss  0.8190 ]\n",
      "[epoch: 406] [loss:  0.8672 ] val_loss: [val_loss  0.8172 ]\n",
      "[epoch: 407] [loss:  0.8658 ] val_loss: [val_loss  0.8196 ]\n",
      "[epoch: 408] [loss:  0.8672 ] val_loss: [val_loss  0.8254 ]\n",
      "[epoch: 409] [loss:  0.8634 ] val_loss: [val_loss  0.8226 ]\n",
      "[epoch: 410] [loss:  0.8628 ] val_loss: [val_loss  0.8118 ]\n",
      "[epoch: 411] [loss:  0.8614 ] val_loss: [val_loss  0.8138 ]\n",
      "[epoch: 412] [loss:  0.8629 ] val_loss: [val_loss  0.8085 ]\n",
      "[epoch: 413] [loss:  0.8629 ] val_loss: [val_loss  0.8088 ]\n",
      "[epoch: 414] [loss:  0.8571 ] val_loss: [val_loss  0.8157 ]\n",
      "[epoch: 415] [loss:  0.8580 ] val_loss: [val_loss  0.8153 ]\n",
      "[epoch: 416] [loss:  0.8611 ] val_loss: [val_loss  0.8081 ]\n",
      "[epoch: 417] [loss:  0.8598 ] val_loss: [val_loss  0.8093 ]\n",
      "[epoch: 418] [loss:  0.8591 ] val_loss: [val_loss  0.8052 ]\n",
      "[epoch: 419] [loss:  0.8572 ] val_loss: [val_loss  0.8058 ]\n",
      "[epoch: 420] [loss:  0.8609 ] val_loss: [val_loss  0.8096 ]\n",
      "[epoch: 421] [loss:  0.8576 ] val_loss: [val_loss  0.8112 ]\n",
      "[epoch: 422] [loss:  0.8532 ] val_loss: [val_loss  0.8058 ]\n",
      "[epoch: 423] [loss:  0.8593 ] val_loss: [val_loss  0.8060 ]\n",
      "[epoch: 424] [loss:  0.8526 ] val_loss: [val_loss  0.8025 ]\n",
      "[epoch: 425] [loss:  0.8491 ] val_loss: [val_loss  0.8039 ]\n",
      "[epoch: 426] [loss:  0.8509 ] val_loss: [val_loss  0.8053 ]\n",
      "[epoch: 427] [loss:  0.8459 ] val_loss: [val_loss  0.8024 ]\n",
      "[epoch: 428] [loss:  0.8471 ] val_loss: [val_loss  0.7944 ]\n",
      "[epoch: 429] [loss:  0.8507 ] val_loss: [val_loss  0.8011 ]\n",
      "[epoch: 430] [loss:  0.8511 ] val_loss: [val_loss  0.7953 ]\n",
      "[epoch: 431] [loss:  0.8435 ] val_loss: [val_loss  0.7945 ]\n",
      "[epoch: 432] [loss:  0.8439 ] val_loss: [val_loss  0.7959 ]\n",
      "[epoch: 433] [loss:  0.8434 ] val_loss: [val_loss  0.7947 ]\n",
      "[epoch: 434] [loss:  0.8421 ] val_loss: [val_loss  0.8005 ]\n",
      "[epoch: 435] [loss:  0.8397 ] val_loss: [val_loss  0.7941 ]\n",
      "[epoch: 436] [loss:  0.8411 ] val_loss: [val_loss  0.7913 ]\n",
      "[epoch: 437] [loss:  0.8376 ] val_loss: [val_loss  0.7916 ]\n",
      "[epoch: 438] [loss:  0.8380 ] val_loss: [val_loss  0.7894 ]\n",
      "[epoch: 439] [loss:  0.8365 ] val_loss: [val_loss  0.7946 ]\n",
      "[epoch: 440] [loss:  0.8385 ] val_loss: [val_loss  0.7937 ]\n",
      "[epoch: 441] [loss:  0.8391 ] val_loss: [val_loss  0.7912 ]\n",
      "[epoch: 442] [loss:  0.8371 ] val_loss: [val_loss  0.7923 ]\n",
      "[epoch: 443] [loss:  0.8420 ] val_loss: [val_loss  0.7896 ]\n",
      "[epoch: 444] [loss:  0.8337 ] val_loss: [val_loss  0.7872 ]\n",
      "[epoch: 445] [loss:  0.8325 ] val_loss: [val_loss  0.7818 ]\n",
      "[epoch: 446] [loss:  0.8352 ] val_loss: [val_loss  0.7860 ]\n",
      "[epoch: 447] [loss:  0.8353 ] val_loss: [val_loss  0.7850 ]\n",
      "[epoch: 448] [loss:  0.8299 ] val_loss: [val_loss  0.7923 ]\n",
      "[epoch: 449] [loss:  0.8331 ] val_loss: [val_loss  0.7846 ]\n",
      "[epoch: 450] [loss:  0.8305 ] val_loss: [val_loss  0.7836 ]\n",
      "[epoch: 451] [loss:  0.8312 ] val_loss: [val_loss  0.7827 ]\n",
      "[epoch: 452] [loss:  0.8260 ] val_loss: [val_loss  0.7883 ]\n",
      "[epoch: 453] [loss:  0.8288 ] val_loss: [val_loss  0.7767 ]\n",
      "[epoch: 454] [loss:  0.8255 ] val_loss: [val_loss  0.7831 ]\n",
      "[epoch: 455] [loss:  0.8247 ] val_loss: [val_loss  0.7789 ]\n",
      "[epoch: 456] [loss:  0.8239 ] val_loss: [val_loss  0.7769 ]\n",
      "[epoch: 457] [loss:  0.8270 ] val_loss: [val_loss  0.7785 ]\n",
      "[epoch: 458] [loss:  0.8224 ] val_loss: [val_loss  0.7749 ]\n",
      "[epoch: 459] [loss:  0.8311 ] val_loss: [val_loss  0.7815 ]\n",
      "[epoch: 460] [loss:  0.8255 ] val_loss: [val_loss  0.7756 ]\n",
      "[epoch: 461] [loss:  0.8270 ] val_loss: [val_loss  0.7770 ]\n",
      "[epoch: 462] [loss:  0.8219 ] val_loss: [val_loss  0.7867 ]\n",
      "[epoch: 463] [loss:  0.8232 ] val_loss: [val_loss  0.7774 ]\n",
      "[epoch: 464] [loss:  0.8253 ] val_loss: [val_loss  0.7702 ]\n",
      "[epoch: 465] [loss:  0.8283 ] val_loss: [val_loss  0.7692 ]\n",
      "[epoch: 466] [loss:  0.8206 ] val_loss: [val_loss  0.7750 ]\n",
      "[epoch: 467] [loss:  0.8230 ] val_loss: [val_loss  0.7683 ]\n",
      "[epoch: 468] [loss:  0.8176 ] val_loss: [val_loss  0.7766 ]\n",
      "[epoch: 469] [loss:  0.8176 ] val_loss: [val_loss  0.7714 ]\n",
      "[epoch: 470] [loss:  0.8179 ] val_loss: [val_loss  0.7697 ]\n",
      "[epoch: 471] [loss:  0.8172 ] val_loss: [val_loss  0.7785 ]\n",
      "[epoch: 472] [loss:  0.8169 ] val_loss: [val_loss  0.7694 ]\n",
      "[epoch: 473] [loss:  0.8113 ] val_loss: [val_loss  0.7679 ]\n",
      "[epoch: 474] [loss:  0.8147 ] val_loss: [val_loss  0.7656 ]\n",
      "[epoch: 475] [loss:  0.8130 ] val_loss: [val_loss  0.7710 ]\n",
      "[epoch: 476] [loss:  0.8123 ] val_loss: [val_loss  0.7665 ]\n",
      "[epoch: 477] [loss:  0.8125 ] val_loss: [val_loss  0.7651 ]\n",
      "[epoch: 478] [loss:  0.8103 ] val_loss: [val_loss  0.7585 ]\n",
      "[epoch: 479] [loss:  0.8091 ] val_loss: [val_loss  0.7654 ]\n",
      "[epoch: 480] [loss:  0.8113 ] val_loss: [val_loss  0.7662 ]\n",
      "[epoch: 481] [loss:  0.8131 ] val_loss: [val_loss  0.7635 ]\n",
      "[epoch: 482] [loss:  0.8113 ] val_loss: [val_loss  0.7637 ]\n",
      "[epoch: 483] [loss:  0.8085 ] val_loss: [val_loss  0.7673 ]\n",
      "[epoch: 484] [loss:  0.8116 ] val_loss: [val_loss  0.7643 ]\n",
      "[epoch: 485] [loss:  0.8057 ] val_loss: [val_loss  0.7704 ]\n",
      "[epoch: 486] [loss:  0.8080 ] val_loss: [val_loss  0.7642 ]\n",
      "[epoch: 487] [loss:  0.8083 ] val_loss: [val_loss  0.7629 ]\n",
      "[epoch: 488] [loss:  0.8042 ] val_loss: [val_loss  0.7619 ]\n",
      "[epoch: 489] [loss:  0.8062 ] val_loss: [val_loss  0.7564 ]\n",
      "[epoch: 490] [loss:  0.8096 ] val_loss: [val_loss  0.7627 ]\n",
      "[epoch: 491] [loss:  0.8038 ] val_loss: [val_loss  0.7612 ]\n",
      "[epoch: 492] [loss:  0.8100 ] val_loss: [val_loss  0.7540 ]\n",
      "[epoch: 493] [loss:  0.8044 ] val_loss: [val_loss  0.7597 ]\n",
      "[epoch: 494] [loss:  0.8032 ] val_loss: [val_loss  0.7566 ]\n",
      "[epoch: 495] [loss:  0.8064 ] val_loss: [val_loss  0.7545 ]\n",
      "[epoch: 496] [loss:  0.8023 ] val_loss: [val_loss  0.7582 ]\n",
      "[epoch: 497] [loss:  0.8040 ] val_loss: [val_loss  0.7576 ]\n",
      "[epoch: 498] [loss:  0.7984 ] val_loss: [val_loss  0.7556 ]\n",
      "[epoch: 499] [loss:  0.8029 ] val_loss: [val_loss  0.7541 ]\n",
      "[epoch: 500] [loss:  0.7987 ] val_loss: [val_loss  0.7504 ]\n",
      "[epoch: 501] [loss:  0.7968 ] val_loss: [val_loss  0.7518 ]\n",
      "[epoch: 502] [loss:  0.7997 ] val_loss: [val_loss  0.7474 ]\n",
      "[epoch: 503] [loss:  0.7964 ] val_loss: [val_loss  0.7454 ]\n",
      "[epoch: 504] [loss:  0.7976 ] val_loss: [val_loss  0.7472 ]\n",
      "[epoch: 505] [loss:  0.7981 ] val_loss: [val_loss  0.7471 ]\n",
      "[epoch: 506] [loss:  0.7968 ] val_loss: [val_loss  0.7497 ]\n",
      "[epoch: 507] [loss:  0.7973 ] val_loss: [val_loss  0.7548 ]\n",
      "[epoch: 508] [loss:  0.7979 ] val_loss: [val_loss  0.7513 ]\n",
      "[epoch: 509] [loss:  0.7943 ] val_loss: [val_loss  0.7499 ]\n",
      "[epoch: 510] [loss:  0.7945 ] val_loss: [val_loss  0.7471 ]\n",
      "[epoch: 511] [loss:  0.7909 ] val_loss: [val_loss  0.7463 ]\n",
      "[epoch: 512] [loss:  0.7917 ] val_loss: [val_loss  0.7514 ]\n",
      "[epoch: 513] [loss:  0.7890 ] val_loss: [val_loss  0.7430 ]\n",
      "[epoch: 514] [loss:  0.7931 ] val_loss: [val_loss  0.7517 ]\n",
      "[epoch: 515] [loss:  0.7914 ] val_loss: [val_loss  0.7516 ]\n",
      "[epoch: 516] [loss:  0.7936 ] val_loss: [val_loss  0.7478 ]\n",
      "[epoch: 517] [loss:  0.7899 ] val_loss: [val_loss  0.7437 ]\n",
      "[epoch: 518] [loss:  0.7887 ] val_loss: [val_loss  0.7532 ]\n",
      "[epoch: 519] [loss:  0.7929 ] val_loss: [val_loss  0.7485 ]\n",
      "[epoch: 520] [loss:  0.7923 ] val_loss: [val_loss  0.7427 ]\n",
      "[epoch: 521] [loss:  0.7896 ] val_loss: [val_loss  0.7399 ]\n",
      "[epoch: 522] [loss:  0.7904 ] val_loss: [val_loss  0.7416 ]\n",
      "[epoch: 523] [loss:  0.7893 ] val_loss: [val_loss  0.7394 ]\n",
      "[epoch: 524] [loss:  0.7918 ] val_loss: [val_loss  0.7430 ]\n",
      "[epoch: 525] [loss:  0.7856 ] val_loss: [val_loss  0.7421 ]\n",
      "[epoch: 526] [loss:  0.7856 ] val_loss: [val_loss  0.7395 ]\n",
      "[epoch: 527] [loss:  0.7914 ] val_loss: [val_loss  0.7414 ]\n",
      "[epoch: 528] [loss:  0.7878 ] val_loss: [val_loss  0.7395 ]\n",
      "[epoch: 529] [loss:  0.7834 ] val_loss: [val_loss  0.7399 ]\n",
      "[epoch: 530] [loss:  0.7867 ] val_loss: [val_loss  0.7423 ]\n",
      "[epoch: 531] [loss:  0.7804 ] val_loss: [val_loss  0.7387 ]\n",
      "[epoch: 532] [loss:  0.7842 ] val_loss: [val_loss  0.7369 ]\n",
      "[epoch: 533] [loss:  0.7819 ] val_loss: [val_loss  0.7432 ]\n",
      "[epoch: 534] [loss:  0.7805 ] val_loss: [val_loss  0.7421 ]\n",
      "[epoch: 535] [loss:  0.7852 ] val_loss: [val_loss  0.7487 ]\n",
      "[epoch: 536] [loss:  0.7920 ] val_loss: [val_loss  0.7355 ]\n",
      "[epoch: 537] [loss:  0.7810 ] val_loss: [val_loss  0.7433 ]\n",
      "[epoch: 538] [loss:  0.7812 ] val_loss: [val_loss  0.7405 ]\n",
      "[epoch: 539] [loss:  0.7774 ] val_loss: [val_loss  0.7375 ]\n",
      "[epoch: 540] [loss:  0.7842 ] val_loss: [val_loss  0.7339 ]\n",
      "[epoch: 541] [loss:  0.7775 ] val_loss: [val_loss  0.7349 ]\n",
      "[epoch: 542] [loss:  0.7793 ] val_loss: [val_loss  0.7388 ]\n",
      "[epoch: 543] [loss:  0.7765 ] val_loss: [val_loss  0.7345 ]\n",
      "[epoch: 544] [loss:  0.7817 ] val_loss: [val_loss  0.7342 ]\n",
      "[epoch: 545] [loss:  0.7779 ] val_loss: [val_loss  0.7324 ]\n",
      "[epoch: 546] [loss:  0.7775 ] val_loss: [val_loss  0.7348 ]\n",
      "[epoch: 547] [loss:  0.7801 ] val_loss: [val_loss  0.7310 ]\n",
      "[epoch: 548] [loss:  0.7808 ] val_loss: [val_loss  0.7378 ]\n",
      "[epoch: 549] [loss:  0.7753 ] val_loss: [val_loss  0.7335 ]\n",
      "[epoch: 550] [loss:  0.7790 ] val_loss: [val_loss  0.7404 ]\n",
      "[epoch: 551] [loss:  0.7755 ] val_loss: [val_loss  0.7419 ]\n",
      "[epoch: 552] [loss:  0.7733 ] val_loss: [val_loss  0.7369 ]\n",
      "[epoch: 553] [loss:  0.7722 ] val_loss: [val_loss  0.7261 ]\n",
      "[epoch: 554] [loss:  0.7715 ] val_loss: [val_loss  0.7285 ]\n",
      "[epoch: 555] [loss:  0.7729 ] val_loss: [val_loss  0.7300 ]\n",
      "[epoch: 556] [loss:  0.7750 ] val_loss: [val_loss  0.7342 ]\n",
      "[epoch: 557] [loss:  0.7690 ] val_loss: [val_loss  0.7357 ]\n",
      "[epoch: 558] [loss:  0.7718 ] val_loss: [val_loss  0.7351 ]\n",
      "[epoch: 559] [loss:  0.7700 ] val_loss: [val_loss  0.7360 ]\n",
      "[epoch: 560] [loss:  0.7857 ] val_loss: [val_loss  0.7512 ]\n",
      "[epoch: 561] [loss:  0.7791 ] val_loss: [val_loss  0.7378 ]\n",
      "[epoch: 562] [loss:  0.7716 ] val_loss: [val_loss  0.7344 ]\n",
      "[epoch: 563] [loss:  0.7737 ] val_loss: [val_loss  0.7328 ]\n",
      "[epoch: 564] [loss:  0.7750 ] val_loss: [val_loss  0.7294 ]\n",
      "[epoch: 565] [loss:  0.7742 ] val_loss: [val_loss  0.7399 ]\n",
      "[epoch: 566] [loss:  0.7684 ] val_loss: [val_loss  0.7290 ]\n",
      "[epoch: 567] [loss:  0.7705 ] val_loss: [val_loss  0.7266 ]\n",
      "[epoch: 568] [loss:  0.7716 ] val_loss: [val_loss  0.7288 ]\n",
      "[epoch: 569] [loss:  0.7711 ] val_loss: [val_loss  0.7265 ]\n",
      "[epoch: 570] [loss:  0.7684 ] val_loss: [val_loss  0.7322 ]\n",
      "[epoch: 571] [loss:  0.7697 ] val_loss: [val_loss  0.7305 ]\n",
      "[epoch: 572] [loss:  0.7627 ] val_loss: [val_loss  0.7270 ]\n",
      "[epoch: 573] [loss:  0.7684 ] val_loss: [val_loss  0.7352 ]\n",
      "[epoch: 574] [loss:  0.7729 ] val_loss: [val_loss  0.7317 ]\n",
      "[epoch: 575] [loss:  0.7650 ] val_loss: [val_loss  0.7250 ]\n",
      "[epoch: 576] [loss:  0.7682 ] val_loss: [val_loss  0.7232 ]\n",
      "[epoch: 577] [loss:  0.7662 ] val_loss: [val_loss  0.7204 ]\n",
      "[epoch: 578] [loss:  0.7691 ] val_loss: [val_loss  0.7214 ]\n",
      "[epoch: 579] [loss:  0.7689 ] val_loss: [val_loss  0.7235 ]\n",
      "[epoch: 580] [loss:  0.7644 ] val_loss: [val_loss  0.7202 ]\n",
      "[epoch: 581] [loss:  0.7628 ] val_loss: [val_loss  0.7224 ]\n",
      "[epoch: 582] [loss:  0.7626 ] val_loss: [val_loss  0.7266 ]\n",
      "[epoch: 583] [loss:  0.7667 ] val_loss: [val_loss  0.7299 ]\n",
      "[epoch: 584] [loss:  0.7661 ] val_loss: [val_loss  0.7265 ]\n",
      "[epoch: 585] [loss:  0.7595 ] val_loss: [val_loss  0.7235 ]\n",
      "[epoch: 586] [loss:  0.7602 ] val_loss: [val_loss  0.7286 ]\n",
      "[epoch: 587] [loss:  0.7625 ] val_loss: [val_loss  0.7243 ]\n",
      "[epoch: 588] [loss:  0.7640 ] val_loss: [val_loss  0.7255 ]\n",
      "[epoch: 589] [loss:  0.7602 ] val_loss: [val_loss  0.7195 ]\n",
      "[epoch: 590] [loss:  0.7632 ] val_loss: [val_loss  0.7191 ]\n",
      "[epoch: 591] [loss:  0.7629 ] val_loss: [val_loss  0.7209 ]\n",
      "[epoch: 592] [loss:  0.7615 ] val_loss: [val_loss  0.7203 ]\n",
      "[epoch: 593] [loss:  0.7625 ] val_loss: [val_loss  0.7224 ]\n",
      "[epoch: 594] [loss:  0.7629 ] val_loss: [val_loss  0.7229 ]\n",
      "[epoch: 595] [loss:  0.7571 ] val_loss: [val_loss  0.7243 ]\n",
      "[epoch: 596] [loss:  0.7628 ] val_loss: [val_loss  0.7181 ]\n",
      "[epoch: 597] [loss:  0.7605 ] val_loss: [val_loss  0.7245 ]\n",
      "[epoch: 598] [loss:  0.7643 ] val_loss: [val_loss  0.7192 ]\n",
      "[epoch: 599] [loss:  0.7640 ] val_loss: [val_loss  0.7153 ]\n",
      "[epoch: 600] [loss:  0.7585 ] val_loss: [val_loss  0.7154 ]\n",
      "[epoch: 601] [loss:  0.7568 ] val_loss: [val_loss  0.7205 ]\n",
      "[epoch: 602] [loss:  0.7596 ] val_loss: [val_loss  0.7176 ]\n",
      "[epoch: 603] [loss:  0.7573 ] val_loss: [val_loss  0.7217 ]\n",
      "[epoch: 604] [loss:  0.7591 ] val_loss: [val_loss  0.7185 ]\n",
      "[epoch: 605] [loss:  0.7608 ] val_loss: [val_loss  0.7162 ]\n",
      "[epoch: 606] [loss:  0.7550 ] val_loss: [val_loss  0.7171 ]\n",
      "[epoch: 607] [loss:  0.7554 ] val_loss: [val_loss  0.7222 ]\n",
      "[epoch: 608] [loss:  0.7579 ] val_loss: [val_loss  0.7219 ]\n",
      "[epoch: 609] [loss:  0.7502 ] val_loss: [val_loss  0.7138 ]\n",
      "[epoch: 610] [loss:  0.7556 ] val_loss: [val_loss  0.7228 ]\n",
      "[epoch: 611] [loss:  0.7567 ] val_loss: [val_loss  0.7197 ]\n",
      "[epoch: 612] [loss:  0.7564 ] val_loss: [val_loss  0.7170 ]\n",
      "[epoch: 613] [loss:  0.7516 ] val_loss: [val_loss  0.7206 ]\n",
      "[epoch: 614] [loss:  0.7547 ] val_loss: [val_loss  0.7168 ]\n",
      "[epoch: 615] [loss:  0.7522 ] val_loss: [val_loss  0.7130 ]\n",
      "[epoch: 616] [loss:  0.7493 ] val_loss: [val_loss  0.7161 ]\n",
      "[epoch: 617] [loss:  0.7506 ] val_loss: [val_loss  0.7168 ]\n",
      "[epoch: 618] [loss:  0.7529 ] val_loss: [val_loss  0.7157 ]\n",
      "[epoch: 619] [loss:  0.7562 ] val_loss: [val_loss  0.7148 ]\n",
      "[epoch: 620] [loss:  0.7570 ] val_loss: [val_loss  0.7175 ]\n",
      "[epoch: 621] [loss:  0.7545 ] val_loss: [val_loss  0.7163 ]\n",
      "[epoch: 622] [loss:  0.7506 ] val_loss: [val_loss  0.7214 ]\n",
      "[epoch: 623] [loss:  0.7528 ] val_loss: [val_loss  0.7127 ]\n",
      "[epoch: 624] [loss:  0.7534 ] val_loss: [val_loss  0.7100 ]\n",
      "[epoch: 625] [loss:  0.7554 ] val_loss: [val_loss  0.7176 ]\n",
      "[epoch: 626] [loss:  0.7502 ] val_loss: [val_loss  0.7174 ]\n",
      "[epoch: 627] [loss:  0.7488 ] val_loss: [val_loss  0.7149 ]\n",
      "[epoch: 628] [loss:  0.7500 ] val_loss: [val_loss  0.7175 ]\n",
      "[epoch: 629] [loss:  0.7500 ] val_loss: [val_loss  0.7205 ]\n",
      "[epoch: 630] [loss:  0.7576 ] val_loss: [val_loss  0.7119 ]\n",
      "[epoch: 631] [loss:  0.7461 ] val_loss: [val_loss  0.7124 ]\n",
      "[epoch: 632] [loss:  0.7491 ] val_loss: [val_loss  0.7116 ]\n",
      "[epoch: 633] [loss:  0.7503 ] val_loss: [val_loss  0.7169 ]\n",
      "[epoch: 634] [loss:  0.7468 ] val_loss: [val_loss  0.7093 ]\n",
      "[epoch: 635] [loss:  0.7494 ] val_loss: [val_loss  0.7097 ]\n",
      "[epoch: 636] [loss:  0.7474 ] val_loss: [val_loss  0.7098 ]\n",
      "[epoch: 637] [loss:  0.7583 ] val_loss: [val_loss  0.7110 ]\n",
      "[epoch: 638] [loss:  0.7531 ] val_loss: [val_loss  0.7141 ]\n",
      "[epoch: 639] [loss:  0.7485 ] val_loss: [val_loss  0.7093 ]\n",
      "[epoch: 640] [loss:  0.7477 ] val_loss: [val_loss  0.7130 ]\n",
      "[epoch: 641] [loss:  0.7424 ] val_loss: [val_loss  0.7058 ]\n",
      "[epoch: 642] [loss:  0.7495 ] val_loss: [val_loss  0.7097 ]\n",
      "[epoch: 643] [loss:  0.7457 ] val_loss: [val_loss  0.7137 ]\n",
      "[epoch: 644] [loss:  0.7450 ] val_loss: [val_loss  0.7108 ]\n",
      "[epoch: 645] [loss:  0.7456 ] val_loss: [val_loss  0.7120 ]\n",
      "[epoch: 646] [loss:  0.7511 ] val_loss: [val_loss  0.7198 ]\n",
      "[epoch: 647] [loss:  0.7477 ] val_loss: [val_loss  0.7096 ]\n",
      "[epoch: 648] [loss:  0.7432 ] val_loss: [val_loss  0.7127 ]\n",
      "[epoch: 649] [loss:  0.7480 ] val_loss: [val_loss  0.7071 ]\n",
      "[epoch: 650] [loss:  0.7407 ] val_loss: [val_loss  0.7008 ]\n",
      "[epoch: 651] [loss:  0.7479 ] val_loss: [val_loss  0.7071 ]\n",
      "[epoch: 652] [loss:  0.7453 ] val_loss: [val_loss  0.7144 ]\n",
      "[epoch: 653] [loss:  0.7461 ] val_loss: [val_loss  0.7089 ]\n",
      "[epoch: 654] [loss:  0.7486 ] val_loss: [val_loss  0.7129 ]\n",
      "[epoch: 655] [loss:  0.7448 ] val_loss: [val_loss  0.7086 ]\n",
      "[epoch: 656] [loss:  0.7392 ] val_loss: [val_loss  0.7077 ]\n",
      "[epoch: 657] [loss:  0.7436 ] val_loss: [val_loss  0.7087 ]\n",
      "[epoch: 658] [loss:  0.7432 ] val_loss: [val_loss  0.7097 ]\n",
      "[epoch: 659] [loss:  0.7426 ] val_loss: [val_loss  0.7063 ]\n",
      "[epoch: 660] [loss:  0.7455 ] val_loss: [val_loss  0.7095 ]\n",
      "[epoch: 661] [loss:  0.7373 ] val_loss: [val_loss  0.7048 ]\n",
      "[epoch: 662] [loss:  0.7440 ] val_loss: [val_loss  0.7045 ]\n",
      "[epoch: 663] [loss:  0.7387 ] val_loss: [val_loss  0.6985 ]\n",
      "[epoch: 664] [loss:  0.7426 ] val_loss: [val_loss  0.6986 ]\n",
      "[epoch: 665] [loss:  0.7437 ] val_loss: [val_loss  0.7098 ]\n",
      "[epoch: 666] [loss:  0.7446 ] val_loss: [val_loss  0.7065 ]\n",
      "[epoch: 667] [loss:  0.7400 ] val_loss: [val_loss  0.7078 ]\n",
      "[epoch: 668] [loss:  0.7394 ] val_loss: [val_loss  0.7054 ]\n",
      "[epoch: 669] [loss:  0.7412 ] val_loss: [val_loss  0.7029 ]\n",
      "[epoch: 670] [loss:  0.7349 ] val_loss: [val_loss  0.7014 ]\n",
      "[epoch: 671] [loss:  0.7378 ] val_loss: [val_loss  0.7054 ]\n",
      "[epoch: 672] [loss:  0.7416 ] val_loss: [val_loss  0.7046 ]\n",
      "[epoch: 673] [loss:  0.7423 ] val_loss: [val_loss  0.7035 ]\n",
      "[epoch: 674] [loss:  0.7405 ] val_loss: [val_loss  0.7002 ]\n",
      "[epoch: 675] [loss:  0.7431 ] val_loss: [val_loss  0.7063 ]\n",
      "[epoch: 676] [loss:  0.7407 ] val_loss: [val_loss  0.7057 ]\n",
      "[epoch: 677] [loss:  0.7384 ] val_loss: [val_loss  0.7006 ]\n",
      "[epoch: 678] [loss:  0.7359 ] val_loss: [val_loss  0.7012 ]\n",
      "[epoch: 679] [loss:  0.7398 ] val_loss: [val_loss  0.6986 ]\n",
      "[epoch: 680] [loss:  0.7379 ] val_loss: [val_loss  0.7036 ]\n",
      "[epoch: 681] [loss:  0.7350 ] val_loss: [val_loss  0.7014 ]\n",
      "[epoch: 682] [loss:  0.7384 ] val_loss: [val_loss  0.6988 ]\n",
      "[epoch: 683] [loss:  0.7381 ] val_loss: [val_loss  0.6996 ]\n",
      "[epoch: 684] [loss:  0.7369 ] val_loss: [val_loss  0.6964 ]\n",
      "[epoch: 685] [loss:  0.7374 ] val_loss: [val_loss  0.6976 ]\n",
      "[epoch: 686] [loss:  0.7407 ] val_loss: [val_loss  0.7021 ]\n",
      "[epoch: 687] [loss:  0.7334 ] val_loss: [val_loss  0.7020 ]\n",
      "[epoch: 688] [loss:  0.7353 ] val_loss: [val_loss  0.6982 ]\n",
      "[epoch: 689] [loss:  0.7357 ] val_loss: [val_loss  0.6980 ]\n",
      "[epoch: 690] [loss:  0.7349 ] val_loss: [val_loss  0.7073 ]\n",
      "[epoch: 691] [loss:  0.7356 ] val_loss: [val_loss  0.6996 ]\n",
      "[epoch: 692] [loss:  0.7337 ] val_loss: [val_loss  0.6966 ]\n",
      "[epoch: 693] [loss:  0.7351 ] val_loss: [val_loss  0.6950 ]\n",
      "[epoch: 694] [loss:  0.7408 ] val_loss: [val_loss  0.7017 ]\n",
      "[epoch: 695] [loss:  0.7364 ] val_loss: [val_loss  0.7045 ]\n",
      "[epoch: 696] [loss:  0.7329 ] val_loss: [val_loss  0.6995 ]\n",
      "[epoch: 697] [loss:  0.7350 ] val_loss: [val_loss  0.6992 ]\n",
      "[epoch: 698] [loss:  0.7402 ] val_loss: [val_loss  0.6982 ]\n",
      "[epoch: 699] [loss:  0.7270 ] val_loss: [val_loss  0.6970 ]\n",
      "[epoch: 700] [loss:  0.7343 ] val_loss: [val_loss  0.6939 ]\n",
      "[epoch: 701] [loss:  0.7368 ] val_loss: [val_loss  0.6950 ]\n",
      "[epoch: 702] [loss:  0.7354 ] val_loss: [val_loss  0.7005 ]\n",
      "[epoch: 703] [loss:  0.7362 ] val_loss: [val_loss  0.6970 ]\n",
      "[epoch: 704] [loss:  0.7338 ] val_loss: [val_loss  0.7001 ]\n",
      "[epoch: 705] [loss:  0.7347 ] val_loss: [val_loss  0.7001 ]\n",
      "[epoch: 706] [loss:  0.7291 ] val_loss: [val_loss  0.6944 ]\n",
      "[epoch: 707] [loss:  0.7262 ] val_loss: [val_loss  0.6995 ]\n",
      "[epoch: 708] [loss:  0.7308 ] val_loss: [val_loss  0.6948 ]\n",
      "[epoch: 709] [loss:  0.7332 ] val_loss: [val_loss  0.6934 ]\n",
      "[epoch: 710] [loss:  0.7311 ] val_loss: [val_loss  0.6982 ]\n",
      "[epoch: 711] [loss:  0.7264 ] val_loss: [val_loss  0.6930 ]\n",
      "[epoch: 712] [loss:  0.7214 ] val_loss: [val_loss  0.6995 ]\n",
      "[epoch: 713] [loss:  0.7326 ] val_loss: [val_loss  0.6950 ]\n",
      "[epoch: 714] [loss:  0.7263 ] val_loss: [val_loss  0.7005 ]\n",
      "[epoch: 715] [loss:  0.7297 ] val_loss: [val_loss  0.6917 ]\n",
      "[epoch: 716] [loss:  0.7283 ] val_loss: [val_loss  0.6915 ]\n",
      "[epoch: 717] [loss:  0.7272 ] val_loss: [val_loss  0.6947 ]\n",
      "[epoch: 718] [loss:  0.7289 ] val_loss: [val_loss  0.6881 ]\n",
      "[epoch: 719] [loss:  0.7328 ] val_loss: [val_loss  0.6900 ]\n",
      "[epoch: 720] [loss:  0.7308 ] val_loss: [val_loss  0.6948 ]\n",
      "[epoch: 721] [loss:  0.7264 ] val_loss: [val_loss  0.6959 ]\n",
      "[epoch: 722] [loss:  0.7302 ] val_loss: [val_loss  0.6883 ]\n",
      "[epoch: 723] [loss:  0.7250 ] val_loss: [val_loss  0.6909 ]\n",
      "[epoch: 724] [loss:  0.7257 ] val_loss: [val_loss  0.6834 ]\n",
      "[epoch: 725] [loss:  0.7234 ] val_loss: [val_loss  0.6996 ]\n",
      "[epoch: 726] [loss:  0.7279 ] val_loss: [val_loss  0.6893 ]\n",
      "[epoch: 727] [loss:  0.7250 ] val_loss: [val_loss  0.6918 ]\n",
      "[epoch: 728] [loss:  0.7277 ] val_loss: [val_loss  0.6862 ]\n",
      "[epoch: 729] [loss:  0.7280 ] val_loss: [val_loss  0.6929 ]\n",
      "[epoch: 730] [loss:  0.7286 ] val_loss: [val_loss  0.6886 ]\n",
      "[epoch: 731] [loss:  0.7245 ] val_loss: [val_loss  0.6882 ]\n",
      "[epoch: 732] [loss:  0.7264 ] val_loss: [val_loss  0.6844 ]\n",
      "[epoch: 733] [loss:  0.7278 ] val_loss: [val_loss  0.6901 ]\n",
      "[epoch: 734] [loss:  0.7241 ] val_loss: [val_loss  0.6892 ]\n",
      "[epoch: 735] [loss:  0.7303 ] val_loss: [val_loss  0.6892 ]\n",
      "[epoch: 736] [loss:  0.7204 ] val_loss: [val_loss  0.6936 ]\n",
      "[epoch: 737] [loss:  0.7276 ] val_loss: [val_loss  0.6843 ]\n",
      "[epoch: 738] [loss:  0.7249 ] val_loss: [val_loss  0.6892 ]\n",
      "[epoch: 739] [loss:  0.7274 ] val_loss: [val_loss  0.6833 ]\n",
      "[epoch: 740] [loss:  0.7255 ] val_loss: [val_loss  0.6868 ]\n",
      "[epoch: 741] [loss:  0.7252 ] val_loss: [val_loss  0.6861 ]\n",
      "[epoch: 742] [loss:  0.7219 ] val_loss: [val_loss  0.6870 ]\n",
      "[epoch: 743] [loss:  0.7234 ] val_loss: [val_loss  0.6902 ]\n",
      "[epoch: 744] [loss:  0.7227 ] val_loss: [val_loss  0.6872 ]\n",
      "[epoch: 745] [loss:  0.7241 ] val_loss: [val_loss  0.6812 ]\n",
      "[epoch: 746] [loss:  0.7228 ] val_loss: [val_loss  0.6854 ]\n",
      "[epoch: 747] [loss:  0.7249 ] val_loss: [val_loss  0.6892 ]\n",
      "[epoch: 748] [loss:  0.7269 ] val_loss: [val_loss  0.6855 ]\n",
      "[epoch: 749] [loss:  0.7235 ] val_loss: [val_loss  0.6872 ]\n",
      "[epoch: 750] [loss:  0.7227 ] val_loss: [val_loss  0.6802 ]\n",
      "[epoch: 751] [loss:  0.7223 ] val_loss: [val_loss  0.6830 ]\n",
      "[epoch: 752] [loss:  0.7210 ] val_loss: [val_loss  0.6850 ]\n",
      "[epoch: 753] [loss:  0.7203 ] val_loss: [val_loss  0.6857 ]\n",
      "[epoch: 754] [loss:  0.7231 ] val_loss: [val_loss  0.6840 ]\n",
      "[epoch: 755] [loss:  0.7248 ] val_loss: [val_loss  0.6884 ]\n",
      "[epoch: 756] [loss:  0.7203 ] val_loss: [val_loss  0.6838 ]\n",
      "[epoch: 757] [loss:  0.7191 ] val_loss: [val_loss  0.6830 ]\n",
      "[epoch: 758] [loss:  0.7243 ] val_loss: [val_loss  0.6834 ]\n",
      "[epoch: 759] [loss:  0.7192 ] val_loss: [val_loss  0.6858 ]\n",
      "[epoch: 760] [loss:  0.7205 ] val_loss: [val_loss  0.6809 ]\n",
      "[epoch: 761] [loss:  0.7187 ] val_loss: [val_loss  0.6810 ]\n",
      "[epoch: 762] [loss:  0.7189 ] val_loss: [val_loss  0.6822 ]\n",
      "[epoch: 763] [loss:  0.7231 ] val_loss: [val_loss  0.6834 ]\n",
      "[epoch: 764] [loss:  0.7194 ] val_loss: [val_loss  0.6921 ]\n",
      "[epoch: 765] [loss:  0.7234 ] val_loss: [val_loss  0.6941 ]\n",
      "[epoch: 766] [loss:  0.7245 ] val_loss: [val_loss  0.6834 ]\n",
      "[epoch: 767] [loss:  0.7203 ] val_loss: [val_loss  0.6842 ]\n",
      "[epoch: 768] [loss:  0.7197 ] val_loss: [val_loss  0.6844 ]\n",
      "[epoch: 769] [loss:  0.7216 ] val_loss: [val_loss  0.6848 ]\n",
      "[epoch: 770] [loss:  0.7145 ] val_loss: [val_loss  0.6762 ]\n",
      "[epoch: 771] [loss:  0.7211 ] val_loss: [val_loss  0.6879 ]\n",
      "[epoch: 772] [loss:  0.7156 ] val_loss: [val_loss  0.6863 ]\n",
      "[epoch: 773] [loss:  0.7196 ] val_loss: [val_loss  0.6836 ]\n",
      "[epoch: 774] [loss:  0.7217 ] val_loss: [val_loss  0.6788 ]\n",
      "[epoch: 775] [loss:  0.7155 ] val_loss: [val_loss  0.6795 ]\n",
      "[epoch: 776] [loss:  0.7175 ] val_loss: [val_loss  0.6830 ]\n",
      "[epoch: 777] [loss:  0.7159 ] val_loss: [val_loss  0.6833 ]\n",
      "[epoch: 778] [loss:  0.7198 ] val_loss: [val_loss  0.6840 ]\n",
      "[epoch: 779] [loss:  0.7114 ] val_loss: [val_loss  0.6800 ]\n",
      "[epoch: 780] [loss:  0.7140 ] val_loss: [val_loss  0.6790 ]\n",
      "[epoch: 781] [loss:  0.7182 ] val_loss: [val_loss  0.6784 ]\n",
      "[epoch: 782] [loss:  0.7139 ] val_loss: [val_loss  0.6781 ]\n",
      "[epoch: 783] [loss:  0.7163 ] val_loss: [val_loss  0.6770 ]\n",
      "[epoch: 784] [loss:  0.7159 ] val_loss: [val_loss  0.6734 ]\n",
      "[epoch: 785] [loss:  0.7179 ] val_loss: [val_loss  0.6773 ]\n",
      "[epoch: 786] [loss:  0.7158 ] val_loss: [val_loss  0.6737 ]\n",
      "[epoch: 787] [loss:  0.7136 ] val_loss: [val_loss  0.6742 ]\n",
      "[epoch: 788] [loss:  0.7176 ] val_loss: [val_loss  0.6763 ]\n",
      "[epoch: 789] [loss:  0.7161 ] val_loss: [val_loss  0.6808 ]\n",
      "[epoch: 790] [loss:  0.7176 ] val_loss: [val_loss  0.6735 ]\n",
      "[epoch: 791] [loss:  0.7205 ] val_loss: [val_loss  0.6795 ]\n",
      "[epoch: 792] [loss:  0.7129 ] val_loss: [val_loss  0.6764 ]\n",
      "[epoch: 793] [loss:  0.7146 ] val_loss: [val_loss  0.6714 ]\n",
      "[epoch: 794] [loss:  0.7128 ] val_loss: [val_loss  0.6783 ]\n",
      "[epoch: 795] [loss:  0.7120 ] val_loss: [val_loss  0.6752 ]\n",
      "[epoch: 796] [loss:  0.7126 ] val_loss: [val_loss  0.6798 ]\n",
      "[epoch: 797] [loss:  0.7154 ] val_loss: [val_loss  0.6731 ]\n",
      "[epoch: 798] [loss:  0.7124 ] val_loss: [val_loss  0.6788 ]\n",
      "[epoch: 799] [loss:  0.7066 ] val_loss: [val_loss  0.6767 ]\n",
      "[epoch: 800] [loss:  0.7117 ] val_loss: [val_loss  0.6737 ]\n"
     ]
    }
   ],
   "source": [
    "#Training the model with complete data\n",
    "trained_model = train_transformer(\n",
    "    model,\n",
    "    train_loader,\n",
    "    valid_loader,\n",
    "    loss_func,\n",
    "    num_epochs,\n",
    "    lr = lr,\n",
    "    batch_size=BATCH_SIZE,\n",
    "    warmup_lr=warmup_lr,\n",
    "    warmup_interval=warmup_interval,\n",
    "    device=DEVICE\n",
    ")\n",
    "weights_path = os.path.join(PROJECT_PATH, \"transformer.pt\")\n",
    "torch.save(trained_model.state_dict(), weights_path)"
   ],
   "id": "43bfb054"
  },
  {
   "cell_type": "markdown",
   "metadata": {
    "id": "345b9bae"
   },
   "source": [
    "Run the cell below to get the accuracy on the validation dataset."
   ],
   "id": "345b9bae"
  },
  {
   "cell_type": "code",
   "execution_count": null,
   "metadata": {
    "id": "0ad70d5b",
    "colab": {
     "base_uri": "https://localhost:8080/"
    },
    "executionInfo": {
     "status": "ok",
     "timestamp": 1696385524646,
     "user_tz": -540,
     "elapsed": 317,
     "user": {
      "displayName": "정화식",
      "userId": "11198258190229176580"
     }
    },
    "outputId": "1a0ec6cc-5eea-498c-b084-f01637afe52f"
   },
   "outputs": [
    {
     "output_type": "stream",
     "name": "stdout",
     "text": [
      "Final Model accuracy:  0.7383\n"
     ]
    }
   ],
   "source": [
    "#Final validation accuracy\n",
    "print(\n",
    "    \"Final Model accuracy: \",\n",
    "    \"{:.4f}\".format(\n",
    "        val_transformer(\n",
    "            trained_model, valid_loader, LabelSmoothingLoss, 4, device=DEVICE\n",
    "        )[1]\n",
    "    ),\n",
    ")"
   ],
   "id": "0ad70d5b"
  },
  {
   "cell_type": "markdown",
   "metadata": {
    "id": "c19615d0-9b82-42ac-ba28-e079ca96aed2"
   },
   "source": [
    "## Visualize and Inference: Model in action"
   ],
   "id": "c19615d0-9b82-42ac-ba28-e079ca96aed2"
  },
  {
   "cell_type": "markdown",
   "metadata": {
    "id": "3f413c17-ede5-4d4d-a1fa-54458ca948c5"
   },
   "source": [
    "Now that we have trained a model, lets look at the final results. We will first look at the results from the validation data and visualize the attention weights (remember the self.weights_softmax?). These attention weights should give you some intuition about what the network learns. We have implemented everything for you here and the intention is to help you probe the model and understand about what does the network learn."
   ],
   "id": "3f413c17-ede5-4d4d-a1fa-54458ca948c5"
  },
  {
   "cell_type": "code",
   "execution_count": null,
   "metadata": {
    "id": "c39117ef-da8b-4fb0-904b-c5c4c37fc800"
   },
   "outputs": [],
   "source": [
    "import seaborn\n",
    "from a5_helper import inference"
   ],
   "id": "c39117ef-da8b-4fb0-904b-c5c4c37fc800"
  },
  {
   "cell_type": "markdown",
   "metadata": {
    "id": "137296b8-8ab8-4f9d-bff5-e2584370a757"
   },
   "source": [
    "### Results from the validation data\n",
    "\n",
    "In the below cell we pick the very first data point in the validation data and find the result on it"
   ],
   "id": "137296b8-8ab8-4f9d-bff5-e2584370a757"
  },
  {
   "cell_type": "code",
   "execution_count": null,
   "metadata": {
    "id": "37c01cc4-96b0-4a4e-a820-64e5c2dd5549",
    "executionInfo": {
     "status": "ok",
     "timestamp": 1696383229557,
     "user_tz": -540,
     "elapsed": 2,
     "user": {
      "displayName": "정화식",
      "userId": "11198258190229176580"
     }
    },
    "colab": {
     "base_uri": "https://localhost:8080/"
    },
    "outputId": "0dd1a529-9477-48ac-85c6-0d67a42ba4e1"
   },
   "outputs": [
    {
     "output_type": "stream",
     "name": "stdout",
     "text": [
      "Input sequence: \n",
      " BOS POSITIVE 47 add NEGATIVE 27 EOS\n"
     ]
    }
   ],
   "source": [
    "for it in valid_loader:\n",
    "    it\n",
    "    break\n",
    "inp, inp_pos, out, out_pos = it\n",
    "opposite_tokens_to_str = {v: k for k, v in convert_str_to_tokens.items()}\n",
    "device = torch.device(\"cuda\")\n",
    "model = model.to(device)\n",
    "inp_pos = inp_pos.to(device)\n",
    "out_pos = out_pos.to(device)\n",
    "out = out.to(device)\n",
    "inp = inp.to(device)\n",
    "\n",
    "inp_exp = inp[:1, :]\n",
    "inp_exp_pos = inp_pos[:1]\n",
    "out_pos_exp = out_pos[:1, :]\n",
    "inp_seq = [opposite_tokens_to_str[w.item()] for w in inp_exp[0]]\n",
    "print(\n",
    "    \"Input sequence: \\n\",\n",
    "    inp_seq[0]\n",
    "    + \" \"\n",
    "    + inp_seq[1]\n",
    "    + \" \"\n",
    "    + inp_seq[2]\n",
    "    + inp_seq[3]\n",
    "    + \" \"\n",
    "    + inp_seq[4]\n",
    "    + \" \"\n",
    "    + inp_seq[5]\n",
    "    + \" \"\n",
    "    + inp_seq[6]\n",
    "    + inp_seq[7]\n",
    "    + \" \"\n",
    "    + inp_seq[8],\n",
    ")"
   ],
   "id": "37c01cc4-96b0-4a4e-a820-64e5c2dd5549"
  },
  {
   "cell_type": "code",
   "execution_count": null,
   "metadata": {
    "id": "ab535f1d-3be0-40ef-a0fd-8fca2fae2414",
    "executionInfo": {
     "status": "ok",
     "timestamp": 1696383229939,
     "user_tz": -540,
     "elapsed": 383,
     "user": {
      "displayName": "정화식",
      "userId": "11198258190229176580"
     }
    },
    "colab": {
     "base_uri": "https://localhost:8080/"
    },
    "outputId": "cec6fbc7-c2e6-4fdb-dcee-73734fa428bc"
   },
   "outputs": [
    {
     "output_type": "stream",
     "name": "stdout",
     "text": [
      "Output Sequence:\tBOS NEGATIVE NEGATIVE NEGATIVE NEGATIVE \n"
     ]
    }
   ],
   "source": [
    "out_seq_ans, _ = inference(\n",
    "    trained_model, inp_exp, inp_exp_pos, out_pos_exp, out_seq_len\n",
    ")\n",
    "\n",
    "trained_model.eval()\n",
    "\n",
    "print(\"Output Sequence:\", end=\"\\t\")\n",
    "res = \"BOS \"\n",
    "for i in range(1, out_seq_ans.size(1)):\n",
    "    sym = opposite_tokens_to_str[out_seq_ans[0, i].item()]\n",
    "    if sym == \"EOS\":\n",
    "        break\n",
    "    res += sym + \" \"\n",
    "print(res)"
   ],
   "id": "ab535f1d-3be0-40ef-a0fd-8fca2fae2414"
  },
  {
   "cell_type": "markdown",
   "metadata": {
    "id": "3412c073-d239-450a-aa46-9ec3d61309a6"
   },
   "source": [
    "### Pick your own proboing example\n",
    "\n",
    "In the cell below, you could feed in an example in the input style, changing the variable `custom_seq`. We have filled a placeholder expression for you, but feel free to change it."
   ],
   "id": "3412c073-d239-450a-aa46-9ec3d61309a6"
  },
  {
   "cell_type": "code",
   "execution_count": null,
   "metadata": {
    "id": "d7d2f3b1-ba94-4ccf-84e3-f3238059f25d"
   },
   "outputs": [],
   "source": [
    "custom_seq = \"BOS POSITIVE 02 subtract NEGATIVE 07 EOS\""
   ],
   "id": "d7d2f3b1-ba94-4ccf-84e3-f3238059f25d"
  },
  {
   "cell_type": "code",
   "execution_count": null,
   "metadata": {
    "id": "3caa768d-f61f-4ee4-8e87-259043e93cdb",
    "executionInfo": {
     "status": "ok",
     "timestamp": 1696383229940,
     "user_tz": -540,
     "elapsed": 4,
     "user": {
      "displayName": "정화식",
      "userId": "11198258190229176580"
     }
    },
    "colab": {
     "base_uri": "https://localhost:8080/"
    },
    "outputId": "c168492d-fa01-43f8-b5e1-44b9efb32a29"
   },
   "outputs": [
    {
     "output_type": "stream",
     "name": "stdout",
     "text": [
      "Output Sequence:\tBOS POSITIVE POSITIVE POSITIVE POSITIVE \n"
     ]
    }
   ],
   "source": [
    "out = prepocess_input_sequence(custom_seq, convert_str_to_tokens, SPECIAL_TOKENS)\n",
    "inp_exp = torch.tensor(out).to(DEVICE)\n",
    "\n",
    "out_seq_ans, model_for_visv = inference(\n",
    "    trained_model, inp_exp, inp_exp_pos, out_pos_exp, out_seq_len\n",
    ")\n",
    "\n",
    "trained_model.eval()\n",
    "\n",
    "print(\"Output Sequence:\", end=\"\\t\")\n",
    "res = \"BOS \"\n",
    "for i in range(1, out_seq_ans.size(1)):\n",
    "    sym = opposite_tokens_to_str[out_seq_ans[0, i].item()]\n",
    "    if sym == \"EOS\":\n",
    "        break\n",
    "    res += sym + \" \"\n",
    "print(res)"
   ],
   "id": "3caa768d-f61f-4ee4-8e87-259043e93cdb"
  },
  {
   "cell_type": "markdown",
   "metadata": {
    "id": "0b9ae8cd-2813-4845-a4df-d47ebdc60971"
   },
   "source": [
    "### Visualize the attention weights\n",
    "\n",
    "In this part we will visualize the attention weights for the specific custom input you fed as input. There are seperate heatmaps for encoder and the decoder. The ligher value in color shows higher associated between the token present in that row and column, and darker color shows a weak relation between them"
   ],
   "id": "0b9ae8cd-2813-4845-a4df-d47ebdc60971"
  },
  {
   "cell_type": "code",
   "execution_count": null,
   "metadata": {
    "id": "8e82ff56-d55b-45b7-8507-514ee5968ed5"
   },
   "outputs": [],
   "source": [
    "from a5_helper import draw\n",
    "import seaborn"
   ],
   "id": "8e82ff56-d55b-45b7-8507-514ee5968ed5"
  },
  {
   "cell_type": "code",
   "execution_count": null,
   "metadata": {
    "id": "db22789f"
   },
   "outputs": [],
   "source": [
    "target_exp = res.split()"
   ],
   "id": "db22789f"
  },
  {
   "cell_type": "code",
   "execution_count": null,
   "metadata": {
    "id": "9cae7e26-2587-4297-a44c-c59ab541dfc8",
    "executionInfo": {
     "status": "ok",
     "timestamp": 1696383233293,
     "user_tz": -540,
     "elapsed": 3355,
     "user": {
      "displayName": "정화식",
      "userId": "11198258190229176580"
     }
    },
    "colab": {
     "base_uri": "https://localhost:8080/",
     "height": 1000
    },
    "outputId": "f3477b6c-054c-414e-e47a-6a3ab74cdf6d"
   },
   "outputs": [
    {
     "output_type": "stream",
     "name": "stdout",
     "text": [
      "Encoder Block Number 1\n"
     ]
    },
    {
     "output_type": "display_data",
     "data": {
      "text/plain": [
       "<Figure size 2000x1000 with 4 Axes>"
      ],
      "image/png": "[encoded data removed]"
     },
     "metadata": {}
    },
    {
     "output_type": "stream",
     "name": "stdout",
     "text": [
      "Encoder Block Number 2\n"
     ]
    },
    {
     "output_type": "display_data",
     "data": {
      "text/plain": [
       "<Figure size 2000x1000 with 4 Axes>"
      ],
      "image/png": "[encoded data removed]"
     },
     "metadata": {}
    },
    {
     "output_type": "stream",
     "name": "stdout",
     "text": [
      "Encoder Block Number 3\n"
     ]
    },
    {
     "output_type": "display_data",
     "data": {
      "text/plain": [
       "<Figure size 2000x1000 with 4 Axes>"
      ],
      "image/png": "[encoded data removed]"
     },
     "metadata": {}
    },
    {
     "output_type": "stream",
     "name": "stdout",
     "text": [
      "Encoder Block Number 4\n"
     ]
    },
    {
     "output_type": "display_data",
     "data": {
      "text/plain": [
       "<Figure size 2000x1000 with 4 Axes>"
      ],
      "image/png": "[encoded data removed]"
     },
     "metadata": {}
    }
   ],
   "source": [
    "for layer in range(num_enc_layers):\n",
    "    fig, axs = plt.subplots(1, num_heads, figsize=(20, 10))\n",
    "    print(\"Encoder Block Number\", layer + 1)\n",
    "    for h in range(num_heads):\n",
    "        draw(\n",
    "            trained_model.encoder.layers[layer]\n",
    "            .multihead.multihead[h]\n",
    "            .weights_softmax.data.cpu()\n",
    "            .numpy()[0],\n",
    "            inp_seq,\n",
    "            inp_seq if h == 0 else [],\n",
    "            ax=axs[h],\n",
    "        )\n",
    "    plt.show()\n",
    "plt.close()"
   ],
   "id": "9cae7e26-2587-4297-a44c-c59ab541dfc8"
  },
  {
   "cell_type": "code",
   "execution_count": null,
   "metadata": {
    "id": "be6ba6cb",
    "executionInfo": {
     "status": "ok",
     "timestamp": 1696383238337,
     "user_tz": -540,
     "elapsed": 5046,
     "user": {
      "displayName": "정화식",
      "userId": "11198258190229176580"
     }
    },
    "colab": {
     "base_uri": "https://localhost:8080/",
     "height": 1000
    },
    "outputId": "29c21d39-e6b3-4464-e58d-ae0515917e33"
   },
   "outputs": [
    {
     "output_type": "stream",
     "name": "stdout",
     "text": [
      "Decoder Block number  1\n",
      "Decoder Self Attention 1\n"
     ]
    },
    {
     "output_type": "display_data",
     "data": {
      "text/plain": [
       "<Figure size 2000x1000 with 4 Axes>"
      ],
      "image/png": "[encoded data removed]"
     },
     "metadata": {}
    },
    {
     "output_type": "stream",
     "name": "stdout",
     "text": [
      "Decoder Cross attention 1\n"
     ]
    },
    {
     "output_type": "display_data",
     "data": {
      "text/plain": [
       "<Figure size 2000x1000 with 4 Axes>"
      ],
      "image/png": "[encoded data removed]"
     },
     "metadata": {}
    },
    {
     "output_type": "stream",
     "name": "stdout",
     "text": [
      "Decoder Block number  2\n",
      "Decoder Self Attention 2\n"
     ]
    },
    {
     "output_type": "display_data",
     "data": {
      "text/plain": [
       "<Figure size 2000x1000 with 4 Axes>"
      ],
      "image/png": "[encoded data removed]"
     },
     "metadata": {}
    },
    {
     "output_type": "stream",
     "name": "stdout",
     "text": [
      "Decoder Cross attention 2\n"
     ]
    },
    {
     "output_type": "display_data",
     "data": {
      "text/plain": [
       "<Figure size 2000x1000 with 4 Axes>"
      ],
      "image/png": "[encoded data removed]"
     },
     "metadata": {}
    },
    {
     "output_type": "stream",
     "name": "stdout",
     "text": [
      "Decoder Block number  3\n",
      "Decoder Self Attention 3\n"
     ]
    },
    {
     "output_type": "display_data",
     "data": {
      "text/plain": [
       "<Figure size 2000x1000 with 4 Axes>"
      ],
      "image/png": "[encoded data removed]"
     },
     "metadata": {}
    },
    {
     "output_type": "stream",
     "name": "stdout",
     "text": [
      "Decoder Cross attention 3\n"
     ]
    },
    {
     "output_type": "display_data",
     "data": {
      "text/plain": [
       "<Figure size 2000x1000 with 4 Axes>"
      ],
      "image/png": "[encoded data removed]"
     },
     "metadata": {}
    },
    {
     "output_type": "stream",
     "name": "stdout",
     "text": [
      "Decoder Block number  4\n",
      "Decoder Self Attention 4\n"
     ]
    },
    {
     "output_type": "display_data",
     "data": {
      "text/plain": [
       "<Figure size 2000x1000 with 4 Axes>"
      ],
      "image/png": "[encoded data removed]"
     },
     "metadata": {}
    },
    {
     "output_type": "stream",
     "name": "stdout",
     "text": [
      "Decoder Cross attention 4\n"
     ]
    },
    {
     "output_type": "display_data",
     "data": {
      "text/plain": [
       "<Figure size 2000x1000 with 4 Axes>"
      ],
      "image/png": "[encoded data removed]"
     },
     "metadata": {}
    }
   ],
   "source": [
    "for layer in range(num_dec_layers):\n",
    "    fig, axs = plt.subplots(1, num_heads, figsize=(20, 10))\n",
    "\n",
    "    print(\"Decoder Block number \", layer + 1)\n",
    "\n",
    "    print(\"Decoder Self Attention\", layer + 1)\n",
    "    for h in range(num_heads):\n",
    "        draw(\n",
    "            trained_model.decoder.layers[layer]\n",
    "            .attention_self.multihead[h]\n",
    "            .weights_softmax.data.cpu()\n",
    "            .numpy()[0],\n",
    "            target_exp,\n",
    "            target_exp if h == 0 else [],\n",
    "            ax=axs[h],\n",
    "        )\n",
    "    plt.show()\n",
    "    print(\"Decoder Cross attention\", layer + 1)\n",
    "    fig, axs = plt.subplots(1, 4, figsize=(20, 10))\n",
    "    for h in range(num_heads):\n",
    "        draw(\n",
    "            trained_model.decoder.layers[layer]\n",
    "            .attention_cross.multihead[h]\n",
    "            .weights_softmax.data.cpu()\n",
    "            .numpy()[0],\n",
    "            inp_seq,\n",
    "            target_exp if h == 0 else [],\n",
    "            ax=axs[h],\n",
    "        )\n",
    "    plt.show()"
   ],
   "id": "be6ba6cb"
  },
  {
   "cell_type": "markdown",
   "metadata": {
    "id": "c8a52caf-c12e-4ca9-986b-cc52fe50545a"
   },
   "source": [
    "# Submit Your Work\n",
    "After completing both notebooks for this assignment (`transformers.ipynb` and this notebook, `rnn_lstm_captionaing.ipynb`), run the following cell to create a `.zip` file for you to download and turn in.\n",
    "\n",
    "**Please MANUALLY SAVE every `*.ipynb` and `*.py` files before executing the following cell:**"
   ],
   "id": "c8a52caf-c12e-4ca9-986b-cc52fe50545a"
  },
  {
   "cell_type": "code",
   "execution_count": null,
   "metadata": {
    "id": "82833983",
    "executionInfo": {
     "status": "error",
     "timestamp": 1696383250548,
     "user_tz": -540,
     "elapsed": 12212,
     "user": {
      "displayName": "정화식",
      "userId": "11198258190229176580"
     }
    },
    "colab": {
     "base_uri": "https://localhost:8080/",
     "height": 363
    },
    "outputId": "4ed35573-271d-45af-d26a-d3c6444255f4"
   },
   "outputs": [
    {
     "output_type": "error",
     "ename": "KeyboardInterrupt",
     "evalue": "ignored",
     "traceback": [
      "\u001B[0;31m---------------------------------------------------------------------------\u001B[0m",
      "\u001B[0;31mKeyboardInterrupt\u001B[0m                         Traceback (most recent call last)",
      "\u001B[0;32m<ipython-input-55-182ea7dfe875>\u001B[0m in \u001B[0;36m<cell line: 6>\u001B[0;34m()\u001B[0m\n\u001B[1;32m      4\u001B[0m \u001B[0muniquename\u001B[0m \u001B[0;34m=\u001B[0m \u001B[0;32mNone\u001B[0m\u001B[0;34m\u001B[0m\u001B[0;34m\u001B[0m\u001B[0m\n\u001B[1;32m      5\u001B[0m \u001B[0mumid\u001B[0m \u001B[0;34m=\u001B[0m \u001B[0;32mNone\u001B[0m\u001B[0;34m\u001B[0m\u001B[0;34m\u001B[0m\u001B[0m\n\u001B[0;32m----> 6\u001B[0;31m \u001B[0mmake_a5_submission\u001B[0m\u001B[0;34m(\u001B[0m\u001B[0mGOOGLE_DRIVE_PATH\u001B[0m\u001B[0;34m,\u001B[0m \u001B[0muniquename\u001B[0m\u001B[0;34m,\u001B[0m \u001B[0mumid\u001B[0m\u001B[0;34m)\u001B[0m\u001B[0;34m\u001B[0m\u001B[0;34m\u001B[0m\u001B[0m\n\u001B[0m",
      "\u001B[0;32m/content/drive/My Drive/A4/eecs598/submit.py\u001B[0m in \u001B[0;36mmake_a5_submission\u001B[0;34m(assignment_path, uniquename, umid)\u001B[0m\n\u001B[1;32m     77\u001B[0m \u001B[0;34m\u001B[0m\u001B[0m\n\u001B[1;32m     78\u001B[0m \u001B[0;32mdef\u001B[0m \u001B[0mmake_a5_submission\u001B[0m\u001B[0;34m(\u001B[0m\u001B[0massignment_path\u001B[0m\u001B[0;34m,\u001B[0m \u001B[0muniquename\u001B[0m\u001B[0;34m=\u001B[0m\u001B[0;32mNone\u001B[0m\u001B[0;34m,\u001B[0m \u001B[0mumid\u001B[0m\u001B[0;34m=\u001B[0m\u001B[0;32mNone\u001B[0m\u001B[0;34m)\u001B[0m\u001B[0;34m:\u001B[0m\u001B[0;34m\u001B[0m\u001B[0;34m\u001B[0m\u001B[0m\n\u001B[0;32m---> 79\u001B[0;31m     \u001B[0m_make_submission\u001B[0m\u001B[0;34m(\u001B[0m\u001B[0massignment_path\u001B[0m\u001B[0;34m,\u001B[0m \u001B[0m_A5_FILES\u001B[0m\u001B[0;34m,\u001B[0m \u001B[0;34m\"A5\"\u001B[0m\u001B[0;34m,\u001B[0m \u001B[0muniquename\u001B[0m\u001B[0;34m,\u001B[0m \u001B[0mumid\u001B[0m\u001B[0;34m)\u001B[0m\u001B[0;34m\u001B[0m\u001B[0;34m\u001B[0m\u001B[0m\n\u001B[0m\u001B[1;32m     80\u001B[0m \u001B[0;34m\u001B[0m\u001B[0m\n\u001B[1;32m     81\u001B[0m \u001B[0;34m\u001B[0m\u001B[0m\n",
      "\u001B[0;32m/content/drive/My Drive/A4/eecs598/submit.py\u001B[0m in \u001B[0;36m_make_submission\u001B[0;34m(assignment_path, file_list, assignment_no, uniquename, umid)\u001B[0m\n\u001B[1;32m     88\u001B[0m ):\n\u001B[1;32m     89\u001B[0m     \u001B[0;32mif\u001B[0m \u001B[0muniquename\u001B[0m \u001B[0;32mis\u001B[0m \u001B[0;32mNone\u001B[0m \u001B[0;32mor\u001B[0m \u001B[0mumid\u001B[0m \u001B[0;32mis\u001B[0m \u001B[0;32mNone\u001B[0m\u001B[0;34m:\u001B[0m\u001B[0;34m\u001B[0m\u001B[0;34m\u001B[0m\u001B[0m\n\u001B[0;32m---> 90\u001B[0;31m         \u001B[0muniquename\u001B[0m\u001B[0;34m,\u001B[0m \u001B[0mumid\u001B[0m \u001B[0;34m=\u001B[0m \u001B[0m_get_user_info\u001B[0m\u001B[0;34m(\u001B[0m\u001B[0;34m)\u001B[0m\u001B[0;34m\u001B[0m\u001B[0;34m\u001B[0m\u001B[0m\n\u001B[0m\u001B[1;32m     91\u001B[0m     \u001B[0mzip_path\u001B[0m \u001B[0;34m=\u001B[0m \u001B[0;34mf\"{uniquename}_{umid}_{assignment_no}.zip\"\u001B[0m\u001B[0;34m\u001B[0m\u001B[0;34m\u001B[0m\u001B[0m\n\u001B[1;32m     92\u001B[0m     \u001B[0mzip_path\u001B[0m \u001B[0;34m=\u001B[0m \u001B[0mos\u001B[0m\u001B[0;34m.\u001B[0m\u001B[0mpath\u001B[0m\u001B[0;34m.\u001B[0m\u001B[0mjoin\u001B[0m\u001B[0;34m(\u001B[0m\u001B[0massignment_path\u001B[0m\u001B[0;34m,\u001B[0m \u001B[0mzip_path\u001B[0m\u001B[0;34m)\u001B[0m\u001B[0;34m\u001B[0m\u001B[0;34m\u001B[0m\u001B[0m\n",
      "\u001B[0;32m/content/drive/My Drive/A4/eecs598/submit.py\u001B[0m in \u001B[0;36m_get_user_info\u001B[0;34m()\u001B[0m\n\u001B[1;32m    108\u001B[0m     \u001B[0mumid\u001B[0m \u001B[0;34m=\u001B[0m \u001B[0;32mNone\u001B[0m\u001B[0;34m\u001B[0m\u001B[0;34m\u001B[0m\u001B[0m\n\u001B[1;32m    109\u001B[0m     \u001B[0;32mif\u001B[0m \u001B[0muniquename\u001B[0m \u001B[0;32mis\u001B[0m \u001B[0;32mNone\u001B[0m\u001B[0;34m:\u001B[0m\u001B[0;34m\u001B[0m\u001B[0;34m\u001B[0m\u001B[0m\n\u001B[0;32m--> 110\u001B[0;31m         \u001B[0muniquename\u001B[0m \u001B[0;34m=\u001B[0m \u001B[0minput\u001B[0m\u001B[0;34m(\u001B[0m\u001B[0;34m\"Enter your uniquename (e.g. justincj): \"\u001B[0m\u001B[0;34m)\u001B[0m\u001B[0;34m\u001B[0m\u001B[0;34m\u001B[0m\u001B[0m\n\u001B[0m\u001B[1;32m    111\u001B[0m     \u001B[0;32mif\u001B[0m \u001B[0mumid\u001B[0m \u001B[0;32mis\u001B[0m \u001B[0;32mNone\u001B[0m\u001B[0;34m:\u001B[0m\u001B[0;34m\u001B[0m\u001B[0;34m\u001B[0m\u001B[0m\n\u001B[1;32m    112\u001B[0m         \u001B[0mumid\u001B[0m \u001B[0;34m=\u001B[0m \u001B[0minput\u001B[0m\u001B[0;34m(\u001B[0m\u001B[0;34m\"Enter your umid (e.g. 12345678): \"\u001B[0m\u001B[0;34m)\u001B[0m\u001B[0;34m\u001B[0m\u001B[0;34m\u001B[0m\u001B[0m\n",
      "\u001B[0;32m/usr/local/lib/python3.10/dist-packages/ipykernel/kernelbase.py\u001B[0m in \u001B[0;36mraw_input\u001B[0;34m(self, prompt)\u001B[0m\n\u001B[1;32m    849\u001B[0m                 \u001B[0;34m\"raw_input was called, but this frontend does not support input requests.\"\u001B[0m\u001B[0;34m\u001B[0m\u001B[0;34m\u001B[0m\u001B[0m\n\u001B[1;32m    850\u001B[0m             )\n\u001B[0;32m--> 851\u001B[0;31m         return self._input_request(str(prompt),\n\u001B[0m\u001B[1;32m    852\u001B[0m             \u001B[0mself\u001B[0m\u001B[0;34m.\u001B[0m\u001B[0m_parent_ident\u001B[0m\u001B[0;34m,\u001B[0m\u001B[0;34m\u001B[0m\u001B[0;34m\u001B[0m\u001B[0m\n\u001B[1;32m    853\u001B[0m             \u001B[0mself\u001B[0m\u001B[0;34m.\u001B[0m\u001B[0m_parent_header\u001B[0m\u001B[0;34m,\u001B[0m\u001B[0;34m\u001B[0m\u001B[0;34m\u001B[0m\u001B[0m\n",
      "\u001B[0;32m/usr/local/lib/python3.10/dist-packages/ipykernel/kernelbase.py\u001B[0m in \u001B[0;36m_input_request\u001B[0;34m(self, prompt, ident, parent, password)\u001B[0m\n\u001B[1;32m    893\u001B[0m             \u001B[0;32mexcept\u001B[0m \u001B[0mKeyboardInterrupt\u001B[0m\u001B[0;34m:\u001B[0m\u001B[0;34m\u001B[0m\u001B[0;34m\u001B[0m\u001B[0m\n\u001B[1;32m    894\u001B[0m                 \u001B[0;31m# re-raise KeyboardInterrupt, to truncate traceback\u001B[0m\u001B[0;34m\u001B[0m\u001B[0;34m\u001B[0m\u001B[0m\n\u001B[0;32m--> 895\u001B[0;31m                 \u001B[0;32mraise\u001B[0m \u001B[0mKeyboardInterrupt\u001B[0m\u001B[0;34m(\u001B[0m\u001B[0;34m\"Interrupted by user\"\u001B[0m\u001B[0;34m)\u001B[0m \u001B[0;32mfrom\u001B[0m \u001B[0;32mNone\u001B[0m\u001B[0;34m\u001B[0m\u001B[0;34m\u001B[0m\u001B[0m\n\u001B[0m\u001B[1;32m    896\u001B[0m             \u001B[0;32mexcept\u001B[0m \u001B[0mException\u001B[0m \u001B[0;32mas\u001B[0m \u001B[0me\u001B[0m\u001B[0;34m:\u001B[0m\u001B[0;34m\u001B[0m\u001B[0;34m\u001B[0m\u001B[0m\n\u001B[1;32m    897\u001B[0m                 \u001B[0mself\u001B[0m\u001B[0;34m.\u001B[0m\u001B[0mlog\u001B[0m\u001B[0;34m.\u001B[0m\u001B[0mwarning\u001B[0m\u001B[0;34m(\u001B[0m\u001B[0;34m\"Invalid Message:\"\u001B[0m\u001B[0;34m,\u001B[0m \u001B[0mexc_info\u001B[0m\u001B[0;34m=\u001B[0m\u001B[0;32mTrue\u001B[0m\u001B[0;34m)\u001B[0m\u001B[0;34m\u001B[0m\u001B[0;34m\u001B[0m\u001B[0m\n",
      "\u001B[0;31mKeyboardInterrupt\u001B[0m: Interrupted by user"
     ]
    }
   ],
   "source": [
    "from eecs598.submit import make_a5_submission\n",
    "\n",
    "# TODO: Replace these with your actual uniquename and umid\n",
    "uniquename = None\n",
    "umid = None\n",
    "make_a5_submission(GOOGLE_DRIVE_PATH, uniquename, umid)"
   ],
   "id": "82833983"
  }
 ],
 "metadata": {
  "accelerator": "GPU",
  "colab": {
   "provenance": []
  },
  "interpreter": {
   "hash": "3e6a8e772529b48ea93620fbc55d49ea9e469a86dedbc53ac24607b5264d00e5"
  },
  "kernelspec": {
   "display_name": "Python 3 (ipykernel)",
   "language": "python",
   "name": "python3"
  },
  "language_info": {
   "codemirror_mode": {
    "name": "ipython",
    "version": 3
   },
   "file_extension": ".py",
   "mimetype": "text/x-python",
   "name": "python",
   "nbconvert_exporter": "python",
   "pygments_lexer": "ipython3",
   "version": "3.7.11"
  }
 },
 "nbformat": 4,
 "nbformat_minor": 5
}
